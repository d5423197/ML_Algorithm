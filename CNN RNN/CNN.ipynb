{
 "cells": [
  {
   "cell_type": "code",
   "execution_count": 1,
   "metadata": {
    "scrolled": true
   },
   "outputs": [
    {
     "name": "stderr",
     "output_type": "stream",
     "text": [
      "Using TensorFlow backend.\n"
     ]
    }
   ],
   "source": [
    "import pandas as pd\n",
    "import numpy as np\n",
    "from keras.utils import to_categorical\n",
    "from sklearn.model_selection import train_test_split"
   ]
  },
  {
   "cell_type": "markdown",
   "metadata": {},
   "source": [
    "## Import data"
   ]
  },
  {
   "cell_type": "code",
   "execution_count": 2,
   "metadata": {},
   "outputs": [],
   "source": [
    "data_train = pd.read_csv(\"fashion-mnist_train.csv\")\n",
    "data_test = pd.read_csv(\"fashion-mnist_test.csv\")"
   ]
  },
  {
   "cell_type": "markdown",
   "metadata": {},
   "source": [
    "## Assign X and y"
   ]
  },
  {
   "cell_type": "code",
   "execution_count": 3,
   "metadata": {},
   "outputs": [],
   "source": [
    "x_train = np.array(data_train.iloc[:,1:])\n",
    "y_train = np.array(data_train.iloc[:,0])"
   ]
  },
  {
   "cell_type": "markdown",
   "metadata": {},
   "source": [
    "## OneHotEncode"
   ]
  },
  {
   "cell_type": "code",
   "execution_count": 4,
   "metadata": {},
   "outputs": [],
   "source": [
    "y_train = to_categorical(y_train)"
   ]
  },
  {
   "cell_type": "markdown",
   "metadata": {},
   "source": [
    "## Split into train, validation set"
   ]
  },
  {
   "cell_type": "code",
   "execution_count": 5,
   "metadata": {},
   "outputs": [],
   "source": [
    "x_train, x_val, y_train, y_val = train_test_split(x_train, y_train, test_size=0.2)"
   ]
  },
  {
   "cell_type": "code",
   "execution_count": 6,
   "metadata": {},
   "outputs": [],
   "source": [
    "x_test = np.array(data_test.iloc[:,1:])\n",
    "y_test = to_categorical(np.array(data_test.iloc[:,0]))"
   ]
  },
  {
   "cell_type": "markdown",
   "metadata": {},
   "source": [
    "## Reshape dataset and normalize"
   ]
  },
  {
   "cell_type": "code",
   "execution_count": 7,
   "metadata": {},
   "outputs": [],
   "source": [
    "x_train = x_train.reshape(x_train.shape[0], 28, 28, 1)\n",
    "x_train = x_train.astype(\"float32\")\n",
    "x_train /= 255\n",
    "\n",
    "x_test = x_test.reshape(x_test.shape[0], 28, 28, 1)\n",
    "x_test = x_test.astype(\"float32\")\n",
    "x_test /= 255\n",
    "\n",
    "x_val = x_val.reshape(x_val.shape[0], 28, 28, 1)\n",
    "x_val = x_val.astype(\"float32\")\n",
    "x_val /= 255"
   ]
  },
  {
   "cell_type": "code",
   "execution_count": 8,
   "metadata": {},
   "outputs": [],
   "source": [
    "from keras.models import Sequential\n",
    "from keras.layers import Dense, Dropout, Flatten\n",
    "from keras.layers import Conv2D, MaxPooling2D"
   ]
  },
  {
   "cell_type": "markdown",
   "metadata": {},
   "source": [
    "## Create model"
   ]
  },
  {
   "cell_type": "code",
   "execution_count": 9,
   "metadata": {},
   "outputs": [],
   "source": [
    "model = Sequential()\n",
    "model.add(Conv2D(filters = 64, kernel_size = (3,3), activation = \"relu\", input_shape = (28,28,1)))"
   ]
  },
  {
   "cell_type": "code",
   "execution_count": 10,
   "metadata": {},
   "outputs": [],
   "source": [
    "model.add(MaxPooling2D(pool_size = (2,2)))\n",
    "model.add(Dropout(0.25))\n",
    "model.add(Conv2D(filters = 64, kernel_size = (3,3), activation = \"relu\"))\n",
    "model.add(MaxPooling2D(pool_size = (2,2)))\n",
    "model.add(Dropout(0.25))\n",
    "model.add(Conv2D(filters = 64, kernel_size = (3,3), activation = \"relu\"))\n",
    "model.add(Dropout(0.25))"
   ]
  },
  {
   "cell_type": "code",
   "execution_count": 11,
   "metadata": {},
   "outputs": [],
   "source": [
    "model.add(Flatten())\n",
    "model.add(Dense(units = 256, activation = \"relu\"))\n",
    "model.add(Dense(units = 10, activation = \"softmax\"))"
   ]
  },
  {
   "cell_type": "code",
   "execution_count": 12,
   "metadata": {
    "scrolled": true
   },
   "outputs": [
    {
     "name": "stdout",
     "output_type": "stream",
     "text": [
      "Model: \"sequential_1\"\n",
      "_________________________________________________________________\n",
      "Layer (type)                 Output Shape              Param #   \n",
      "=================================================================\n",
      "conv2d_1 (Conv2D)            (None, 26, 26, 64)        640       \n",
      "_________________________________________________________________\n",
      "max_pooling2d_1 (MaxPooling2 (None, 13, 13, 64)        0         \n",
      "_________________________________________________________________\n",
      "dropout_1 (Dropout)          (None, 13, 13, 64)        0         \n",
      "_________________________________________________________________\n",
      "conv2d_2 (Conv2D)            (None, 11, 11, 64)        36928     \n",
      "_________________________________________________________________\n",
      "max_pooling2d_2 (MaxPooling2 (None, 5, 5, 64)          0         \n",
      "_________________________________________________________________\n",
      "dropout_2 (Dropout)          (None, 5, 5, 64)          0         \n",
      "_________________________________________________________________\n",
      "conv2d_3 (Conv2D)            (None, 3, 3, 64)          36928     \n",
      "_________________________________________________________________\n",
      "dropout_3 (Dropout)          (None, 3, 3, 64)          0         \n",
      "_________________________________________________________________\n",
      "flatten_1 (Flatten)          (None, 576)               0         \n",
      "_________________________________________________________________\n",
      "dense_1 (Dense)              (None, 256)               147712    \n",
      "_________________________________________________________________\n",
      "dense_2 (Dense)              (None, 10)                2570      \n",
      "=================================================================\n",
      "Total params: 224,778\n",
      "Trainable params: 224,778\n",
      "Non-trainable params: 0\n",
      "_________________________________________________________________\n"
     ]
    }
   ],
   "source": [
    "model.summary()"
   ]
  },
  {
   "cell_type": "code",
   "execution_count": 13,
   "metadata": {},
   "outputs": [],
   "source": [
    "model.compile(optimizer = \"rmsprop\", loss = \"categorical_crossentropy\", metrics = ['accuracy'])"
   ]
  },
  {
   "cell_type": "code",
   "execution_count": 14,
   "metadata": {
    "scrolled": true
   },
   "outputs": [
    {
     "name": "stdout",
     "output_type": "stream",
     "text": [
      "Train on 48000 samples, validate on 12000 samples\n",
      "Epoch 1/20\n",
      "48000/48000 [==============================] - 28s 582us/step - loss: 1.1618 - accuracy: 0.5719 - val_loss: 0.7518 - val_accuracy: 0.6943\n",
      "Epoch 2/20\n",
      "48000/48000 [==============================] - 28s 576us/step - loss: 0.6745 - accuracy: 0.7422 - val_loss: 0.6198 - val_accuracy: 0.7596\n",
      "Epoch 3/20\n",
      "48000/48000 [==============================] - 28s 584us/step - loss: 0.5772 - accuracy: 0.7815 - val_loss: 0.4980 - val_accuracy: 0.8173\n",
      "Epoch 4/20\n",
      "48000/48000 [==============================] - 28s 580us/step - loss: 0.5127 - accuracy: 0.8061 - val_loss: 0.4850 - val_accuracy: 0.8238\n",
      "Epoch 5/20\n",
      "48000/48000 [==============================] - 28s 579us/step - loss: 0.4686 - accuracy: 0.8249 - val_loss: 0.3992 - val_accuracy: 0.8583\n",
      "Epoch 6/20\n",
      "48000/48000 [==============================] - 28s 582us/step - loss: 0.4370 - accuracy: 0.8370 - val_loss: 0.3786 - val_accuracy: 0.8638\n",
      "Epoch 7/20\n",
      "48000/48000 [==============================] - 28s 580us/step - loss: 0.4069 - accuracy: 0.8488 - val_loss: 0.3733 - val_accuracy: 0.8672\n",
      "Epoch 8/20\n",
      "48000/48000 [==============================] - 28s 591us/step - loss: 0.3915 - accuracy: 0.8533 - val_loss: 0.3446 - val_accuracy: 0.8767\n",
      "Epoch 9/20\n",
      "48000/48000 [==============================] - 28s 589us/step - loss: 0.3699 - accuracy: 0.8624 - val_loss: 0.3288 - val_accuracy: 0.8790\n",
      "Epoch 10/20\n",
      "48000/48000 [==============================] - 28s 589us/step - loss: 0.3545 - accuracy: 0.8677 - val_loss: 0.3204 - val_accuracy: 0.8878\n",
      "Epoch 11/20\n",
      "48000/48000 [==============================] - 28s 580us/step - loss: 0.3418 - accuracy: 0.8729 - val_loss: 0.3158 - val_accuracy: 0.8844\n",
      "Epoch 12/20\n",
      "48000/48000 [==============================] - 28s 585us/step - loss: 0.3341 - accuracy: 0.8758 - val_loss: 0.3122 - val_accuracy: 0.8792\n",
      "Epoch 13/20\n",
      "48000/48000 [==============================] - 28s 583us/step - loss: 0.3232 - accuracy: 0.8804 - val_loss: 0.2891 - val_accuracy: 0.8940\n",
      "Epoch 14/20\n",
      "48000/48000 [==============================] - 28s 582us/step - loss: 0.3144 - accuracy: 0.8836 - val_loss: 0.2861 - val_accuracy: 0.8973\n",
      "Epoch 15/20\n",
      "48000/48000 [==============================] - 28s 583us/step - loss: 0.3067 - accuracy: 0.8855 - val_loss: 0.2889 - val_accuracy: 0.8966\n",
      "Epoch 16/20\n",
      "48000/48000 [==============================] - 28s 582us/step - loss: 0.2979 - accuracy: 0.8892 - val_loss: 0.2817 - val_accuracy: 0.8954\n",
      "Epoch 17/20\n",
      "48000/48000 [==============================] - 28s 584us/step - loss: 0.2927 - accuracy: 0.8908 - val_loss: 0.2936 - val_accuracy: 0.8877\n",
      "Epoch 18/20\n",
      "48000/48000 [==============================] - 28s 585us/step - loss: 0.2892 - accuracy: 0.8918 - val_loss: 0.2588 - val_accuracy: 0.9069\n",
      "Epoch 19/20\n",
      "48000/48000 [==============================] - 28s 582us/step - loss: 0.2805 - accuracy: 0.8956 - val_loss: 0.2630 - val_accuracy: 0.9057\n",
      "Epoch 20/20\n",
      "48000/48000 [==============================] - 28s 582us/step - loss: 0.2743 - accuracy: 0.8970 - val_loss: 0.2557 - val_accuracy: 0.9097\n"
     ]
    }
   ],
   "source": [
    "network = model.fit(x_train, y_train, epochs = 20, batch_size = 1024, validation_data=(x_val,y_val))"
   ]
  },
  {
   "cell_type": "code",
   "execution_count": 15,
   "metadata": {
    "scrolled": true
   },
   "outputs": [
    {
     "data": {
      "text/plain": [
       "[0.24868908247947694, 0.9072999954223633]"
      ]
     },
     "execution_count": 15,
     "metadata": {},
     "output_type": "execute_result"
    }
   ],
   "source": [
    "model.evaluate(x_test, y_test, verbose=0)"
   ]
  },
  {
   "cell_type": "code",
   "execution_count": 16,
   "metadata": {},
   "outputs": [],
   "source": [
    "from matplotlib import pyplot as plt"
   ]
  },
  {
   "cell_type": "code",
   "execution_count": 17,
   "metadata": {},
   "outputs": [
    {
     "data": {
      "image/png": "[encoded data removed]",
      "text/plain": [
       "<Figure size 432x288 with 1 Axes>"
      ]
     },
     "metadata": {
      "needs_background": "light"
     },
     "output_type": "display_data"
    }
   ],
   "source": [
    "plt.plot(network.history[\"loss\"], label=\"train_loss\")\n",
    "plt.plot(network.history[\"val_loss\"], label=\"val_loss\")\n",
    "plt.legend()\n",
    "plt.title(\"CNN LOSS\")\n",
    "plt.show()"
   ]
  },
  {
   "cell_type": "code",
   "execution_count": 18,
   "metadata": {},
   "outputs": [
    {
     "data": {
      "image/png": "[encoded data removed]",
      "text/plain": [
       "<Figure size 432x288 with 1 Axes>"
      ]
     },
     "metadata": {
      "needs_background": "light"
     },
     "output_type": "display_data"
    }
   ],
   "source": [
    "plt.plot(network.history[\"accuracy\"], label=\"train_acc\")\n",
    "plt.plot(network.history[\"val_accuracy\"], label=\"val_acc\")\n",
    "plt.legend()\n",
    "plt.title(\"CNN ACC\")\n",
    "plt.show()"
   ]
  },
  {
   "cell_type": "markdown",
   "metadata": {},
   "source": [
    "I obeserved there is no overfitting. "
   ]
  },
  {
   "cell_type": "code",
   "execution_count": 19,
   "metadata": {},
   "outputs": [],
   "source": [
    "from sklearn.metrics import confusion_matrix,accuracy_score"
   ]
  },
  {
   "cell_type": "code",
   "execution_count": 20,
   "metadata": {},
   "outputs": [
    {
     "data": {
      "text/plain": [
       "array([[900,   3,  12,  10,   2,   0,  66,   0,   7,   0],\n",
       "       [  1, 985,   2,   8,   1,   1,   2,   0,   0,   0],\n",
       "       [ 18,   3, 846,   9,  69,   0,  51,   0,   4,   0],\n",
       "       [ 29,   6,   8, 906,  35,   0,  16,   0,   0,   0],\n",
       "       [  0,   3,  39,  15, 889,   0,  53,   0,   1,   0],\n",
       "       [  1,   0,   0,   0,   0, 964,   0,  26,   1,   8],\n",
       "       [164,   2,  69,  14,  71,   0, 671,   0,   9,   0],\n",
       "       [  0,   0,   0,   0,   0,   4,   0, 955,   0,  41],\n",
       "       [  2,   3,   3,   0,   2,   1,   3,   1, 984,   1],\n",
       "       [  0,   0,   0,   0,   0,   1,   0,  25,   1, 973]], dtype=int64)"
      ]
     },
     "execution_count": 20,
     "metadata": {},
     "output_type": "execute_result"
    }
   ],
   "source": [
    "confusion_matrix(data_test[\"label\"].values,model.predict_classes(x_test))"
   ]
  },
  {
   "cell_type": "code",
   "execution_count": 21,
   "metadata": {},
   "outputs": [
    {
     "data": {
      "text/plain": [
       "0.9073"
      ]
     },
     "execution_count": 21,
     "metadata": {},
     "output_type": "execute_result"
    }
   ],
   "source": [
    "accuracy_score(data_test[\"label\"].values,model.predict_classes(x_test))"
   ]
  }
 ],
 "metadata": {
  "kernelspec": {
   "display_name": "Python 3",
   "language": "python",
   "name": "python3"
  },
  "language_info": {
   "codemirror_mode": {
    "name": "ipython",
    "version": 3
   },
   "file_extension": ".py",
   "mimetype": "text/x-python",
   "name": "python",
   "nbconvert_exporter": "python",
   "pygments_lexer": "ipython3",
   "version": "3.7.7"
  }
 },
 "nbformat": 4,
 "nbformat_minor": 4
}
