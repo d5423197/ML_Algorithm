{
 "cells": [
  {
   "cell_type": "code",
   "execution_count": 56,
   "metadata": {},
   "outputs": [],
   "source": [
    "import pandas as pd\n",
    "import numpy as np\n",
    "import matplotlib.pyplot as plt\n",
    "from sklearn.preprocessing import MinMaxScaler\n",
    "from keras.models import load_model"
   ]
  },
  {
   "cell_type": "code",
   "execution_count": 57,
   "metadata": {},
   "outputs": [],
   "source": [
    "df = pd.read_csv(\"admData20.csv\")"
   ]
  },
  {
   "cell_type": "code",
   "execution_count": 58,
   "metadata": {},
   "outputs": [],
   "source": [
    "target = df.AdmittedNum.values"
   ]
  },
  {
   "cell_type": "code",
   "execution_count": 59,
   "metadata": {},
   "outputs": [],
   "source": [
    "trainPortion = round(target.shape[0]*0.7)\n",
    "valPortion = round(target.shape[0]*0.15)"
   ]
  },
  {
   "cell_type": "code",
   "execution_count": 60,
   "metadata": {},
   "outputs": [],
   "source": [
    "trainData = target[:trainPortion]\n",
    "valData = target[trainPortion:trainPortion + valPortion]\n",
    "testData = target[trainPortion+valPortion:]"
   ]
  },
  {
   "cell_type": "code",
   "execution_count": 61,
   "metadata": {},
   "outputs": [],
   "source": [
    "trainData = trainData.reshape(-1,1)\n",
    "valData = valData.reshape(-1,1)\n",
    "testData = testData.reshape(-1,1)"
   ]
  },
  {
   "cell_type": "code",
   "execution_count": 62,
   "metadata": {},
   "outputs": [],
   "source": [
    "sc = MinMaxScaler(feature_range=(0,1))\n",
    "sc.fit(trainData)\n",
    "trainNorm = sc.transform(trainData)\n",
    "valNorm = sc.transform(valData)\n",
    "testNorm = sc.transform(testData)"
   ]
  },
  {
   "cell_type": "code",
   "execution_count": 63,
   "metadata": {},
   "outputs": [],
   "source": [
    "def createSeq(dataset, look_back=4, foresight=3):\n",
    "    X,Y=[],[]\n",
    "    for i in range(len(dataset)-look_back-foresight):\n",
    "        obs = dataset[i:(i+look_back),0]\n",
    "        X.append(obs)\n",
    "        Y.append(dataset[(i+look_back): (i + (look_back +foresight)),0])\n",
    "    return np.array(X),np.array(Y)"
   ]
  },
  {
   "cell_type": "code",
   "execution_count": 64,
   "metadata": {},
   "outputs": [],
   "source": [
    "trainNormX, trainNormY = createSeq(trainNorm,2,5)"
   ]
  },
  {
   "cell_type": "code",
   "execution_count": 65,
   "metadata": {},
   "outputs": [],
   "source": [
    "valNormX, valNormY = createSeq(valNorm,2,5)\n",
    "testNormX, testNormY = createSeq(testNorm,2,5)"
   ]
  },
  {
   "cell_type": "code",
   "execution_count": 66,
   "metadata": {},
   "outputs": [],
   "source": [
    "trainNormX = np.reshape(trainNormX, (trainNormX.shape[0],trainNormX.shape[1],1))\n",
    "valNormX = np.reshape(valNormX, (valNormX.shape[0],valNormX.shape[1],1))\n",
    "testNormX = np.reshape(testNormX, (testNormX.shape[0],testNormX.shape[1],1))"
   ]
  },
  {
   "cell_type": "markdown",
   "metadata": {},
   "source": [
    "trainNormY = np.reshape(trainNormY, (trainNormY.shape[0],trainNormY.shape[1],1))\n",
    "valNormY = np.reshape(valNormY, (valNormY.shape[0],valNormY.shape[1],1))\n",
    "testNormY = np.reshape(testNormY, (testNormY.shape[0],testNormY.shape[1],1))"
   ]
  },
  {
   "cell_type": "code",
   "execution_count": 67,
   "metadata": {},
   "outputs": [],
   "source": [
    "from keras.models import Sequential\n",
    "from keras.layers import LSTM, GRU, Dense\n",
    "from keras.layers import Dropout, Flatten\n",
    "from keras.callbacks import ModelCheckpoint, EarlyStopping"
   ]
  },
  {
   "cell_type": "code",
   "execution_count": 68,
   "metadata": {
    "scrolled": true
   },
   "outputs": [
    {
     "data": {
      "text/plain": [
       "(2, 1)"
      ]
     },
     "execution_count": 68,
     "metadata": {},
     "output_type": "execute_result"
    }
   ],
   "source": [
    "trainNormX.shape[1:]"
   ]
  },
  {
   "cell_type": "markdown",
   "metadata": {},
   "source": [
    "## LSTM"
   ]
  },
  {
   "cell_type": "code",
   "execution_count": 69,
   "metadata": {},
   "outputs": [
    {
     "name": "stdout",
     "output_type": "stream",
     "text": [
      "Model: \"sequential_6\"\n",
      "_________________________________________________________________\n",
      "Layer (type)                 Output Shape              Param #   \n",
      "=================================================================\n",
      "lstm_3 (LSTM)                (None, 24)                2496      \n",
      "_________________________________________________________________\n",
      "dense_7 (Dense)              (None, 5)                 125       \n",
      "=================================================================\n",
      "Total params: 2,621\n",
      "Trainable params: 2,621\n",
      "Non-trainable params: 0\n",
      "_________________________________________________________________\n"
     ]
    }
   ],
   "source": [
    "model = Sequential()\n",
    "model.add(LSTM(24, input_shape = trainNormX.shape[1:], dropout = 0.1, recurrent_dropout = 0.1))\n",
    "model.add(Dense(5, activation = \"linear\"))\n",
    "model.compile(loss=\"mae\", optimizer=\"adam\",metrics=[\"mean_absolute_error\"])\n",
    "model.summary()"
   ]
  },
  {
   "cell_type": "code",
   "execution_count": 70,
   "metadata": {
    "scrolled": true
   },
   "outputs": [
    {
     "name": "stdout",
     "output_type": "stream",
     "text": [
      "Train on 96 samples, validate on 15 samples\n",
      "Epoch 1/100\n",
      "96/96 [==============================] - 1s 6ms/step - loss: 0.1992 - mean_absolute_error: 0.1992 - val_loss: 0.2373 - val_mean_absolute_error: 0.2373\n",
      "Epoch 2/100\n",
      "96/96 [==============================] - 0s 1ms/step - loss: 0.1819 - mean_absolute_error: 0.1819 - val_loss: 0.2252 - val_mean_absolute_error: 0.2252\n",
      "Epoch 3/100\n",
      "96/96 [==============================] - 0s 1ms/step - loss: 0.1767 - mean_absolute_error: 0.1767 - val_loss: 0.2178 - val_mean_absolute_error: 0.2178\n",
      "Epoch 4/100\n",
      "96/96 [==============================] - 0s 1ms/step - loss: 0.1719 - mean_absolute_error: 0.1719 - val_loss: 0.2135 - val_mean_absolute_error: 0.2135\n",
      "Epoch 5/100\n",
      "96/96 [==============================] - 0s 1ms/step - loss: 0.1695 - mean_absolute_error: 0.1695 - val_loss: 0.2080 - val_mean_absolute_error: 0.2080\n",
      "Epoch 6/100\n",
      "96/96 [==============================] - 0s 1ms/step - loss: 0.1682 - mean_absolute_error: 0.1682 - val_loss: 0.2048 - val_mean_absolute_error: 0.2048\n",
      "Epoch 7/100\n",
      "96/96 [==============================] - 0s 1ms/step - loss: 0.1646 - mean_absolute_error: 0.1646 - val_loss: 0.2033 - val_mean_absolute_error: 0.2033\n",
      "Epoch 8/100\n",
      "96/96 [==============================] - 0s 1ms/step - loss: 0.1641 - mean_absolute_error: 0.1641 - val_loss: 0.2016 - val_mean_absolute_error: 0.2016\n",
      "Epoch 9/100\n",
      "96/96 [==============================] - 0s 1ms/step - loss: 0.1592 - mean_absolute_error: 0.1592 - val_loss: 0.1979 - val_mean_absolute_error: 0.1979\n",
      "Epoch 10/100\n",
      "96/96 [==============================] - 0s 1ms/step - loss: 0.1586 - mean_absolute_error: 0.1586 - val_loss: 0.1971 - val_mean_absolute_error: 0.1971\n",
      "Epoch 11/100\n",
      "96/96 [==============================] - 0s 951us/step - loss: 0.1616 - mean_absolute_error: 0.1616 - val_loss: 0.1963 - val_mean_absolute_error: 0.1963\n",
      "Epoch 12/100\n",
      "96/96 [==============================] - 0s 1ms/step - loss: 0.1591 - mean_absolute_error: 0.1591 - val_loss: 0.1950 - val_mean_absolute_error: 0.1950\n",
      "Epoch 13/100\n",
      "96/96 [==============================] - 0s 1ms/step - loss: 0.1564 - mean_absolute_error: 0.1564 - val_loss: 0.1914 - val_mean_absolute_error: 0.1914\n",
      "Epoch 14/100\n",
      "96/96 [==============================] - 0s 931us/step - loss: 0.1593 - mean_absolute_error: 0.1593 - val_loss: 0.1927 - val_mean_absolute_error: 0.1927\n",
      "Epoch 15/100\n",
      "96/96 [==============================] - 0s 1ms/step - loss: 0.1482 - mean_absolute_error: 0.1482 - val_loss: 0.1909 - val_mean_absolute_error: 0.1909\n",
      "Epoch 16/100\n",
      "96/96 [==============================] - 0s 1ms/step - loss: 0.1576 - mean_absolute_error: 0.1576 - val_loss: 0.1931 - val_mean_absolute_error: 0.1931\n",
      "Epoch 17/100\n",
      "96/96 [==============================] - 0s 1ms/step - loss: 0.1518 - mean_absolute_error: 0.1518 - val_loss: 0.1922 - val_mean_absolute_error: 0.1922\n",
      "Epoch 18/100\n",
      "96/96 [==============================] - 0s 1ms/step - loss: 0.1487 - mean_absolute_error: 0.1487 - val_loss: 0.1920 - val_mean_absolute_error: 0.1920\n",
      "Epoch 19/100\n",
      "96/96 [==============================] - 0s 1ms/step - loss: 0.1550 - mean_absolute_error: 0.1550 - val_loss: 0.1874 - val_mean_absolute_error: 0.1874\n",
      "Epoch 20/100\n",
      "96/96 [==============================] - 0s 906us/step - loss: 0.1481 - mean_absolute_error: 0.1481 - val_loss: 0.1871 - val_mean_absolute_error: 0.1871\n",
      "Epoch 21/100\n",
      "96/96 [==============================] - 0s 952us/step - loss: 0.1424 - mean_absolute_error: 0.1424 - val_loss: 0.1867 - val_mean_absolute_error: 0.1867\n",
      "Epoch 22/100\n",
      "96/96 [==============================] - 0s 960us/step - loss: 0.1525 - mean_absolute_error: 0.1525 - val_loss: 0.1871 - val_mean_absolute_error: 0.1871\n",
      "Epoch 23/100\n",
      "96/96 [==============================] - 0s 960us/step - loss: 0.1467 - mean_absolute_error: 0.1467 - val_loss: 0.1893 - val_mean_absolute_error: 0.1893\n",
      "Epoch 24/100\n",
      "96/96 [==============================] - 0s 960us/step - loss: 0.1550 - mean_absolute_error: 0.1550 - val_loss: 0.1876 - val_mean_absolute_error: 0.1876\n",
      "Epoch 25/100\n",
      "96/96 [==============================] - 0s 1ms/step - loss: 0.1544 - mean_absolute_error: 0.1544 - val_loss: 0.1894 - val_mean_absolute_error: 0.1894\n",
      "Epoch 26/100\n",
      "96/96 [==============================] - 0s 921us/step - loss: 0.1474 - mean_absolute_error: 0.1474 - val_loss: 0.1855 - val_mean_absolute_error: 0.1855\n",
      "Epoch 27/100\n",
      "96/96 [==============================] - 0s 914us/step - loss: 0.1477 - mean_absolute_error: 0.1477 - val_loss: 0.1874 - val_mean_absolute_error: 0.1874\n",
      "Epoch 28/100\n",
      "96/96 [==============================] - 0s 978us/step - loss: 0.1453 - mean_absolute_error: 0.1453 - val_loss: 0.1846 - val_mean_absolute_error: 0.1846\n",
      "Epoch 29/100\n",
      "96/96 [==============================] - 0s 970us/step - loss: 0.1513 - mean_absolute_error: 0.1513 - val_loss: 0.1851 - val_mean_absolute_error: 0.1851\n",
      "Epoch 30/100\n",
      "96/96 [==============================] - 0s 1ms/step - loss: 0.1453 - mean_absolute_error: 0.1453 - val_loss: 0.1861 - val_mean_absolute_error: 0.1861\n",
      "Epoch 31/100\n",
      "96/96 [==============================] - 0s 918us/step - loss: 0.1505 - mean_absolute_error: 0.1505 - val_loss: 0.1831 - val_mean_absolute_error: 0.1831\n",
      "Epoch 32/100\n",
      "96/96 [==============================] - 0s 982us/step - loss: 0.1506 - mean_absolute_error: 0.1506 - val_loss: 0.1835 - val_mean_absolute_error: 0.1835\n",
      "Epoch 33/100\n",
      "96/96 [==============================] - 0s 1ms/step - loss: 0.1460 - mean_absolute_error: 0.1460 - val_loss: 0.1835 - val_mean_absolute_error: 0.1835\n",
      "Epoch 34/100\n",
      "96/96 [==============================] - 0s 967us/step - loss: 0.1429 - mean_absolute_error: 0.1429 - val_loss: 0.1802 - val_mean_absolute_error: 0.1802\n",
      "Epoch 35/100\n",
      "96/96 [==============================] - 0s 940us/step - loss: 0.1464 - mean_absolute_error: 0.1464 - val_loss: 0.1828 - val_mean_absolute_error: 0.1828\n",
      "Epoch 36/100\n",
      "96/96 [==============================] - 0s 942us/step - loss: 0.1528 - mean_absolute_error: 0.1528 - val_loss: 0.1820 - val_mean_absolute_error: 0.1820\n",
      "Epoch 37/100\n",
      "96/96 [==============================] - 0s 1ms/step - loss: 0.1372 - mean_absolute_error: 0.1372 - val_loss: 0.1807 - val_mean_absolute_error: 0.1807\n",
      "Epoch 38/100\n",
      "96/96 [==============================] - 0s 952us/step - loss: 0.1425 - mean_absolute_error: 0.1425 - val_loss: 0.1796 - val_mean_absolute_error: 0.1796\n",
      "Epoch 39/100\n",
      "96/96 [==============================] - 0s 968us/step - loss: 0.1420 - mean_absolute_error: 0.1420 - val_loss: 0.1777 - val_mean_absolute_error: 0.1777\n",
      "Epoch 40/100\n",
      "96/96 [==============================] - 0s 1ms/step - loss: 0.1394 - mean_absolute_error: 0.1394 - val_loss: 0.1775 - val_mean_absolute_error: 0.1775\n",
      "Epoch 41/100\n",
      "96/96 [==============================] - 0s 1ms/step - loss: 0.1446 - mean_absolute_error: 0.1446 - val_loss: 0.1789 - val_mean_absolute_error: 0.1789\n",
      "Epoch 42/100\n",
      "96/96 [==============================] - 0s 1ms/step - loss: 0.1439 - mean_absolute_error: 0.1439 - val_loss: 0.1770 - val_mean_absolute_error: 0.1770\n",
      "Epoch 43/100\n",
      "96/96 [==============================] - 0s 883us/step - loss: 0.1442 - mean_absolute_error: 0.1442 - val_loss: 0.1748 - val_mean_absolute_error: 0.1748\n",
      "Epoch 44/100\n",
      "96/96 [==============================] - 0s 965us/step - loss: 0.1426 - mean_absolute_error: 0.1426 - val_loss: 0.1768 - val_mean_absolute_error: 0.1768\n",
      "Epoch 45/100\n",
      "96/96 [==============================] - 0s 1ms/step - loss: 0.1433 - mean_absolute_error: 0.1433 - val_loss: 0.1724 - val_mean_absolute_error: 0.1724\n",
      "Epoch 46/100\n",
      "96/96 [==============================] - 0s 1ms/step - loss: 0.1454 - mean_absolute_error: 0.1454 - val_loss: 0.1706 - val_mean_absolute_error: 0.1706\n",
      "Epoch 47/100\n",
      "96/96 [==============================] - 0s 1ms/step - loss: 0.1392 - mean_absolute_error: 0.1392 - val_loss: 0.1704 - val_mean_absolute_error: 0.1704\n",
      "Epoch 48/100\n",
      "96/96 [==============================] - 0s 919us/step - loss: 0.1398 - mean_absolute_error: 0.1398 - val_loss: 0.1700 - val_mean_absolute_error: 0.1700\n",
      "Epoch 49/100\n",
      "96/96 [==============================] - 0s 1ms/step - loss: 0.1427 - mean_absolute_error: 0.1427 - val_loss: 0.1694 - val_mean_absolute_error: 0.1694\n",
      "Epoch 50/100\n",
      "96/96 [==============================] - 0s 1ms/step - loss: 0.1355 - mean_absolute_error: 0.1355 - val_loss: 0.1686 - val_mean_absolute_error: 0.1686\n",
      "Epoch 51/100\n",
      "96/96 [==============================] - 0s 1ms/step - loss: 0.1389 - mean_absolute_error: 0.1389 - val_loss: 0.1671 - val_mean_absolute_error: 0.1671\n",
      "Epoch 52/100\n",
      "96/96 [==============================] - 0s 1ms/step - loss: 0.1354 - mean_absolute_error: 0.1354 - val_loss: 0.1653 - val_mean_absolute_error: 0.1653\n",
      "Epoch 53/100\n",
      "96/96 [==============================] - 0s 945us/step - loss: 0.1368 - mean_absolute_error: 0.1368 - val_loss: 0.1626 - val_mean_absolute_error: 0.1626\n",
      "Epoch 54/100\n",
      "96/96 [==============================] - 0s 1ms/step - loss: 0.1371 - mean_absolute_error: 0.1371 - val_loss: 0.1644 - val_mean_absolute_error: 0.1644\n",
      "Epoch 55/100\n",
      "96/96 [==============================] - 0s 1ms/step - loss: 0.1345 - mean_absolute_error: 0.1345 - val_loss: 0.1632 - val_mean_absolute_error: 0.1632\n",
      "Epoch 56/100\n",
      "96/96 [==============================] - 0s 1ms/step - loss: 0.1401 - mean_absolute_error: 0.1401 - val_loss: 0.1631 - val_mean_absolute_error: 0.1631\n",
      "Epoch 57/100\n",
      "96/96 [==============================] - 0s 1ms/step - loss: 0.1364 - mean_absolute_error: 0.1364 - val_loss: 0.1630 - val_mean_absolute_error: 0.1630\n",
      "Epoch 58/100\n",
      "96/96 [==============================] - 0s 1ms/step - loss: 0.1410 - mean_absolute_error: 0.1410 - val_loss: 0.1618 - val_mean_absolute_error: 0.1618\n",
      "Epoch 59/100\n",
      "96/96 [==============================] - 0s 1ms/step - loss: 0.1380 - mean_absolute_error: 0.1380 - val_loss: 0.1598 - val_mean_absolute_error: 0.1598\n",
      "Epoch 60/100\n",
      "96/96 [==============================] - 0s 1ms/step - loss: 0.1336 - mean_absolute_error: 0.1336 - val_loss: 0.1599 - val_mean_absolute_error: 0.1599\n",
      "Epoch 61/100\n",
      "96/96 [==============================] - 0s 1ms/step - loss: 0.1385 - mean_absolute_error: 0.1385 - val_loss: 0.1622 - val_mean_absolute_error: 0.1622\n",
      "Epoch 62/100\n",
      "96/96 [==============================] - 0s 937us/step - loss: 0.1360 - mean_absolute_error: 0.1360 - val_loss: 0.1585 - val_mean_absolute_error: 0.1585\n",
      "Epoch 63/100\n",
      "96/96 [==============================] - 0s 933us/step - loss: 0.1341 - mean_absolute_error: 0.1341 - val_loss: 0.1605 - val_mean_absolute_error: 0.1605\n",
      "Epoch 64/100\n",
      "96/96 [==============================] - 0s 933us/step - loss: 0.1358 - mean_absolute_error: 0.1358 - val_loss: 0.1563 - val_mean_absolute_error: 0.1563\n",
      "Epoch 65/100\n",
      "96/96 [==============================] - 0s 920us/step - loss: 0.1355 - mean_absolute_error: 0.1355 - val_loss: 0.1566 - val_mean_absolute_error: 0.1566\n",
      "Epoch 66/100\n",
      "96/96 [==============================] - 0s 1ms/step - loss: 0.1288 - mean_absolute_error: 0.1288 - val_loss: 0.1617 - val_mean_absolute_error: 0.1617\n",
      "Epoch 67/100\n",
      "96/96 [==============================] - 0s 1ms/step - loss: 0.1398 - mean_absolute_error: 0.1398 - val_loss: 0.1598 - val_mean_absolute_error: 0.1598\n",
      "Epoch 68/100\n",
      "96/96 [==============================] - 0s 1ms/step - loss: 0.1308 - mean_absolute_error: 0.1308 - val_loss: 0.1545 - val_mean_absolute_error: 0.1545\n",
      "Epoch 69/100\n",
      "96/96 [==============================] - 0s 1ms/step - loss: 0.1321 - mean_absolute_error: 0.1321 - val_loss: 0.1545 - val_mean_absolute_error: 0.1545\n",
      "Epoch 70/100\n",
      "96/96 [==============================] - 0s 951us/step - loss: 0.1254 - mean_absolute_error: 0.1254 - val_loss: 0.1544 - val_mean_absolute_error: 0.1544\n",
      "Epoch 71/100\n",
      "96/96 [==============================] - 0s 910us/step - loss: 0.1362 - mean_absolute_error: 0.1362 - val_loss: 0.1545 - val_mean_absolute_error: 0.1545\n",
      "Epoch 72/100\n",
      "96/96 [==============================] - 0s 881us/step - loss: 0.1268 - mean_absolute_error: 0.1268 - val_loss: 0.1517 - val_mean_absolute_error: 0.1517\n",
      "Epoch 73/100\n",
      "96/96 [==============================] - 0s 946us/step - loss: 0.1249 - mean_absolute_error: 0.1249 - val_loss: 0.1535 - val_mean_absolute_error: 0.1535\n",
      "Epoch 74/100\n",
      "96/96 [==============================] - 0s 1ms/step - loss: 0.1311 - mean_absolute_error: 0.1311 - val_loss: 0.1543 - val_mean_absolute_error: 0.1543\n",
      "Epoch 75/100\n",
      "96/96 [==============================] - 0s 1ms/step - loss: 0.1288 - mean_absolute_error: 0.1288 - val_loss: 0.1499 - val_mean_absolute_error: 0.1499\n",
      "Epoch 76/100\n",
      "96/96 [==============================] - 0s 1ms/step - loss: 0.1274 - mean_absolute_error: 0.1274 - val_loss: 0.1515 - val_mean_absolute_error: 0.1515\n",
      "Epoch 77/100\n",
      "96/96 [==============================] - 0s 1ms/step - loss: 0.1252 - mean_absolute_error: 0.1252 - val_loss: 0.1522 - val_mean_absolute_error: 0.1522\n",
      "Epoch 78/100\n",
      "96/96 [==============================] - 0s 926us/step - loss: 0.1278 - mean_absolute_error: 0.1278 - val_loss: 0.1521 - val_mean_absolute_error: 0.1521\n",
      "Epoch 79/100\n",
      "96/96 [==============================] - 0s 965us/step - loss: 0.1269 - mean_absolute_error: 0.1269 - val_loss: 0.1501 - val_mean_absolute_error: 0.1501\n",
      "Epoch 80/100\n",
      "96/96 [==============================] - 0s 985us/step - loss: 0.1320 - mean_absolute_error: 0.1320 - val_loss: 0.1500 - val_mean_absolute_error: 0.1500\n",
      "Epoch 81/100\n",
      "96/96 [==============================] - 0s 981us/step - loss: 0.1281 - mean_absolute_error: 0.1281 - val_loss: 0.1503 - val_mean_absolute_error: 0.1503\n",
      "Epoch 82/100\n",
      "96/96 [==============================] - 0s 991us/step - loss: 0.1328 - mean_absolute_error: 0.1328 - val_loss: 0.1492 - val_mean_absolute_error: 0.1492\n",
      "Epoch 83/100\n",
      "96/96 [==============================] - 0s 936us/step - loss: 0.1279 - mean_absolute_error: 0.1279 - val_loss: 0.1481 - val_mean_absolute_error: 0.1481\n",
      "Epoch 84/100\n",
      "96/96 [==============================] - 0s 937us/step - loss: 0.1232 - mean_absolute_error: 0.1232 - val_loss: 0.1492 - val_mean_absolute_error: 0.1492\n",
      "Epoch 85/100\n",
      "96/96 [==============================] - 0s 966us/step - loss: 0.1275 - mean_absolute_error: 0.1275 - val_loss: 0.1478 - val_mean_absolute_error: 0.1478\n",
      "Epoch 86/100\n",
      "96/96 [==============================] - 0s 1ms/step - loss: 0.1224 - mean_absolute_error: 0.1224 - val_loss: 0.1461 - val_mean_absolute_error: 0.1461\n",
      "Epoch 87/100\n",
      "96/96 [==============================] - 0s 980us/step - loss: 0.1308 - mean_absolute_error: 0.1308 - val_loss: 0.1465 - val_mean_absolute_error: 0.1465\n",
      "Epoch 88/100\n",
      "96/96 [==============================] - 0s 1ms/step - loss: 0.1357 - mean_absolute_error: 0.1357 - val_loss: 0.1478 - val_mean_absolute_error: 0.1478\n",
      "Epoch 89/100\n",
      "96/96 [==============================] - 0s 1ms/step - loss: 0.1278 - mean_absolute_error: 0.1278 - val_loss: 0.1464 - val_mean_absolute_error: 0.1464\n",
      "Epoch 90/100\n",
      "96/96 [==============================] - 0s 926us/step - loss: 0.1255 - mean_absolute_error: 0.1255 - val_loss: 0.1455 - val_mean_absolute_error: 0.1455\n",
      "Epoch 91/100\n",
      "96/96 [==============================] - 0s 929us/step - loss: 0.1309 - mean_absolute_error: 0.1309 - val_loss: 0.1438 - val_mean_absolute_error: 0.1438\n",
      "Epoch 92/100\n",
      "96/96 [==============================] - 0s 850us/step - loss: 0.1216 - mean_absolute_error: 0.1216 - val_loss: 0.1439 - val_mean_absolute_error: 0.1439\n",
      "Epoch 93/100\n",
      "96/96 [==============================] - 0s 1ms/step - loss: 0.1311 - mean_absolute_error: 0.1311 - val_loss: 0.1466 - val_mean_absolute_error: 0.1466\n",
      "Epoch 94/100\n",
      "96/96 [==============================] - 0s 926us/step - loss: 0.1279 - mean_absolute_error: 0.1279 - val_loss: 0.1427 - val_mean_absolute_error: 0.1427\n",
      "Epoch 95/100\n",
      "96/96 [==============================] - 0s 976us/step - loss: 0.1340 - mean_absolute_error: 0.1340 - val_loss: 0.1447 - val_mean_absolute_error: 0.1447\n",
      "Epoch 96/100\n",
      "96/96 [==============================] - 0s 1ms/step - loss: 0.1331 - mean_absolute_error: 0.1331 - val_loss: 0.1430 - val_mean_absolute_error: 0.1430\n",
      "Epoch 97/100\n",
      "96/96 [==============================] - 0s 1ms/step - loss: 0.1378 - mean_absolute_error: 0.1378 - val_loss: 0.1434 - val_mean_absolute_error: 0.1434\n",
      "Epoch 98/100\n",
      "96/96 [==============================] - 0s 959us/step - loss: 0.1212 - mean_absolute_error: 0.1212 - val_loss: 0.1416 - val_mean_absolute_error: 0.1416\n",
      "Epoch 99/100\n",
      "96/96 [==============================] - 0s 936us/step - loss: 0.1250 - mean_absolute_error: 0.1250 - val_loss: 0.1401 - val_mean_absolute_error: 0.1401\n"
     ]
    },
    {
     "name": "stdout",
     "output_type": "stream",
     "text": [
      "Epoch 100/100\n",
      "96/96 [==============================] - 0s 930us/step - loss: 0.1243 - mean_absolute_error: 0.1243 - val_loss: 0.1406 - val_mean_absolute_error: 0.1406\n"
     ]
    }
   ],
   "source": [
    "# ONLY USE FOR BEST MODEL SELECTION\n",
    "# network_name = \"lstm\"\n",
    "# filepath = network_name + \"_epoch-{epoch:02d}-loss-{loss:.4f}-.hdf5\"\n",
    "# checkpoint = ModelCheckpoint(filepath, monitor=\"val_loss\", verbose=0, save_best_only=True, mode=\"min\")\n",
    "# callbacks_list = [checkpoint]\n",
    "network = model.fit(trainNormX, trainNormY, validation_data=(valNormX, valNormY), epochs=100, batch_size=2)"
   ]
  },
  {
   "cell_type": "code",
   "execution_count": 71,
   "metadata": {
    "scrolled": false
   },
   "outputs": [
    {
     "data": {
      "image/png": "[encoded data removed]",
      "text/plain": [
       "<Figure size 432x288 with 1 Axes>"
      ]
     },
     "metadata": {
      "needs_background": "light"
     },
     "output_type": "display_data"
    }
   ],
   "source": [
    "plt.plot(network.history[\"loss\"], label=\"loss\")\n",
    "plt.plot(network.history[\"val_loss\"], label=\"val_loss\")\n",
    "plt.legend()\n",
    "plt.title(\"LSTM\")\n",
    "plt.show()"
   ]
  },
  {
   "cell_type": "code",
   "execution_count": 72,
   "metadata": {},
   "outputs": [],
   "source": [
    "lstmbest = load_model(\"lstm_epoch-98-loss-0.1130-.hdf5\")"
   ]
  },
  {
   "cell_type": "code",
   "execution_count": 73,
   "metadata": {},
   "outputs": [
    {
     "name": "stdout",
     "output_type": "stream",
     "text": [
      "15/15 [==============================] - 0s 4ms/step\n",
      "MAE for LSTM is: 0.10972357541322708\n"
     ]
    }
   ],
   "source": [
    "print(\"MAE for LSTM is:\",lstmbest.evaluate(testNormX,testNormY)[1])"
   ]
  },
  {
   "cell_type": "code",
   "execution_count": 74,
   "metadata": {},
   "outputs": [],
   "source": [
    "preds = lstmbest.predict(testNormX)"
   ]
  },
  {
   "cell_type": "code",
   "execution_count": 75,
   "metadata": {
    "scrolled": true
   },
   "outputs": [
    {
     "data": {
      "image/png": "[encoded data removed]",
      "text/plain": [
       "<Figure size 432x288 with 1 Axes>"
      ]
     },
     "metadata": {
      "needs_background": "light"
     },
     "output_type": "display_data"
    }
   ],
   "source": [
    "plt.plot(sc.inverse_transform(preds).reshape(-1,1), label=\"Predicted\", color=\"red\")\n",
    "plt.plot(sc.inverse_transform(testNormY).reshape(-1,1), label=\"ACtual\", color=\"black\")\n",
    "plt.legend()\n",
    "plt.title(\"LSTM\")\n",
    "plt.show()"
   ]
  },
  {
   "cell_type": "markdown",
   "metadata": {},
   "source": [
    "## GRU"
   ]
  },
  {
   "cell_type": "code",
   "execution_count": 76,
   "metadata": {
    "scrolled": false
   },
   "outputs": [
    {
     "name": "stdout",
     "output_type": "stream",
     "text": [
      "Model: \"sequential_7\"\n",
      "_________________________________________________________________\n",
      "Layer (type)                 Output Shape              Param #   \n",
      "=================================================================\n",
      "gru_3 (GRU)                  (None, 24)                1872      \n",
      "_________________________________________________________________\n",
      "dense_8 (Dense)              (None, 5)                 125       \n",
      "=================================================================\n",
      "Total params: 1,997\n",
      "Trainable params: 1,997\n",
      "Non-trainable params: 0\n",
      "_________________________________________________________________\n"
     ]
    }
   ],
   "source": [
    "GRUmodel = Sequential()\n",
    "GRUmodel.add(GRU(24, input_shape = trainNormX.shape[1:], dropout = 0.1, recurrent_dropout = 0.1))\n",
    "GRUmodel.add(Dense(5, activation = \"linear\"))\n",
    "GRUmodel.compile(loss=\"mae\", optimizer=\"adam\",metrics=[\"mean_absolute_error\"])\n",
    "GRUmodel.summary()"
   ]
  },
  {
   "cell_type": "code",
   "execution_count": 77,
   "metadata": {
    "scrolled": true
   },
   "outputs": [
    {
     "name": "stdout",
     "output_type": "stream",
     "text": [
      "Train on 96 samples, validate on 15 samples\n",
      "Epoch 1/100\n",
      "96/96 [==============================] - 1s 7ms/step - loss: 0.1928 - mean_absolute_error: 0.1928 - val_loss: 0.2214 - val_mean_absolute_error: 0.2214\n",
      "Epoch 2/100\n",
      "96/96 [==============================] - 0s 1ms/step - loss: 0.1750 - mean_absolute_error: 0.1750 - val_loss: 0.2121 - val_mean_absolute_error: 0.2121\n",
      "Epoch 3/100\n",
      "96/96 [==============================] - 0s 1ms/step - loss: 0.1678 - mean_absolute_error: 0.1678 - val_loss: 0.2055 - val_mean_absolute_error: 0.2055\n",
      "Epoch 4/100\n",
      "96/96 [==============================] - 0s 1ms/step - loss: 0.1614 - mean_absolute_error: 0.1614 - val_loss: 0.2047 - val_mean_absolute_error: 0.2047\n",
      "Epoch 5/100\n",
      "96/96 [==============================] - 0s 1ms/step - loss: 0.1620 - mean_absolute_error: 0.1620 - val_loss: 0.1990 - val_mean_absolute_error: 0.1990\n",
      "Epoch 6/100\n",
      "96/96 [==============================] - 0s 1ms/step - loss: 0.1557 - mean_absolute_error: 0.1557 - val_loss: 0.1949 - val_mean_absolute_error: 0.1949\n",
      "Epoch 7/100\n",
      "96/96 [==============================] - 0s 1ms/step - loss: 0.1558 - mean_absolute_error: 0.1558 - val_loss: 0.1949 - val_mean_absolute_error: 0.1949\n",
      "Epoch 8/100\n",
      "96/96 [==============================] - 0s 1ms/step - loss: 0.1570 - mean_absolute_error: 0.1570 - val_loss: 0.1927 - val_mean_absolute_error: 0.1927\n",
      "Epoch 9/100\n",
      "96/96 [==============================] - 0s 1ms/step - loss: 0.1572 - mean_absolute_error: 0.1572 - val_loss: 0.1924 - val_mean_absolute_error: 0.1924\n",
      "Epoch 10/100\n",
      "96/96 [==============================] - 0s 1ms/step - loss: 0.1531 - mean_absolute_error: 0.1531 - val_loss: 0.1903 - val_mean_absolute_error: 0.1903\n",
      "Epoch 11/100\n",
      "96/96 [==============================] - 0s 1ms/step - loss: 0.1581 - mean_absolute_error: 0.1581 - val_loss: 0.1918 - val_mean_absolute_error: 0.1918\n",
      "Epoch 12/100\n",
      "96/96 [==============================] - 0s 1ms/step - loss: 0.1484 - mean_absolute_error: 0.1484 - val_loss: 0.1921 - val_mean_absolute_error: 0.1921\n",
      "Epoch 13/100\n",
      "96/96 [==============================] - 0s 1ms/step - loss: 0.1503 - mean_absolute_error: 0.1503 - val_loss: 0.1883 - val_mean_absolute_error: 0.1883\n",
      "Epoch 14/100\n",
      "96/96 [==============================] - 0s 1ms/step - loss: 0.1519 - mean_absolute_error: 0.1519 - val_loss: 0.1880 - val_mean_absolute_error: 0.1880\n",
      "Epoch 15/100\n",
      "96/96 [==============================] - 0s 1ms/step - loss: 0.1494 - mean_absolute_error: 0.1494 - val_loss: 0.1868 - val_mean_absolute_error: 0.1868\n",
      "Epoch 16/100\n",
      "96/96 [==============================] - 0s 1ms/step - loss: 0.1479 - mean_absolute_error: 0.1479 - val_loss: 0.1845 - val_mean_absolute_error: 0.1845\n",
      "Epoch 17/100\n",
      "96/96 [==============================] - 0s 1ms/step - loss: 0.1464 - mean_absolute_error: 0.1464 - val_loss: 0.1844 - val_mean_absolute_error: 0.1844\n",
      "Epoch 18/100\n",
      "96/96 [==============================] - 0s 1ms/step - loss: 0.1465 - mean_absolute_error: 0.1465 - val_loss: 0.1847 - val_mean_absolute_error: 0.1847\n",
      "Epoch 19/100\n",
      "96/96 [==============================] - 0s 1ms/step - loss: 0.1420 - mean_absolute_error: 0.1420 - val_loss: 0.1801 - val_mean_absolute_error: 0.1801\n",
      "Epoch 20/100\n",
      "96/96 [==============================] - 0s 1ms/step - loss: 0.1470 - mean_absolute_error: 0.1470 - val_loss: 0.1813 - val_mean_absolute_error: 0.1813\n",
      "Epoch 21/100\n",
      "96/96 [==============================] - 0s 1ms/step - loss: 0.1441 - mean_absolute_error: 0.1441 - val_loss: 0.1803 - val_mean_absolute_error: 0.1803\n",
      "Epoch 22/100\n",
      "96/96 [==============================] - 0s 1ms/step - loss: 0.1425 - mean_absolute_error: 0.1425 - val_loss: 0.1793 - val_mean_absolute_error: 0.1793\n",
      "Epoch 23/100\n",
      "96/96 [==============================] - 0s 1ms/step - loss: 0.1414 - mean_absolute_error: 0.1414 - val_loss: 0.1790 - val_mean_absolute_error: 0.1790\n",
      "Epoch 24/100\n",
      "96/96 [==============================] - 0s 1ms/step - loss: 0.1387 - mean_absolute_error: 0.1387 - val_loss: 0.1762 - val_mean_absolute_error: 0.1762\n",
      "Epoch 25/100\n",
      "96/96 [==============================] - 0s 1ms/step - loss: 0.1339 - mean_absolute_error: 0.1339 - val_loss: 0.1773 - val_mean_absolute_error: 0.1773\n",
      "Epoch 26/100\n",
      "96/96 [==============================] - 0s 1ms/step - loss: 0.1435 - mean_absolute_error: 0.1435 - val_loss: 0.1762 - val_mean_absolute_error: 0.1762\n",
      "Epoch 27/100\n",
      "96/96 [==============================] - 0s 1ms/step - loss: 0.1479 - mean_absolute_error: 0.1479 - val_loss: 0.1759 - val_mean_absolute_error: 0.1759\n",
      "Epoch 28/100\n",
      "96/96 [==============================] - 0s 1ms/step - loss: 0.1396 - mean_absolute_error: 0.1396 - val_loss: 0.1793 - val_mean_absolute_error: 0.1793\n",
      "Epoch 29/100\n",
      "96/96 [==============================] - 0s 1ms/step - loss: 0.1372 - mean_absolute_error: 0.1372 - val_loss: 0.1748 - val_mean_absolute_error: 0.1748\n",
      "Epoch 30/100\n",
      "96/96 [==============================] - 0s 1ms/step - loss: 0.1421 - mean_absolute_error: 0.1421 - val_loss: 0.1733 - val_mean_absolute_error: 0.1733\n",
      "Epoch 31/100\n",
      "96/96 [==============================] - 0s 1ms/step - loss: 0.1423 - mean_absolute_error: 0.1423 - val_loss: 0.1762 - val_mean_absolute_error: 0.1762\n",
      "Epoch 32/100\n",
      "96/96 [==============================] - 0s 1ms/step - loss: 0.1401 - mean_absolute_error: 0.1401 - val_loss: 0.1743 - val_mean_absolute_error: 0.1743\n",
      "Epoch 33/100\n",
      "96/96 [==============================] - 0s 1ms/step - loss: 0.1426 - mean_absolute_error: 0.1426 - val_loss: 0.1717 - val_mean_absolute_error: 0.1717\n",
      "Epoch 34/100\n",
      "96/96 [==============================] - 0s 1ms/step - loss: 0.1379 - mean_absolute_error: 0.1379 - val_loss: 0.1730 - val_mean_absolute_error: 0.1730\n",
      "Epoch 35/100\n",
      "96/96 [==============================] - 0s 1ms/step - loss: 0.1382 - mean_absolute_error: 0.1382 - val_loss: 0.1732 - val_mean_absolute_error: 0.1732\n",
      "Epoch 36/100\n",
      "96/96 [==============================] - 0s 1ms/step - loss: 0.1441 - mean_absolute_error: 0.1441 - val_loss: 0.1757 - val_mean_absolute_error: 0.1757\n",
      "Epoch 37/100\n",
      "96/96 [==============================] - 0s 1ms/step - loss: 0.1302 - mean_absolute_error: 0.1302 - val_loss: 0.1748 - val_mean_absolute_error: 0.1748\n",
      "Epoch 38/100\n",
      "96/96 [==============================] - 0s 1ms/step - loss: 0.1384 - mean_absolute_error: 0.1384 - val_loss: 0.1711 - val_mean_absolute_error: 0.1711\n",
      "Epoch 39/100\n",
      "96/96 [==============================] - 0s 1ms/step - loss: 0.1396 - mean_absolute_error: 0.1396 - val_loss: 0.1725 - val_mean_absolute_error: 0.1725\n",
      "Epoch 40/100\n",
      "96/96 [==============================] - 0s 1ms/step - loss: 0.1421 - mean_absolute_error: 0.1421 - val_loss: 0.1705 - val_mean_absolute_error: 0.1705\n",
      "Epoch 41/100\n",
      "96/96 [==============================] - 0s 1ms/step - loss: 0.1350 - mean_absolute_error: 0.1350 - val_loss: 0.1756 - val_mean_absolute_error: 0.1756\n",
      "Epoch 42/100\n",
      "96/96 [==============================] - 0s 1ms/step - loss: 0.1388 - mean_absolute_error: 0.1388 - val_loss: 0.1716 - val_mean_absolute_error: 0.1716\n",
      "Epoch 43/100\n",
      "96/96 [==============================] - 0s 1ms/step - loss: 0.1422 - mean_absolute_error: 0.1422 - val_loss: 0.1708 - val_mean_absolute_error: 0.1708\n",
      "Epoch 44/100\n",
      "96/96 [==============================] - 0s 1ms/step - loss: 0.1341 - mean_absolute_error: 0.1341 - val_loss: 0.1747 - val_mean_absolute_error: 0.1747\n",
      "Epoch 45/100\n",
      "96/96 [==============================] - 0s 1ms/step - loss: 0.1364 - mean_absolute_error: 0.1364 - val_loss: 0.1717 - val_mean_absolute_error: 0.1717\n",
      "Epoch 46/100\n",
      "96/96 [==============================] - 0s 1ms/step - loss: 0.1350 - mean_absolute_error: 0.1350 - val_loss: 0.1723 - val_mean_absolute_error: 0.1723\n",
      "Epoch 47/100\n",
      "96/96 [==============================] - 0s 1ms/step - loss: 0.1392 - mean_absolute_error: 0.1392 - val_loss: 0.1710 - val_mean_absolute_error: 0.1710\n",
      "Epoch 48/100\n",
      "96/96 [==============================] - 0s 1ms/step - loss: 0.1453 - mean_absolute_error: 0.1453 - val_loss: 0.1711 - val_mean_absolute_error: 0.1711\n",
      "Epoch 49/100\n",
      "96/96 [==============================] - 0s 1ms/step - loss: 0.1360 - mean_absolute_error: 0.1360 - val_loss: 0.1707 - val_mean_absolute_error: 0.1707\n",
      "Epoch 50/100\n",
      "96/96 [==============================] - 0s 1ms/step - loss: 0.1434 - mean_absolute_error: 0.1434 - val_loss: 0.1721 - val_mean_absolute_error: 0.1721\n"
     ]
    },
    {
     "name": "stdout",
     "output_type": "stream",
     "text": [
      "Epoch 51/100\n",
      "96/96 [==============================] - 0s 1ms/step - loss: 0.1382 - mean_absolute_error: 0.1382 - val_loss: 0.1691 - val_mean_absolute_error: 0.1691\n",
      "Epoch 52/100\n",
      "96/96 [==============================] - 0s 1ms/step - loss: 0.1328 - mean_absolute_error: 0.1328 - val_loss: 0.1676 - val_mean_absolute_error: 0.1676\n",
      "Epoch 53/100\n",
      "96/96 [==============================] - 0s 1ms/step - loss: 0.1355 - mean_absolute_error: 0.1355 - val_loss: 0.1713 - val_mean_absolute_error: 0.1713\n",
      "Epoch 54/100\n",
      "96/96 [==============================] - 0s 1ms/step - loss: 0.1316 - mean_absolute_error: 0.1316 - val_loss: 0.1695 - val_mean_absolute_error: 0.1695\n",
      "Epoch 55/100\n",
      "96/96 [==============================] - 0s 1ms/step - loss: 0.1390 - mean_absolute_error: 0.1390 - val_loss: 0.1677 - val_mean_absolute_error: 0.1677\n",
      "Epoch 56/100\n",
      "96/96 [==============================] - 0s 991us/step - loss: 0.1311 - mean_absolute_error: 0.1311 - val_loss: 0.1715 - val_mean_absolute_error: 0.1715\n",
      "Epoch 57/100\n",
      "96/96 [==============================] - 0s 1ms/step - loss: 0.1361 - mean_absolute_error: 0.1361 - val_loss: 0.1681 - val_mean_absolute_error: 0.1681\n",
      "Epoch 58/100\n",
      "96/96 [==============================] - 0s 1ms/step - loss: 0.1406 - mean_absolute_error: 0.1406 - val_loss: 0.1682 - val_mean_absolute_error: 0.1682\n",
      "Epoch 59/100\n",
      "96/96 [==============================] - 0s 1ms/step - loss: 0.1331 - mean_absolute_error: 0.1331 - val_loss: 0.1642 - val_mean_absolute_error: 0.1642\n",
      "Epoch 60/100\n",
      "96/96 [==============================] - 0s 1ms/step - loss: 0.1334 - mean_absolute_error: 0.1334 - val_loss: 0.1654 - val_mean_absolute_error: 0.1654\n",
      "Epoch 61/100\n",
      "96/96 [==============================] - 0s 1ms/step - loss: 0.1355 - mean_absolute_error: 0.1355 - val_loss: 0.1696 - val_mean_absolute_error: 0.1696\n",
      "Epoch 62/100\n",
      "96/96 [==============================] - 0s 1ms/step - loss: 0.1343 - mean_absolute_error: 0.1343 - val_loss: 0.1651 - val_mean_absolute_error: 0.1651\n",
      "Epoch 63/100\n",
      "96/96 [==============================] - 0s 1ms/step - loss: 0.1361 - mean_absolute_error: 0.1361 - val_loss: 0.1657 - val_mean_absolute_error: 0.1657\n",
      "Epoch 64/100\n",
      "96/96 [==============================] - 0s 1ms/step - loss: 0.1321 - mean_absolute_error: 0.1321 - val_loss: 0.1646 - val_mean_absolute_error: 0.1646\n",
      "Epoch 65/100\n",
      "96/96 [==============================] - 0s 1ms/step - loss: 0.1388 - mean_absolute_error: 0.1388 - val_loss: 0.1641 - val_mean_absolute_error: 0.1641\n",
      "Epoch 66/100\n",
      "96/96 [==============================] - 0s 1ms/step - loss: 0.1296 - mean_absolute_error: 0.1296 - val_loss: 0.1619 - val_mean_absolute_error: 0.1619\n",
      "Epoch 67/100\n",
      "96/96 [==============================] - 0s 1ms/step - loss: 0.1318 - mean_absolute_error: 0.1318 - val_loss: 0.1637 - val_mean_absolute_error: 0.1637\n",
      "Epoch 68/100\n",
      "96/96 [==============================] - 0s 1ms/step - loss: 0.1335 - mean_absolute_error: 0.1335 - val_loss: 0.1618 - val_mean_absolute_error: 0.1618\n",
      "Epoch 69/100\n",
      "96/96 [==============================] - 0s 1ms/step - loss: 0.1334 - mean_absolute_error: 0.1334 - val_loss: 0.1670 - val_mean_absolute_error: 0.1670\n",
      "Epoch 70/100\n",
      "96/96 [==============================] - 0s 1ms/step - loss: 0.1355 - mean_absolute_error: 0.1355 - val_loss: 0.1640 - val_mean_absolute_error: 0.1640\n",
      "Epoch 71/100\n",
      "96/96 [==============================] - 0s 1ms/step - loss: 0.1356 - mean_absolute_error: 0.1356 - val_loss: 0.1620 - val_mean_absolute_error: 0.1620\n",
      "Epoch 72/100\n",
      "96/96 [==============================] - 0s 1ms/step - loss: 0.1293 - mean_absolute_error: 0.1293 - val_loss: 0.1626 - val_mean_absolute_error: 0.1626\n",
      "Epoch 73/100\n",
      "96/96 [==============================] - 0s 1ms/step - loss: 0.1339 - mean_absolute_error: 0.1339 - val_loss: 0.1609 - val_mean_absolute_error: 0.1609\n",
      "Epoch 74/100\n",
      "96/96 [==============================] - 0s 1ms/step - loss: 0.1317 - mean_absolute_error: 0.1317 - val_loss: 0.1638 - val_mean_absolute_error: 0.1638\n",
      "Epoch 75/100\n",
      "96/96 [==============================] - 0s 1ms/step - loss: 0.1294 - mean_absolute_error: 0.1294 - val_loss: 0.1593 - val_mean_absolute_error: 0.1593\n",
      "Epoch 76/100\n",
      "96/96 [==============================] - 0s 1ms/step - loss: 0.1349 - mean_absolute_error: 0.1349 - val_loss: 0.1607 - val_mean_absolute_error: 0.1607\n",
      "Epoch 77/100\n",
      "96/96 [==============================] - 0s 1ms/step - loss: 0.1298 - mean_absolute_error: 0.1298 - val_loss: 0.1584 - val_mean_absolute_error: 0.1584\n",
      "Epoch 78/100\n",
      "96/96 [==============================] - 0s 1ms/step - loss: 0.1316 - mean_absolute_error: 0.1316 - val_loss: 0.1581 - val_mean_absolute_error: 0.1581\n",
      "Epoch 79/100\n",
      "96/96 [==============================] - 0s 1ms/step - loss: 0.1411 - mean_absolute_error: 0.1411 - val_loss: 0.1576 - val_mean_absolute_error: 0.1576\n",
      "Epoch 80/100\n",
      "96/96 [==============================] - 0s 1ms/step - loss: 0.1298 - mean_absolute_error: 0.1298 - val_loss: 0.1568 - val_mean_absolute_error: 0.1568\n",
      "Epoch 81/100\n",
      "96/96 [==============================] - 0s 998us/step - loss: 0.1331 - mean_absolute_error: 0.1331 - val_loss: 0.1571 - val_mean_absolute_error: 0.1571\n",
      "Epoch 82/100\n",
      "96/96 [==============================] - 0s 1ms/step - loss: 0.1244 - mean_absolute_error: 0.1244 - val_loss: 0.1570 - val_mean_absolute_error: 0.1570\n",
      "Epoch 83/100\n",
      "96/96 [==============================] - 0s 1ms/step - loss: 0.1308 - mean_absolute_error: 0.1308 - val_loss: 0.1563 - val_mean_absolute_error: 0.1563\n",
      "Epoch 84/100\n",
      "96/96 [==============================] - 0s 1ms/step - loss: 0.1276 - mean_absolute_error: 0.1276 - val_loss: 0.1598 - val_mean_absolute_error: 0.1598\n",
      "Epoch 85/100\n",
      "96/96 [==============================] - 0s 1ms/step - loss: 0.1361 - mean_absolute_error: 0.1361 - val_loss: 0.1539 - val_mean_absolute_error: 0.1539\n",
      "Epoch 86/100\n",
      "96/96 [==============================] - 0s 1ms/step - loss: 0.1268 - mean_absolute_error: 0.1268 - val_loss: 0.1561 - val_mean_absolute_error: 0.1561\n",
      "Epoch 87/100\n",
      "96/96 [==============================] - 0s 1ms/step - loss: 0.1309 - mean_absolute_error: 0.1309 - val_loss: 0.1542 - val_mean_absolute_error: 0.1542\n",
      "Epoch 88/100\n",
      "96/96 [==============================] - 0s 1ms/step - loss: 0.1305 - mean_absolute_error: 0.1305 - val_loss: 0.1537 - val_mean_absolute_error: 0.1537\n",
      "Epoch 89/100\n",
      "96/96 [==============================] - 0s 1ms/step - loss: 0.1299 - mean_absolute_error: 0.1299 - val_loss: 0.1539 - val_mean_absolute_error: 0.1539\n",
      "Epoch 90/100\n",
      "96/96 [==============================] - 0s 1ms/step - loss: 0.1265 - mean_absolute_error: 0.1265 - val_loss: 0.1525 - val_mean_absolute_error: 0.1525\n",
      "Epoch 91/100\n",
      "96/96 [==============================] - 0s 1ms/step - loss: 0.1206 - mean_absolute_error: 0.1206 - val_loss: 0.1517 - val_mean_absolute_error: 0.1517\n",
      "Epoch 92/100\n",
      "96/96 [==============================] - 0s 1ms/step - loss: 0.1354 - mean_absolute_error: 0.1354 - val_loss: 0.1549 - val_mean_absolute_error: 0.1549\n",
      "Epoch 93/100\n",
      "96/96 [==============================] - 0s 1ms/step - loss: 0.1341 - mean_absolute_error: 0.1341 - val_loss: 0.1533 - val_mean_absolute_error: 0.1533\n",
      "Epoch 94/100\n",
      "96/96 [==============================] - 0s 1ms/step - loss: 0.1244 - mean_absolute_error: 0.1244 - val_loss: 0.1535 - val_mean_absolute_error: 0.1535\n",
      "Epoch 95/100\n",
      "96/96 [==============================] - 0s 1ms/step - loss: 0.1274 - mean_absolute_error: 0.1274 - val_loss: 0.1505 - val_mean_absolute_error: 0.1505\n",
      "Epoch 96/100\n",
      "96/96 [==============================] - 0s 1ms/step - loss: 0.1286 - mean_absolute_error: 0.1286 - val_loss: 0.1490 - val_mean_absolute_error: 0.1490\n",
      "Epoch 97/100\n",
      "96/96 [==============================] - 0s 1ms/step - loss: 0.1316 - mean_absolute_error: 0.1316 - val_loss: 0.1471 - val_mean_absolute_error: 0.1471\n",
      "Epoch 98/100\n",
      "96/96 [==============================] - 0s 1ms/step - loss: 0.1270 - mean_absolute_error: 0.1270 - val_loss: 0.1465 - val_mean_absolute_error: 0.1465\n",
      "Epoch 99/100\n",
      "96/96 [==============================] - 0s 1ms/step - loss: 0.1205 - mean_absolute_error: 0.1205 - val_loss: 0.1451 - val_mean_absolute_error: 0.1451\n",
      "Epoch 100/100\n",
      "96/96 [==============================] - 0s 1ms/step - loss: 0.1241 - mean_absolute_error: 0.1241 - val_loss: 0.1460 - val_mean_absolute_error: 0.1460\n"
     ]
    }
   ],
   "source": [
    "# ONLY USE FOR BEST MODEL SELECTION\n",
    "# network_name = \"GRU\"\n",
    "# filepath = network_name + \"_epoch-{epoch:02d}-loss-{loss:.4f}-.hdf5\"\n",
    "# checkpoint = ModelCheckpoint(filepath, monitor=\"val_loss\", verbose=0, save_best_only=True, mode=\"min\")\n",
    "# callbacks_list = [checkpoint]\n",
    "network1 = GRUmodel.fit(trainNormX, trainNormY, validation_data=(valNormX, valNormY), epochs=100, batch_size=2)"
   ]
  },
  {
   "cell_type": "code",
   "execution_count": 78,
   "metadata": {
    "scrolled": true
   },
   "outputs": [
    {
     "data": {
      "image/png": "[encoded data removed]",
      "text/plain": [
       "<Figure size 432x288 with 1 Axes>"
      ]
     },
     "metadata": {
      "needs_background": "light"
     },
     "output_type": "display_data"
    }
   ],
   "source": [
    "plt.plot(network1.history[\"loss\"], label=\"loss\")\n",
    "plt.plot(network1.history[\"val_loss\"], label=\"val_loss\")\n",
    "plt.legend()\n",
    "plt.title(\"GRU\")\n",
    "plt.show()"
   ]
  },
  {
   "cell_type": "code",
   "execution_count": 79,
   "metadata": {},
   "outputs": [],
   "source": [
    "bestGRU = load_model(\"GRU_epoch-97-loss-0.1218-.hdf5\")"
   ]
  },
  {
   "cell_type": "code",
   "execution_count": 80,
   "metadata": {},
   "outputs": [
    {
     "name": "stdout",
     "output_type": "stream",
     "text": [
      "15/15 [==============================] - 0s 5ms/step\n",
      "MAE for GRU is: 0.09637109190225601\n"
     ]
    }
   ],
   "source": [
    "print(\"MAE for GRU is:\",bestGRU.evaluate(testNormX,testNormY)[1])"
   ]
  },
  {
   "cell_type": "code",
   "execution_count": 81,
   "metadata": {},
   "outputs": [],
   "source": [
    "preds1 = bestGRU.predict(testNormX)"
   ]
  },
  {
   "cell_type": "code",
   "execution_count": 82,
   "metadata": {
    "scrolled": false
   },
   "outputs": [
    {
     "data": {
      "image/png": "[encoded data removed]",
      "text/plain": [
       "<Figure size 432x288 with 1 Axes>"
      ]
     },
     "metadata": {
      "needs_background": "light"
     },
     "output_type": "display_data"
    }
   ],
   "source": [
    "plt.plot(sc.inverse_transform(preds1.reshape(-1,1)), label=\"Predicted\", color=\"red\")\n",
    "plt.plot(sc.inverse_transform(testNormY.reshape(-1,1)), label=\"ACtual\", color=\"black\")\n",
    "plt.legend()\n",
    "plt.title(\"GRU\")\n",
    "plt.show()"
   ]
  },
  {
   "cell_type": "code",
   "execution_count": 83,
   "metadata": {},
   "outputs": [
    {
     "name": "stdout",
     "output_type": "stream",
     "text": [
      "15/15 [==============================] - 0s 48us/step\n",
      "MAE for LSTM is: 0.10972357541322708\n"
     ]
    }
   ],
   "source": [
    "print(\"MAE for LSTM is:\",lstmbest.evaluate(testNormX,testNormY)[1])"
   ]
  },
  {
   "cell_type": "code",
   "execution_count": 84,
   "metadata": {
    "scrolled": true
   },
   "outputs": [
    {
     "name": "stdout",
     "output_type": "stream",
     "text": [
      "15/15 [==============================] - 0s 89us/step\n",
      "MAE for GRU is: 0.09637109190225601\n"
     ]
    }
   ],
   "source": [
    "print(\"MAE for GRU is:\",bestGRU.evaluate(testNormX,testNormY)[1])"
   ]
  },
  {
   "cell_type": "markdown",
   "metadata": {},
   "source": [
    "GRU outperforms LSTM in our example"
   ]
  },
  {
   "cell_type": "code",
   "execution_count": 85,
   "metadata": {},
   "outputs": [],
   "source": [
    "from keras import layers"
   ]
  },
  {
   "cell_type": "markdown",
   "metadata": {},
   "source": [
    "## 1D + GRU"
   ]
  },
  {
   "cell_type": "code",
   "execution_count": 86,
   "metadata": {},
   "outputs": [],
   "source": [
    "Covmodel = Sequential()\n",
    "Covmodel.add(layers.Conv1D(filters=64, kernel_size=trainNormX.shape[1], activation=\"relu\", input_shape=trainNormX.shape[1:]))\n",
    "Covmodel.add(GRU(24))\n",
    "Covmodel.add(Dense(5, activation='linear'))\n",
    "Covmodel.compile(loss=\"mae\", optimizer=\"adam\",metrics=[\"mean_absolute_error\"])"
   ]
  },
  {
   "cell_type": "code",
   "execution_count": 87,
   "metadata": {},
   "outputs": [
    {
     "name": "stdout",
     "output_type": "stream",
     "text": [
      "Model: \"sequential_8\"\n",
      "_________________________________________________________________\n",
      "Layer (type)                 Output Shape              Param #   \n",
      "=================================================================\n",
      "conv1d_3 (Conv1D)            (None, 1, 64)             192       \n",
      "_________________________________________________________________\n",
      "gru_4 (GRU)                  (None, 24)                6408      \n",
      "_________________________________________________________________\n",
      "dense_9 (Dense)              (None, 5)                 125       \n",
      "=================================================================\n",
      "Total params: 6,725\n",
      "Trainable params: 6,725\n",
      "Non-trainable params: 0\n",
      "_________________________________________________________________\n"
     ]
    }
   ],
   "source": [
    "Covmodel.summary()"
   ]
  },
  {
   "cell_type": "code",
   "execution_count": 88,
   "metadata": {
    "scrolled": true
   },
   "outputs": [
    {
     "name": "stdout",
     "output_type": "stream",
     "text": [
      "Train on 96 samples, validate on 15 samples\n",
      "Epoch 1/100\n",
      "96/96 [==============================] - 1s 6ms/step - loss: 0.1930 - mean_absolute_error: 0.1930 - val_loss: 0.2245 - val_mean_absolute_error: 0.2245\n",
      "Epoch 2/100\n",
      "96/96 [==============================] - 0s 1ms/step - loss: 0.1717 - mean_absolute_error: 0.1717 - val_loss: 0.2033 - val_mean_absolute_error: 0.2033\n",
      "Epoch 3/100\n",
      "96/96 [==============================] - 0s 1ms/step - loss: 0.1605 - mean_absolute_error: 0.1605 - val_loss: 0.1904 - val_mean_absolute_error: 0.1904\n",
      "Epoch 4/100\n",
      "96/96 [==============================] - 0s 943us/step - loss: 0.1519 - mean_absolute_error: 0.1519 - val_loss: 0.1798 - val_mean_absolute_error: 0.1798\n",
      "Epoch 5/100\n",
      "96/96 [==============================] - 0s 930us/step - loss: 0.1423 - mean_absolute_error: 0.1423 - val_loss: 0.1714 - val_mean_absolute_error: 0.1714\n",
      "Epoch 6/100\n",
      "96/96 [==============================] - 0s 999us/step - loss: 0.1398 - mean_absolute_error: 0.1398 - val_loss: 0.1693 - val_mean_absolute_error: 0.1693\n",
      "Epoch 7/100\n",
      "96/96 [==============================] - 0s 937us/step - loss: 0.1341 - mean_absolute_error: 0.1341 - val_loss: 0.1618 - val_mean_absolute_error: 0.1618\n",
      "Epoch 8/100\n",
      "96/96 [==============================] - 0s 938us/step - loss: 0.1296 - mean_absolute_error: 0.1296 - val_loss: 0.1612 - val_mean_absolute_error: 0.1612\n",
      "Epoch 9/100\n",
      "96/96 [==============================] - 0s 1ms/step - loss: 0.1275 - mean_absolute_error: 0.1275 - val_loss: 0.1557 - val_mean_absolute_error: 0.1557\n",
      "Epoch 10/100\n",
      "96/96 [==============================] - 0s 1ms/step - loss: 0.1252 - mean_absolute_error: 0.1252 - val_loss: 0.1511 - val_mean_absolute_error: 0.1511\n",
      "Epoch 11/100\n",
      "96/96 [==============================] - 0s 962us/step - loss: 0.1232 - mean_absolute_error: 0.1232 - val_loss: 0.1509 - val_mean_absolute_error: 0.1509\n",
      "Epoch 12/100\n",
      "96/96 [==============================] - 0s 824us/step - loss: 0.1220 - mean_absolute_error: 0.1220 - val_loss: 0.1462 - val_mean_absolute_error: 0.1462\n",
      "Epoch 13/100\n",
      "96/96 [==============================] - 0s 971us/step - loss: 0.1204 - mean_absolute_error: 0.1204 - val_loss: 0.1449 - val_mean_absolute_error: 0.1449\n",
      "Epoch 14/100\n",
      "96/96 [==============================] - 0s 1ms/step - loss: 0.1185 - mean_absolute_error: 0.1185 - val_loss: 0.1464 - val_mean_absolute_error: 0.1464\n",
      "Epoch 15/100\n",
      "96/96 [==============================] - 0s 1ms/step - loss: 0.1177 - mean_absolute_error: 0.1177 - val_loss: 0.1406 - val_mean_absolute_error: 0.1406\n",
      "Epoch 16/100\n",
      "96/96 [==============================] - 0s 843us/step - loss: 0.1169 - mean_absolute_error: 0.1169 - val_loss: 0.1379 - val_mean_absolute_error: 0.1379\n",
      "Epoch 17/100\n",
      "96/96 [==============================] - 0s 962us/step - loss: 0.1155 - mean_absolute_error: 0.1155 - val_loss: 0.1360 - val_mean_absolute_error: 0.1360\n",
      "Epoch 18/100\n",
      "96/96 [==============================] - 0s 885us/step - loss: 0.1143 - mean_absolute_error: 0.1143 - val_loss: 0.1323 - val_mean_absolute_error: 0.1323\n",
      "Epoch 19/100\n",
      "96/96 [==============================] - 0s 929us/step - loss: 0.1112 - mean_absolute_error: 0.1112 - val_loss: 0.1298 - val_mean_absolute_error: 0.1298\n",
      "Epoch 20/100\n",
      "96/96 [==============================] - 0s 915us/step - loss: 0.1105 - mean_absolute_error: 0.1105 - val_loss: 0.1310 - val_mean_absolute_error: 0.1310\n",
      "Epoch 21/100\n",
      "96/96 [==============================] - 0s 883us/step - loss: 0.1092 - mean_absolute_error: 0.1092 - val_loss: 0.1245 - val_mean_absolute_error: 0.1245\n",
      "Epoch 22/100\n",
      "96/96 [==============================] - 0s 901us/step - loss: 0.1094 - mean_absolute_error: 0.1094 - val_loss: 0.1321 - val_mean_absolute_error: 0.1321\n",
      "Epoch 23/100\n",
      "96/96 [==============================] - 0s 1ms/step - loss: 0.1091 - mean_absolute_error: 0.1091 - val_loss: 0.1216 - val_mean_absolute_error: 0.1216\n",
      "Epoch 24/100\n",
      "96/96 [==============================] - 0s 1ms/step - loss: 0.1076 - mean_absolute_error: 0.1076 - val_loss: 0.1240 - val_mean_absolute_error: 0.1240\n",
      "Epoch 25/100\n",
      "96/96 [==============================] - 0s 865us/step - loss: 0.1062 - mean_absolute_error: 0.1062 - val_loss: 0.1228 - val_mean_absolute_error: 0.1228\n",
      "Epoch 26/100\n",
      "96/96 [==============================] - 0s 930us/step - loss: 0.1061 - mean_absolute_error: 0.1061 - val_loss: 0.1170 - val_mean_absolute_error: 0.1170\n",
      "Epoch 27/100\n",
      "96/96 [==============================] - 0s 848us/step - loss: 0.1055 - mean_absolute_error: 0.1055 - val_loss: 0.1213 - val_mean_absolute_error: 0.1213\n",
      "Epoch 28/100\n",
      "96/96 [==============================] - 0s 938us/step - loss: 0.1044 - mean_absolute_error: 0.1044 - val_loss: 0.1172 - val_mean_absolute_error: 0.1172\n",
      "Epoch 29/100\n",
      "96/96 [==============================] - 0s 868us/step - loss: 0.1036 - mean_absolute_error: 0.1036 - val_loss: 0.1203 - val_mean_absolute_error: 0.1203\n",
      "Epoch 30/100\n",
      "96/96 [==============================] - 0s 990us/step - loss: 0.1040 - mean_absolute_error: 0.1040 - val_loss: 0.1137 - val_mean_absolute_error: 0.1137\n",
      "Epoch 31/100\n",
      "96/96 [==============================] - 0s 1ms/step - loss: 0.1040 - mean_absolute_error: 0.1040 - val_loss: 0.1135 - val_mean_absolute_error: 0.1135\n",
      "Epoch 32/100\n",
      "96/96 [==============================] - 0s 1ms/step - loss: 0.1045 - mean_absolute_error: 0.1045 - val_loss: 0.1166 - val_mean_absolute_error: 0.1166\n",
      "Epoch 33/100\n",
      "96/96 [==============================] - 0s 922us/step - loss: 0.1041 - mean_absolute_error: 0.1041 - val_loss: 0.1151 - val_mean_absolute_error: 0.1151\n",
      "Epoch 34/100\n",
      "96/96 [==============================] - 0s 938us/step - loss: 0.1035 - mean_absolute_error: 0.1035 - val_loss: 0.1163 - val_mean_absolute_error: 0.1163\n",
      "Epoch 35/100\n",
      "96/96 [==============================] - 0s 964us/step - loss: 0.1034 - mean_absolute_error: 0.1034 - val_loss: 0.1156 - val_mean_absolute_error: 0.1156\n",
      "Epoch 36/100\n",
      "96/96 [==============================] - 0s 1ms/step - loss: 0.1024 - mean_absolute_error: 0.1024 - val_loss: 0.1163 - val_mean_absolute_error: 0.1163\n",
      "Epoch 37/100\n",
      "96/96 [==============================] - 0s 1ms/step - loss: 0.1032 - mean_absolute_error: 0.1032 - val_loss: 0.1146 - val_mean_absolute_error: 0.1146\n",
      "Epoch 38/100\n",
      "96/96 [==============================] - 0s 884us/step - loss: 0.1034 - mean_absolute_error: 0.1034 - val_loss: 0.1165 - val_mean_absolute_error: 0.1165\n",
      "Epoch 39/100\n",
      "96/96 [==============================] - 0s 968us/step - loss: 0.1019 - mean_absolute_error: 0.1019 - val_loss: 0.1128 - val_mean_absolute_error: 0.1128\n",
      "Epoch 40/100\n",
      "96/96 [==============================] - 0s 928us/step - loss: 0.1019 - mean_absolute_error: 0.1019 - val_loss: 0.1185 - val_mean_absolute_error: 0.1185\n",
      "Epoch 41/100\n",
      "96/96 [==============================] - 0s 1ms/step - loss: 0.1026 - mean_absolute_error: 0.1026 - val_loss: 0.1122 - val_mean_absolute_error: 0.1122\n",
      "Epoch 42/100\n",
      "96/96 [==============================] - 0s 1ms/step - loss: 0.1013 - mean_absolute_error: 0.1013 - val_loss: 0.1122 - val_mean_absolute_error: 0.1122\n",
      "Epoch 43/100\n",
      "96/96 [==============================] - 0s 1ms/step - loss: 0.1033 - mean_absolute_error: 0.1033 - val_loss: 0.1115 - val_mean_absolute_error: 0.1115\n",
      "Epoch 44/100\n",
      "96/96 [==============================] - 0s 1ms/step - loss: 0.1020 - mean_absolute_error: 0.1020 - val_loss: 0.1188 - val_mean_absolute_error: 0.1188\n",
      "Epoch 45/100\n",
      "96/96 [==============================] - 0s 915us/step - loss: 0.1009 - mean_absolute_error: 0.1009 - val_loss: 0.1110 - val_mean_absolute_error: 0.1110\n",
      "Epoch 46/100\n",
      "96/96 [==============================] - 0s 917us/step - loss: 0.1010 - mean_absolute_error: 0.1010 - val_loss: 0.1106 - val_mean_absolute_error: 0.1106\n",
      "Epoch 47/100\n",
      "96/96 [==============================] - 0s 1ms/step - loss: 0.1002 - mean_absolute_error: 0.1002 - val_loss: 0.1101 - val_mean_absolute_error: 0.1101\n",
      "Epoch 48/100\n",
      "96/96 [==============================] - 0s 951us/step - loss: 0.1013 - mean_absolute_error: 0.1013 - val_loss: 0.1139 - val_mean_absolute_error: 0.1139\n",
      "Epoch 49/100\n",
      "96/96 [==============================] - 0s 872us/step - loss: 0.1012 - mean_absolute_error: 0.1012 - val_loss: 0.1090 - val_mean_absolute_error: 0.1090\n",
      "Epoch 50/100\n",
      "96/96 [==============================] - 0s 1ms/step - loss: 0.0993 - mean_absolute_error: 0.0993 - val_loss: 0.1090 - val_mean_absolute_error: 0.1090\n",
      "Epoch 51/100\n",
      "96/96 [==============================] - 0s 1ms/step - loss: 0.0997 - mean_absolute_error: 0.0997 - val_loss: 0.1121 - val_mean_absolute_error: 0.1121\n",
      "Epoch 52/100\n",
      "96/96 [==============================] - 0s 1ms/step - loss: 0.0998 - mean_absolute_error: 0.0998 - val_loss: 0.1095 - val_mean_absolute_error: 0.1095\n",
      "Epoch 53/100\n",
      "96/96 [==============================] - 0s 887us/step - loss: 0.0999 - mean_absolute_error: 0.0999 - val_loss: 0.1108 - val_mean_absolute_error: 0.1108\n",
      "Epoch 54/100\n",
      "96/96 [==============================] - 0s 908us/step - loss: 0.0985 - mean_absolute_error: 0.0985 - val_loss: 0.1090 - val_mean_absolute_error: 0.1090\n",
      "Epoch 55/100\n",
      "96/96 [==============================] - 0s 1ms/step - loss: 0.1009 - mean_absolute_error: 0.1009 - val_loss: 0.1084 - val_mean_absolute_error: 0.1084\n",
      "Epoch 56/100\n",
      "96/96 [==============================] - 0s 1ms/step - loss: 0.0989 - mean_absolute_error: 0.0989 - val_loss: 0.1130 - val_mean_absolute_error: 0.1130\n",
      "Epoch 57/100\n",
      "96/96 [==============================] - 0s 897us/step - loss: 0.0996 - mean_absolute_error: 0.0996 - val_loss: 0.1065 - val_mean_absolute_error: 0.1065\n",
      "Epoch 58/100\n",
      "96/96 [==============================] - 0s 918us/step - loss: 0.0999 - mean_absolute_error: 0.0999 - val_loss: 0.1149 - val_mean_absolute_error: 0.1149\n",
      "Epoch 59/100\n",
      "96/96 [==============================] - 0s 931us/step - loss: 0.0998 - mean_absolute_error: 0.0998 - val_loss: 0.1083 - val_mean_absolute_error: 0.1083\n",
      "Epoch 60/100\n",
      "96/96 [==============================] - 0s 1ms/step - loss: 0.0970 - mean_absolute_error: 0.0970 - val_loss: 0.1062 - val_mean_absolute_error: 0.1062\n",
      "Epoch 61/100\n",
      "96/96 [==============================] - 0s 1ms/step - loss: 0.0976 - mean_absolute_error: 0.0976 - val_loss: 0.1057 - val_mean_absolute_error: 0.1057\n",
      "Epoch 62/100\n",
      "96/96 [==============================] - 0s 913us/step - loss: 0.0964 - mean_absolute_error: 0.0964 - val_loss: 0.1035 - val_mean_absolute_error: 0.1035\n",
      "Epoch 63/100\n",
      "96/96 [==============================] - 0s 906us/step - loss: 0.1012 - mean_absolute_error: 0.1012 - val_loss: 0.1090 - val_mean_absolute_error: 0.1090\n",
      "Epoch 64/100\n",
      "96/96 [==============================] - 0s 916us/step - loss: 0.0975 - mean_absolute_error: 0.0975 - val_loss: 0.1047 - val_mean_absolute_error: 0.1047\n",
      "Epoch 65/100\n",
      "96/96 [==============================] - 0s 957us/step - loss: 0.0972 - mean_absolute_error: 0.0972 - val_loss: 0.1161 - val_mean_absolute_error: 0.1161\n",
      "Epoch 66/100\n",
      "96/96 [==============================] - 0s 1ms/step - loss: 0.0966 - mean_absolute_error: 0.0966 - val_loss: 0.1093 - val_mean_absolute_error: 0.1093\n",
      "Epoch 67/100\n",
      "96/96 [==============================] - 0s 1ms/step - loss: 0.0957 - mean_absolute_error: 0.0957 - val_loss: 0.1074 - val_mean_absolute_error: 0.1074\n",
      "Epoch 68/100\n",
      "96/96 [==============================] - 0s 896us/step - loss: 0.0966 - mean_absolute_error: 0.0966 - val_loss: 0.1077 - val_mean_absolute_error: 0.1077\n",
      "Epoch 69/100\n",
      "96/96 [==============================] - 0s 923us/step - loss: 0.0959 - mean_absolute_error: 0.0959 - val_loss: 0.1124 - val_mean_absolute_error: 0.1124\n",
      "Epoch 70/100\n",
      "96/96 [==============================] - 0s 1ms/step - loss: 0.0971 - mean_absolute_error: 0.0971 - val_loss: 0.1049 - val_mean_absolute_error: 0.1049\n",
      "Epoch 71/100\n",
      "96/96 [==============================] - 0s 859us/step - loss: 0.0945 - mean_absolute_error: 0.0945 - val_loss: 0.1049 - val_mean_absolute_error: 0.1049\n",
      "Epoch 72/100\n",
      "96/96 [==============================] - ETA: 0s - loss: 0.0970 - mean_absolute_error: 0.097 - 0s 912us/step - loss: 0.0960 - mean_absolute_error: 0.0960 - val_loss: 0.1044 - val_mean_absolute_error: 0.1044\n",
      "Epoch 73/100\n",
      "96/96 [==============================] - 0s 1ms/step - loss: 0.0951 - mean_absolute_error: 0.0951 - val_loss: 0.1020 - val_mean_absolute_error: 0.1020\n",
      "Epoch 74/100\n",
      "96/96 [==============================] - 0s 1ms/step - loss: 0.0960 - mean_absolute_error: 0.0960 - val_loss: 0.1084 - val_mean_absolute_error: 0.1084\n",
      "Epoch 75/100\n",
      "96/96 [==============================] - 0s 851us/step - loss: 0.0944 - mean_absolute_error: 0.0944 - val_loss: 0.0998 - val_mean_absolute_error: 0.0998\n",
      "Epoch 76/100\n",
      "96/96 [==============================] - 0s 924us/step - loss: 0.0961 - mean_absolute_error: 0.0961 - val_loss: 0.1021 - val_mean_absolute_error: 0.1021\n",
      "Epoch 77/100\n",
      "96/96 [==============================] - 0s 935us/step - loss: 0.0982 - mean_absolute_error: 0.0982 - val_loss: 0.1061 - val_mean_absolute_error: 0.1061\n",
      "Epoch 78/100\n",
      "96/96 [==============================] - 0s 940us/step - loss: 0.0968 - mean_absolute_error: 0.0968 - val_loss: 0.1032 - val_mean_absolute_error: 0.1032\n",
      "Epoch 79/100\n",
      "96/96 [==============================] - 0s 924us/step - loss: 0.0950 - mean_absolute_error: 0.0950 - val_loss: 0.1073 - val_mean_absolute_error: 0.1073\n",
      "Epoch 80/100\n",
      "96/96 [==============================] - 0s 1ms/step - loss: 0.0945 - mean_absolute_error: 0.0945 - val_loss: 0.1011 - val_mean_absolute_error: 0.1011\n",
      "Epoch 81/100\n",
      "96/96 [==============================] - 0s 993us/step - loss: 0.0945 - mean_absolute_error: 0.0945 - val_loss: 0.1041 - val_mean_absolute_error: 0.1041\n",
      "Epoch 82/100\n",
      "96/96 [==============================] - 0s 886us/step - loss: 0.0951 - mean_absolute_error: 0.0951 - val_loss: 0.0993 - val_mean_absolute_error: 0.0993\n",
      "Epoch 83/100\n",
      "96/96 [==============================] - 0s 870us/step - loss: 0.0937 - mean_absolute_error: 0.0937 - val_loss: 0.1012 - val_mean_absolute_error: 0.1012\n",
      "Epoch 84/100\n",
      "96/96 [==============================] - 0s 901us/step - loss: 0.0936 - mean_absolute_error: 0.0936 - val_loss: 0.1039 - val_mean_absolute_error: 0.1039\n",
      "Epoch 85/100\n",
      "96/96 [==============================] - 0s 904us/step - loss: 0.0945 - mean_absolute_error: 0.0945 - val_loss: 0.1001 - val_mean_absolute_error: 0.1001\n",
      "Epoch 86/100\n",
      "96/96 [==============================] - 0s 882us/step - loss: 0.0927 - mean_absolute_error: 0.0927 - val_loss: 0.1165 - val_mean_absolute_error: 0.1165\n",
      "Epoch 87/100\n",
      "96/96 [==============================] - 0s 873us/step - loss: 0.0964 - mean_absolute_error: 0.0964 - val_loss: 0.1018 - val_mean_absolute_error: 0.1018\n",
      "Epoch 88/100\n",
      "96/96 [==============================] - 0s 917us/step - loss: 0.0931 - mean_absolute_error: 0.0931 - val_loss: 0.1102 - val_mean_absolute_error: 0.1102\n",
      "Epoch 89/100\n",
      "96/96 [==============================] - 0s 919us/step - loss: 0.0975 - mean_absolute_error: 0.0975 - val_loss: 0.1035 - val_mean_absolute_error: 0.1035\n",
      "Epoch 90/100\n",
      "96/96 [==============================] - 0s 959us/step - loss: 0.0940 - mean_absolute_error: 0.0940 - val_loss: 0.0993 - val_mean_absolute_error: 0.0993\n",
      "Epoch 91/100\n",
      "96/96 [==============================] - 0s 959us/step - loss: 0.0933 - mean_absolute_error: 0.0933 - val_loss: 0.1003 - val_mean_absolute_error: 0.1003\n",
      "Epoch 92/100\n",
      "96/96 [==============================] - 0s 925us/step - loss: 0.0938 - mean_absolute_error: 0.0938 - val_loss: 0.1054 - val_mean_absolute_error: 0.1054\n",
      "Epoch 93/100\n",
      "96/96 [==============================] - 0s 1ms/step - loss: 0.0931 - mean_absolute_error: 0.0931 - val_loss: 0.1013 - val_mean_absolute_error: 0.1013\n",
      "Epoch 94/100\n",
      "96/96 [==============================] - 0s 894us/step - loss: 0.0933 - mean_absolute_error: 0.0933 - val_loss: 0.1007 - val_mean_absolute_error: 0.1007\n",
      "Epoch 95/100\n",
      "96/96 [==============================] - 0s 921us/step - loss: 0.0955 - mean_absolute_error: 0.0955 - val_loss: 0.0989 - val_mean_absolute_error: 0.0989\n",
      "Epoch 96/100\n",
      "96/96 [==============================] - 0s 946us/step - loss: 0.0941 - mean_absolute_error: 0.0941 - val_loss: 0.0985 - val_mean_absolute_error: 0.0985\n",
      "Epoch 97/100\n",
      "96/96 [==============================] - 0s 906us/step - loss: 0.0952 - mean_absolute_error: 0.0952 - val_loss: 0.1035 - val_mean_absolute_error: 0.1035\n",
      "Epoch 98/100\n",
      "96/96 [==============================] - 0s 953us/step - loss: 0.0925 - mean_absolute_error: 0.0925 - val_loss: 0.1052 - val_mean_absolute_error: 0.1052\n",
      "Epoch 99/100\n"
     ]
    },
    {
     "name": "stdout",
     "output_type": "stream",
     "text": [
      "96/96 [==============================] - 0s 936us/step - loss: 0.0954 - mean_absolute_error: 0.0954 - val_loss: 0.0972 - val_mean_absolute_error: 0.0972\n",
      "Epoch 100/100\n",
      "96/96 [==============================] - 0s 878us/step - loss: 0.0937 - mean_absolute_error: 0.0937 - val_loss: 0.1012 - val_mean_absolute_error: 0.1012\n"
     ]
    }
   ],
   "source": [
    "# ONLY USE FOR BEST MODEL SELECTION\n",
    "# network_name = \"COVGRU\"\n",
    "# filepath = network_name + \"_epoch-{epoch:02d}-loss-{loss:.4f}-.hdf5\"\n",
    "# checkpoint = ModelCheckpoint(filepath, monitor=\"val_loss\", verbose=0, save_best_only=True, mode=\"min\")\n",
    "# callbacks_list = [checkpoint]\n",
    "network2 = Covmodel.fit(trainNormX, trainNormY, validation_data=(valNormX, valNormY), epochs=100, batch_size=2)"
   ]
  },
  {
   "cell_type": "code",
   "execution_count": 89,
   "metadata": {
    "scrolled": false
   },
   "outputs": [
    {
     "data": {
      "image/png": "[encoded data removed]",
      "text/plain": [
       "<Figure size 432x288 with 1 Axes>"
      ]
     },
     "metadata": {
      "needs_background": "light"
     },
     "output_type": "display_data"
    }
   ],
   "source": [
    "plt.plot(network2.history[\"loss\"], label=\"loss\")\n",
    "plt.plot(network2.history[\"val_loss\"], label=\"val_loss\")\n",
    "plt.legend()\n",
    "plt.title(\"1D+GRU\")\n",
    "plt.show()"
   ]
  },
  {
   "cell_type": "code",
   "execution_count": 90,
   "metadata": {},
   "outputs": [],
   "source": [
    "bestcovgru = load_model(\"COVGRU_epoch-89-loss-0.0932-.hdf5\")"
   ]
  },
  {
   "cell_type": "code",
   "execution_count": 91,
   "metadata": {},
   "outputs": [
    {
     "name": "stdout",
     "output_type": "stream",
     "text": [
      "15/15 [==============================] - 0s 4ms/step\n",
      "The MAE for best Cov 1D + GRU model is: 0.09015214443206787\n"
     ]
    }
   ],
   "source": [
    "print(\"The MAE for best Cov 1D + GRU model is:\",bestcovgru.evaluate(testNormX,testNormY)[1])"
   ]
  },
  {
   "cell_type": "code",
   "execution_count": 92,
   "metadata": {
    "scrolled": true
   },
   "outputs": [
    {
     "data": {
      "image/png": "[encoded data removed]",
      "text/plain": [
       "<Figure size 432x288 with 1 Axes>"
      ]
     },
     "metadata": {
      "needs_background": "light"
     },
     "output_type": "display_data"
    }
   ],
   "source": [
    "preds2 = bestcovgru.predict(testNormX)\n",
    "plt.plot(sc.inverse_transform(preds2.reshape(-1,1)), label=\"Predicted\", color=\"red\")\n",
    "plt.plot(sc.inverse_transform(testNormY.reshape(-1,1)), label=\"ACtual\", color=\"black\")\n",
    "plt.legend()\n",
    "plt.title(\"1D+GRU\")\n",
    "plt.show()"
   ]
  },
  {
   "cell_type": "markdown",
   "metadata": {},
   "source": [
    "## 1D + LSTM"
   ]
  },
  {
   "cell_type": "code",
   "execution_count": 93,
   "metadata": {},
   "outputs": [],
   "source": [
    "Covlstmmodel = Sequential()\n",
    "Covlstmmodel.add(layers.Conv1D(filters=64, kernel_size=trainNormX.shape[1], activation=\"relu\", input_shape=trainNormX.shape[1:]))\n",
    "Covlstmmodel.add(LSTM(24))\n",
    "Covlstmmodel.add(Dense(5, activation='linear'))\n",
    "Covlstmmodel.compile(loss=\"mae\", optimizer=\"adam\",metrics=[\"mean_absolute_error\"])"
   ]
  },
  {
   "cell_type": "code",
   "execution_count": 94,
   "metadata": {
    "scrolled": true
   },
   "outputs": [
    {
     "name": "stdout",
     "output_type": "stream",
     "text": [
      "Train on 96 samples, validate on 15 samples\n",
      "Epoch 1/100\n",
      "96/96 [==============================] - 1s 6ms/step - loss: 0.1981 - mean_absolute_error: 0.1981 - val_loss: 0.2340 - val_mean_absolute_error: 0.2340\n",
      "Epoch 2/100\n",
      "96/96 [==============================] - 0s 1ms/step - loss: 0.1771 - mean_absolute_error: 0.1771 - val_loss: 0.2107 - val_mean_absolute_error: 0.2107\n",
      "Epoch 3/100\n",
      "96/96 [==============================] - 0s 1ms/step - loss: 0.1671 - mean_absolute_error: 0.1671 - val_loss: 0.1977 - val_mean_absolute_error: 0.1977\n",
      "Epoch 4/100\n",
      "96/96 [==============================] - 0s 940us/step - loss: 0.1579 - mean_absolute_error: 0.1579 - val_loss: 0.1872 - val_mean_absolute_error: 0.1872\n",
      "Epoch 5/100\n",
      "96/96 [==============================] - 0s 874us/step - loss: 0.1463 - mean_absolute_error: 0.1463 - val_loss: 0.1780 - val_mean_absolute_error: 0.1780\n",
      "Epoch 6/100\n",
      "96/96 [==============================] - 0s 937us/step - loss: 0.1378 - mean_absolute_error: 0.1378 - val_loss: 0.1652 - val_mean_absolute_error: 0.1652\n",
      "Epoch 7/100\n",
      "96/96 [==============================] - 0s 854us/step - loss: 0.1312 - mean_absolute_error: 0.1312 - val_loss: 0.1617 - val_mean_absolute_error: 0.1617\n",
      "Epoch 8/100\n",
      "96/96 [==============================] - 0s 991us/step - loss: 0.1291 - mean_absolute_error: 0.1291 - val_loss: 0.1569 - val_mean_absolute_error: 0.1569\n",
      "Epoch 9/100\n",
      "96/96 [==============================] - 0s 1ms/step - loss: 0.1256 - mean_absolute_error: 0.1256 - val_loss: 0.1547 - val_mean_absolute_error: 0.1547\n",
      "Epoch 10/100\n",
      "96/96 [==============================] - 0s 1ms/step - loss: 0.1237 - mean_absolute_error: 0.1237 - val_loss: 0.1530 - val_mean_absolute_error: 0.1530\n",
      "Epoch 11/100\n",
      "96/96 [==============================] - 0s 905us/step - loss: 0.1230 - mean_absolute_error: 0.1230 - val_loss: 0.1551 - val_mean_absolute_error: 0.1551\n",
      "Epoch 12/100\n",
      "96/96 [==============================] - 0s 1ms/step - loss: 0.1208 - mean_absolute_error: 0.1208 - val_loss: 0.1465 - val_mean_absolute_error: 0.1465\n",
      "Epoch 13/100\n",
      "96/96 [==============================] - 0s 1ms/step - loss: 0.1203 - mean_absolute_error: 0.1203 - val_loss: 0.1462 - val_mean_absolute_error: 0.1462\n",
      "Epoch 14/100\n",
      "96/96 [==============================] - 0s 989us/step - loss: 0.1186 - mean_absolute_error: 0.1186 - val_loss: 0.1422 - val_mean_absolute_error: 0.1422\n",
      "Epoch 15/100\n",
      "96/96 [==============================] - ETA: 0s - loss: 0.1131 - mean_absolute_error: 0.113 - 0s 790us/step - loss: 0.1163 - mean_absolute_error: 0.1163 - val_loss: 0.1382 - val_mean_absolute_error: 0.1382\n",
      "Epoch 16/100\n",
      "96/96 [==============================] - 0s 855us/step - loss: 0.1165 - mean_absolute_error: 0.1165 - val_loss: 0.1374 - val_mean_absolute_error: 0.1374\n",
      "Epoch 17/100\n",
      "96/96 [==============================] - 0s 840us/step - loss: 0.1151 - mean_absolute_error: 0.1151 - val_loss: 0.1325 - val_mean_absolute_error: 0.1325\n",
      "Epoch 18/100\n",
      "96/96 [==============================] - 0s 874us/step - loss: 0.1136 - mean_absolute_error: 0.1136 - val_loss: 0.1316 - val_mean_absolute_error: 0.1316\n",
      "Epoch 19/100\n",
      "96/96 [==============================] - 0s 786us/step - loss: 0.1107 - mean_absolute_error: 0.1107 - val_loss: 0.1291 - val_mean_absolute_error: 0.1291\n",
      "Epoch 20/100\n",
      "96/96 [==============================] - 0s 850us/step - loss: 0.1102 - mean_absolute_error: 0.1102 - val_loss: 0.1256 - val_mean_absolute_error: 0.1256\n",
      "Epoch 21/100\n",
      "96/96 [==============================] - 0s 844us/step - loss: 0.1102 - mean_absolute_error: 0.1102 - val_loss: 0.1223 - val_mean_absolute_error: 0.1223\n",
      "Epoch 22/100\n",
      "96/96 [==============================] - 0s 843us/step - loss: 0.1068 - mean_absolute_error: 0.1068 - val_loss: 0.1196 - val_mean_absolute_error: 0.1196\n",
      "Epoch 23/100\n",
      "96/96 [==============================] - 0s 828us/step - loss: 0.1068 - mean_absolute_error: 0.1068 - val_loss: 0.1187 - val_mean_absolute_error: 0.1187\n",
      "Epoch 24/100\n",
      "96/96 [==============================] - 0s 841us/step - loss: 0.1060 - mean_absolute_error: 0.1060 - val_loss: 0.1153 - val_mean_absolute_error: 0.1153\n",
      "Epoch 25/100\n",
      "96/96 [==============================] - 0s 808us/step - loss: 0.1083 - mean_absolute_error: 0.1083 - val_loss: 0.1192 - val_mean_absolute_error: 0.1192\n",
      "Epoch 26/100\n",
      "96/96 [==============================] - 0s 828us/step - loss: 0.1056 - mean_absolute_error: 0.1056 - val_loss: 0.1161 - val_mean_absolute_error: 0.1161\n",
      "Epoch 27/100\n",
      "96/96 [==============================] - 0s 823us/step - loss: 0.1042 - mean_absolute_error: 0.1042 - val_loss: 0.1136 - val_mean_absolute_error: 0.1136\n",
      "Epoch 28/100\n",
      "96/96 [==============================] - 0s 884us/step - loss: 0.1041 - mean_absolute_error: 0.1041 - val_loss: 0.1175 - val_mean_absolute_error: 0.1175\n",
      "Epoch 29/100\n",
      "96/96 [==============================] - 0s 868us/step - loss: 0.1035 - mean_absolute_error: 0.1035 - val_loss: 0.1132 - val_mean_absolute_error: 0.1132\n",
      "Epoch 30/100\n",
      "96/96 [==============================] - 0s 825us/step - loss: 0.1049 - mean_absolute_error: 0.1049 - val_loss: 0.1125 - val_mean_absolute_error: 0.1125\n",
      "Epoch 31/100\n",
      "96/96 [==============================] - 0s 852us/step - loss: 0.1055 - mean_absolute_error: 0.1055 - val_loss: 0.1123 - val_mean_absolute_error: 0.1123\n",
      "Epoch 32/100\n",
      "96/96 [==============================] - 0s 915us/step - loss: 0.1038 - mean_absolute_error: 0.1038 - val_loss: 0.1145 - val_mean_absolute_error: 0.1145\n",
      "Epoch 33/100\n",
      "96/96 [==============================] - 0s 1ms/step - loss: 0.1039 - mean_absolute_error: 0.1039 - val_loss: 0.1181 - val_mean_absolute_error: 0.1181\n",
      "Epoch 34/100\n",
      "96/96 [==============================] - 0s 1ms/step - loss: 0.1028 - mean_absolute_error: 0.1028 - val_loss: 0.1121 - val_mean_absolute_error: 0.1121\n",
      "Epoch 35/100\n",
      "96/96 [==============================] - 0s 1ms/step - loss: 0.1018 - mean_absolute_error: 0.1018 - val_loss: 0.1080 - val_mean_absolute_error: 0.1080\n",
      "Epoch 36/100\n",
      "96/96 [==============================] - 0s 1ms/step - loss: 0.1002 - mean_absolute_error: 0.1002 - val_loss: 0.1066 - val_mean_absolute_error: 0.1066\n",
      "Epoch 37/100\n",
      "96/96 [==============================] - 0s 1ms/step - loss: 0.1014 - mean_absolute_error: 0.1014 - val_loss: 0.1055 - val_mean_absolute_error: 0.1055\n",
      "Epoch 38/100\n",
      "96/96 [==============================] - 0s 968us/step - loss: 0.1013 - mean_absolute_error: 0.1013 - val_loss: 0.1103 - val_mean_absolute_error: 0.1103\n",
      "Epoch 39/100\n",
      "96/96 [==============================] - 0s 923us/step - loss: 0.0994 - mean_absolute_error: 0.0994 - val_loss: 0.1060 - val_mean_absolute_error: 0.1060\n",
      "Epoch 40/100\n",
      "96/96 [==============================] - 0s 1ms/step - loss: 0.1020 - mean_absolute_error: 0.1020 - val_loss: 0.1049 - val_mean_absolute_error: 0.1049\n",
      "Epoch 41/100\n",
      "96/96 [==============================] - 0s 1ms/step - loss: 0.0996 - mean_absolute_error: 0.0996 - val_loss: 0.1047 - val_mean_absolute_error: 0.1047\n",
      "Epoch 42/100\n",
      "96/96 [==============================] - 0s 967us/step - loss: 0.0994 - mean_absolute_error: 0.0994 - val_loss: 0.1026 - val_mean_absolute_error: 0.1026\n",
      "Epoch 43/100\n",
      "96/96 [==============================] - 0s 864us/step - loss: 0.1006 - mean_absolute_error: 0.1006 - val_loss: 0.1038 - val_mean_absolute_error: 0.1038\n",
      "Epoch 44/100\n",
      "96/96 [==============================] - 0s 885us/step - loss: 0.0990 - mean_absolute_error: 0.0990 - val_loss: 0.1056 - val_mean_absolute_error: 0.1056\n",
      "Epoch 45/100\n",
      "96/96 [==============================] - 0s 898us/step - loss: 0.0985 - mean_absolute_error: 0.0985 - val_loss: 0.1081 - val_mean_absolute_error: 0.1081\n",
      "Epoch 46/100\n",
      "96/96 [==============================] - 0s 1ms/step - loss: 0.0976 - mean_absolute_error: 0.0976 - val_loss: 0.1012 - val_mean_absolute_error: 0.1012\n",
      "Epoch 47/100\n",
      "96/96 [==============================] - 0s 1ms/step - loss: 0.0976 - mean_absolute_error: 0.0976 - val_loss: 0.1016 - val_mean_absolute_error: 0.1016\n",
      "Epoch 48/100\n",
      "96/96 [==============================] - 0s 812us/step - loss: 0.0980 - mean_absolute_error: 0.0980 - val_loss: 0.1018 - val_mean_absolute_error: 0.1018\n",
      "Epoch 49/100\n",
      "96/96 [==============================] - 0s 961us/step - loss: 0.0973 - mean_absolute_error: 0.0973 - val_loss: 0.1035 - val_mean_absolute_error: 0.1035\n",
      "Epoch 50/100\n"
     ]
    },
    {
     "name": "stdout",
     "output_type": "stream",
     "text": [
      "96/96 [==============================] - 0s 1ms/step - loss: 0.0969 - mean_absolute_error: 0.0969 - val_loss: 0.1055 - val_mean_absolute_error: 0.1055\n",
      "Epoch 51/100\n",
      "96/96 [==============================] - 0s 1ms/step - loss: 0.0962 - mean_absolute_error: 0.0962 - val_loss: 0.0981 - val_mean_absolute_error: 0.0981\n",
      "Epoch 52/100\n",
      "96/96 [==============================] - 0s 1ms/step - loss: 0.0970 - mean_absolute_error: 0.0970 - val_loss: 0.1015 - val_mean_absolute_error: 0.1015\n",
      "Epoch 53/100\n",
      "96/96 [==============================] - 0s 821us/step - loss: 0.0964 - mean_absolute_error: 0.0964 - val_loss: 0.0970 - val_mean_absolute_error: 0.0970\n",
      "Epoch 54/100\n",
      "96/96 [==============================] - 0s 872us/step - loss: 0.0948 - mean_absolute_error: 0.0948 - val_loss: 0.1020 - val_mean_absolute_error: 0.1020\n",
      "Epoch 55/100\n",
      "96/96 [==============================] - 0s 1ms/step - loss: 0.0961 - mean_absolute_error: 0.0961 - val_loss: 0.0964 - val_mean_absolute_error: 0.0964\n",
      "Epoch 56/100\n",
      "96/96 [==============================] - 0s 1ms/step - loss: 0.0952 - mean_absolute_error: 0.0952 - val_loss: 0.0978 - val_mean_absolute_error: 0.0978\n",
      "Epoch 57/100\n",
      "96/96 [==============================] - 0s 1ms/step - loss: 0.0941 - mean_absolute_error: 0.0941 - val_loss: 0.1005 - val_mean_absolute_error: 0.1005\n",
      "Epoch 58/100\n",
      "96/96 [==============================] - 0s 985us/step - loss: 0.0950 - mean_absolute_error: 0.0950 - val_loss: 0.0964 - val_mean_absolute_error: 0.0964\n",
      "Epoch 59/100\n",
      "96/96 [==============================] - 0s 802us/step - loss: 0.0962 - mean_absolute_error: 0.0962 - val_loss: 0.0981 - val_mean_absolute_error: 0.0981\n",
      "Epoch 60/100\n",
      "96/96 [==============================] - 0s 955us/step - loss: 0.0968 - mean_absolute_error: 0.0968 - val_loss: 0.1034 - val_mean_absolute_error: 0.1034\n",
      "Epoch 61/100\n",
      "96/96 [==============================] - 0s 1ms/step - loss: 0.0936 - mean_absolute_error: 0.0936 - val_loss: 0.1011 - val_mean_absolute_error: 0.1011\n",
      "Epoch 62/100\n",
      "96/96 [==============================] - 0s 1ms/step - loss: 0.0941 - mean_absolute_error: 0.0941 - val_loss: 0.0993 - val_mean_absolute_error: 0.0993\n",
      "Epoch 63/100\n",
      "96/96 [==============================] - 0s 1ms/step - loss: 0.0940 - mean_absolute_error: 0.0940 - val_loss: 0.0961 - val_mean_absolute_error: 0.0961\n",
      "Epoch 64/100\n",
      "96/96 [==============================] - 0s 808us/step - loss: 0.0925 - mean_absolute_error: 0.0925 - val_loss: 0.0990 - val_mean_absolute_error: 0.0990\n",
      "Epoch 65/100\n",
      "96/96 [==============================] - 0s 851us/step - loss: 0.0937 - mean_absolute_error: 0.0937 - val_loss: 0.0992 - val_mean_absolute_error: 0.0992\n",
      "Epoch 66/100\n",
      "96/96 [==============================] - 0s 832us/step - loss: 0.0943 - mean_absolute_error: 0.0943 - val_loss: 0.0968 - val_mean_absolute_error: 0.0968\n",
      "Epoch 67/100\n",
      "96/96 [==============================] - 0s 823us/step - loss: 0.0934 - mean_absolute_error: 0.0934 - val_loss: 0.0956 - val_mean_absolute_error: 0.0956\n",
      "Epoch 68/100\n",
      "96/96 [==============================] - 0s 1ms/step - loss: 0.0927 - mean_absolute_error: 0.0927 - val_loss: 0.0996 - val_mean_absolute_error: 0.0996\n",
      "Epoch 69/100\n",
      "96/96 [==============================] - 0s 1ms/step - loss: 0.0947 - mean_absolute_error: 0.0947 - val_loss: 0.0963 - val_mean_absolute_error: 0.0963\n",
      "Epoch 70/100\n",
      "96/96 [==============================] - 0s 1ms/step - loss: 0.0930 - mean_absolute_error: 0.0930 - val_loss: 0.0975 - val_mean_absolute_error: 0.0975\n",
      "Epoch 71/100\n",
      "96/96 [==============================] - 0s 949us/step - loss: 0.0925 - mean_absolute_error: 0.0925 - val_loss: 0.0921 - val_mean_absolute_error: 0.0921\n",
      "Epoch 72/100\n",
      "96/96 [==============================] - 0s 1ms/step - loss: 0.0928 - mean_absolute_error: 0.0928 - val_loss: 0.0929 - val_mean_absolute_error: 0.0929\n",
      "Epoch 73/100\n",
      "96/96 [==============================] - 0s 955us/step - loss: 0.0926 - mean_absolute_error: 0.0926 - val_loss: 0.0970 - val_mean_absolute_error: 0.0970\n",
      "Epoch 74/100\n",
      "96/96 [==============================] - 0s 904us/step - loss: 0.0919 - mean_absolute_error: 0.0919 - val_loss: 0.0942 - val_mean_absolute_error: 0.0942\n",
      "Epoch 75/100\n",
      "96/96 [==============================] - 0s 1ms/step - loss: 0.0910 - mean_absolute_error: 0.0910 - val_loss: 0.1010 - val_mean_absolute_error: 0.1010\n",
      "Epoch 76/100\n",
      "96/96 [==============================] - 0s 1ms/step - loss: 0.0941 - mean_absolute_error: 0.0941 - val_loss: 0.0986 - val_mean_absolute_error: 0.0986\n",
      "Epoch 77/100\n",
      "96/96 [==============================] - 0s 956us/step - loss: 0.0918 - mean_absolute_error: 0.0918 - val_loss: 0.1010 - val_mean_absolute_error: 0.1010\n",
      "Epoch 78/100\n",
      "96/96 [==============================] - 0s 830us/step - loss: 0.0926 - mean_absolute_error: 0.0926 - val_loss: 0.1013 - val_mean_absolute_error: 0.1013\n",
      "Epoch 79/100\n",
      "96/96 [==============================] - 0s 875us/step - loss: 0.0947 - mean_absolute_error: 0.0947 - val_loss: 0.0991 - val_mean_absolute_error: 0.0991\n",
      "Epoch 80/100\n",
      "96/96 [==============================] - 0s 911us/step - loss: 0.0925 - mean_absolute_error: 0.0925 - val_loss: 0.1029 - val_mean_absolute_error: 0.1029\n",
      "Epoch 81/100\n",
      "96/96 [==============================] - 0s 899us/step - loss: 0.0923 - mean_absolute_error: 0.0923 - val_loss: 0.0927 - val_mean_absolute_error: 0.0927\n",
      "Epoch 82/100\n",
      "96/96 [==============================] - 0s 844us/step - loss: 0.0919 - mean_absolute_error: 0.0919 - val_loss: 0.0935 - val_mean_absolute_error: 0.0935\n",
      "Epoch 83/100\n",
      "96/96 [==============================] - 0s 1ms/step - loss: 0.0915 - mean_absolute_error: 0.0915 - val_loss: 0.0922 - val_mean_absolute_error: 0.0922\n",
      "Epoch 84/100\n",
      "96/96 [==============================] - 0s 1ms/step - loss: 0.0910 - mean_absolute_error: 0.0910 - val_loss: 0.0902 - val_mean_absolute_error: 0.0902\n",
      "Epoch 85/100\n",
      "96/96 [==============================] - 0s 978us/step - loss: 0.0912 - mean_absolute_error: 0.0912 - val_loss: 0.0994 - val_mean_absolute_error: 0.0994\n",
      "Epoch 86/100\n",
      "96/96 [==============================] - 0s 785us/step - loss: 0.0917 - mean_absolute_error: 0.0917 - val_loss: 0.0926 - val_mean_absolute_error: 0.0926\n",
      "Epoch 87/100\n",
      "96/96 [==============================] - 0s 854us/step - loss: 0.0914 - mean_absolute_error: 0.0914 - val_loss: 0.0905 - val_mean_absolute_error: 0.0905\n",
      "Epoch 88/100\n",
      "96/96 [==============================] - 0s 836us/step - loss: 0.0904 - mean_absolute_error: 0.0904 - val_loss: 0.0902 - val_mean_absolute_error: 0.0902\n",
      "Epoch 89/100\n",
      "96/96 [==============================] - 0s 896us/step - loss: 0.0907 - mean_absolute_error: 0.0907 - val_loss: 0.0937 - val_mean_absolute_error: 0.0937\n",
      "Epoch 90/100\n",
      "96/96 [==============================] - 0s 773us/step - loss: 0.0913 - mean_absolute_error: 0.0913 - val_loss: 0.0914 - val_mean_absolute_error: 0.0914\n",
      "Epoch 91/100\n",
      "96/96 [==============================] - 0s 921us/step - loss: 0.0915 - mean_absolute_error: 0.0915 - val_loss: 0.0916 - val_mean_absolute_error: 0.0916\n",
      "Epoch 92/100\n",
      "96/96 [==============================] - 0s 1000us/step - loss: 0.0912 - mean_absolute_error: 0.0912 - val_loss: 0.0966 - val_mean_absolute_error: 0.0966\n",
      "Epoch 93/100\n",
      "96/96 [==============================] - 0s 1ms/step - loss: 0.0908 - mean_absolute_error: 0.0908 - val_loss: 0.0918 - val_mean_absolute_error: 0.0918\n",
      "Epoch 94/100\n",
      "96/96 [==============================] - 0s 914us/step - loss: 0.0903 - mean_absolute_error: 0.0903 - val_loss: 0.0924 - val_mean_absolute_error: 0.0924\n",
      "Epoch 95/100\n",
      "96/96 [==============================] - 0s 883us/step - loss: 0.0904 - mean_absolute_error: 0.0904 - val_loss: 0.0970 - val_mean_absolute_error: 0.0970\n",
      "Epoch 96/100\n",
      "96/96 [==============================] - 0s 832us/step - loss: 0.0902 - mean_absolute_error: 0.0902 - val_loss: 0.0920 - val_mean_absolute_error: 0.0920\n",
      "Epoch 97/100\n",
      "96/96 [==============================] - 0s 882us/step - loss: 0.0901 - mean_absolute_error: 0.0901 - val_loss: 0.0943 - val_mean_absolute_error: 0.0943\n",
      "Epoch 98/100\n",
      "96/96 [==============================] - 0s 835us/step - loss: 0.0925 - mean_absolute_error: 0.0925 - val_loss: 0.1006 - val_mean_absolute_error: 0.1006\n",
      "Epoch 99/100\n",
      "96/96 [==============================] - 0s 856us/step - loss: 0.0929 - mean_absolute_error: 0.0929 - val_loss: 0.0926 - val_mean_absolute_error: 0.0926\n"
     ]
    },
    {
     "name": "stdout",
     "output_type": "stream",
     "text": [
      "Epoch 100/100\n",
      "96/96 [==============================] - 0s 851us/step - loss: 0.0941 - mean_absolute_error: 0.0941 - val_loss: 0.0941 - val_mean_absolute_error: 0.0941\n"
     ]
    }
   ],
   "source": [
    "# ONLY USE FOR BEST MODEL SELECTION\n",
    "# network_name = \"COVLSTM\"\n",
    "# filepath = network_name + \"_epoch-{epoch:02d}-loss-{loss:.4f}-.hdf5\"\n",
    "# checkpoint = ModelCheckpoint(filepath, monitor=\"val_loss\", verbose=0, save_best_only=True, mode=\"min\")\n",
    "# callbacks_list = [checkpoint]\n",
    "network3 = Covlstmmodel.fit(trainNormX, trainNormY, validation_data=(valNormX, valNormY), epochs=100, batch_size=2)"
   ]
  },
  {
   "cell_type": "code",
   "execution_count": 95,
   "metadata": {},
   "outputs": [
    {
     "data": {
      "image/png": "[encoded data removed]",
      "text/plain": [
       "<Figure size 432x288 with 1 Axes>"
      ]
     },
     "metadata": {
      "needs_background": "light"
     },
     "output_type": "display_data"
    }
   ],
   "source": [
    "plt.plot(network3.history[\"loss\"], label=\"loss\")\n",
    "plt.plot(network3.history[\"val_loss\"], label=\"val_loss\")\n",
    "plt.legend()\n",
    "plt.title(\"1D+LSTM\")\n",
    "plt.show()"
   ]
  },
  {
   "cell_type": "code",
   "execution_count": 96,
   "metadata": {},
   "outputs": [],
   "source": [
    "bestcovlstm = load_model(\"COVLSTM_epoch-92-loss-0.0867-.hdf5\")"
   ]
  },
  {
   "cell_type": "code",
   "execution_count": 97,
   "metadata": {},
   "outputs": [
    {
     "name": "stdout",
     "output_type": "stream",
     "text": [
      "15/15 [==============================] - 0s 4ms/step\n",
      "The MAE for best Cov 1D + LSTM model is: 0.09125351160764694\n"
     ]
    }
   ],
   "source": [
    "print(\"The MAE for best Cov 1D + LSTM model is:\",bestcovlstm.evaluate(testNormX,testNormY)[1])"
   ]
  },
  {
   "cell_type": "code",
   "execution_count": 98,
   "metadata": {},
   "outputs": [
    {
     "data": {
      "image/png": "[encoded data removed]",
      "text/plain": [
       "<Figure size 432x288 with 1 Axes>"
      ]
     },
     "metadata": {
      "needs_background": "light"
     },
     "output_type": "display_data"
    }
   ],
   "source": [
    "preds3 = bestcovlstm.predict(testNormX)\n",
    "plt.plot(sc.inverse_transform(preds3.reshape(-1,1)), label=\"Predicted\", color=\"red\")\n",
    "plt.plot(sc.inverse_transform(testNormY.reshape(-1,1)), label=\"ACtual\", color=\"black\")\n",
    "plt.legend()\n",
    "plt.title(\"1D+LSTM\")\n",
    "plt.show()"
   ]
  },
  {
   "cell_type": "code",
   "execution_count": 99,
   "metadata": {},
   "outputs": [
    {
     "name": "stdout",
     "output_type": "stream",
     "text": [
      "15/15 [==============================] - 0s 33us/step\n",
      "The MAE for best Cov 1D + LSTM model is: 0.09125351160764694\n"
     ]
    }
   ],
   "source": [
    "print(\"The MAE for best Cov 1D + LSTM model is:\",bestcovlstm.evaluate(testNormX,testNormY)[1])"
   ]
  },
  {
   "cell_type": "code",
   "execution_count": 100,
   "metadata": {},
   "outputs": [
    {
     "name": "stdout",
     "output_type": "stream",
     "text": [
      "15/15 [==============================] - 0s 65us/step\n",
      "The MAE for best Cov 1D + GRU model is: 0.09015214443206787\n"
     ]
    }
   ],
   "source": [
    "print(\"The MAE for best Cov 1D + GRU model is:\",bestcovgru.evaluate(testNormX,testNormY)[1])"
   ]
  },
  {
   "cell_type": "markdown",
   "metadata": {},
   "source": [
    "1D + GRU slightly outperform 1D + LSTM"
   ]
  },
  {
   "cell_type": "markdown",
   "metadata": {},
   "source": [
    "## My Approach"
   ]
  },
  {
   "cell_type": "code",
   "execution_count": 101,
   "metadata": {},
   "outputs": [],
   "source": [
    "def nn():\n",
    "    model = Sequential()\n",
    "    model.add(Dense(32, activation=\"relu\", input_dim=2))\n",
    "    model.add(Dense(5, activation=\"linear\"))\n",
    "    model.compile(loss=\"mae\", optimizer=\"adam\",metrics=[\"mean_absolute_error\"])\n",
    "    return model"
   ]
  },
  {
   "cell_type": "code",
   "execution_count": 102,
   "metadata": {},
   "outputs": [],
   "source": [
    "nnmodel=nn()"
   ]
  },
  {
   "cell_type": "code",
   "execution_count": 111,
   "metadata": {
    "scrolled": true
   },
   "outputs": [
    {
     "name": "stdout",
     "output_type": "stream",
     "text": [
      "Train on 96 samples, validate on 15 samples\n",
      "Epoch 1/100\n",
      "96/96 [==============================] - 0s 647us/step - loss: 0.1010 - mean_absolute_error: 0.1010 - val_loss: 0.1157 - val_mean_absolute_error: 0.1157\n",
      "Epoch 2/100\n",
      "96/96 [==============================] - 0s 669us/step - loss: 0.1012 - mean_absolute_error: 0.1012 - val_loss: 0.1185 - val_mean_absolute_error: 0.1185\n",
      "Epoch 3/100\n",
      "96/96 [==============================] - 0s 640us/step - loss: 0.1009 - mean_absolute_error: 0.1009 - val_loss: 0.1129 - val_mean_absolute_error: 0.1129\n",
      "Epoch 4/100\n",
      "96/96 [==============================] - 0s 632us/step - loss: 0.1002 - mean_absolute_error: 0.1002 - val_loss: 0.1177 - val_mean_absolute_error: 0.1177\n",
      "Epoch 5/100\n",
      "96/96 [==============================] - 0s 582us/step - loss: 0.1008 - mean_absolute_error: 0.1008 - val_loss: 0.1157 - val_mean_absolute_error: 0.1157\n",
      "Epoch 6/100\n",
      "96/96 [==============================] - 0s 576us/step - loss: 0.1011 - mean_absolute_error: 0.1011 - val_loss: 0.1155 - val_mean_absolute_error: 0.1155\n",
      "Epoch 7/100\n",
      "96/96 [==============================] - 0s 616us/step - loss: 0.1011 - mean_absolute_error: 0.1011 - val_loss: 0.1116 - val_mean_absolute_error: 0.1116\n",
      "Epoch 8/100\n",
      "96/96 [==============================] - 0s 684us/step - loss: 0.1007 - mean_absolute_error: 0.1007 - val_loss: 0.1140 - val_mean_absolute_error: 0.1140\n",
      "Epoch 9/100\n",
      "96/96 [==============================] - 0s 613us/step - loss: 0.1000 - mean_absolute_error: 0.1000 - val_loss: 0.1146 - val_mean_absolute_error: 0.1146\n",
      "Epoch 10/100\n",
      "96/96 [==============================] - 0s 516us/step - loss: 0.1005 - mean_absolute_error: 0.1005 - val_loss: 0.1142 - val_mean_absolute_error: 0.1142\n",
      "Epoch 11/100\n",
      "96/96 [==============================] - 0s 476us/step - loss: 0.1002 - mean_absolute_error: 0.1002 - val_loss: 0.1116 - val_mean_absolute_error: 0.1116\n",
      "Epoch 12/100\n",
      "96/96 [==============================] - 0s 532us/step - loss: 0.1004 - mean_absolute_error: 0.1004 - val_loss: 0.1126 - val_mean_absolute_error: 0.1126\n",
      "Epoch 13/100\n",
      "96/96 [==============================] - 0s 542us/step - loss: 0.0997 - mean_absolute_error: 0.0997 - val_loss: 0.1118 - val_mean_absolute_error: 0.1118\n",
      "Epoch 14/100\n",
      "96/96 [==============================] - 0s 462us/step - loss: 0.1000 - mean_absolute_error: 0.1000 - val_loss: 0.1125 - val_mean_absolute_error: 0.1125\n",
      "Epoch 15/100\n",
      "96/96 [==============================] - 0s 547us/step - loss: 0.1001 - mean_absolute_error: 0.1001 - val_loss: 0.1119 - val_mean_absolute_error: 0.1119\n",
      "Epoch 16/100\n",
      "96/96 [==============================] - 0s 544us/step - loss: 0.1006 - mean_absolute_error: 0.1006 - val_loss: 0.1141 - val_mean_absolute_error: 0.1141\n",
      "Epoch 17/100\n",
      "96/96 [==============================] - 0s 540us/step - loss: 0.0997 - mean_absolute_error: 0.0997 - val_loss: 0.1124 - val_mean_absolute_error: 0.1124\n",
      "Epoch 18/100\n",
      "96/96 [==============================] - 0s 652us/step - loss: 0.0990 - mean_absolute_error: 0.0990 - val_loss: 0.1170 - val_mean_absolute_error: 0.1170\n",
      "Epoch 19/100\n",
      "96/96 [==============================] - 0s 708us/step - loss: 0.1002 - mean_absolute_error: 0.1002 - val_loss: 0.1126 - val_mean_absolute_error: 0.1126\n",
      "Epoch 20/100\n",
      "96/96 [==============================] - 0s 652us/step - loss: 0.0993 - mean_absolute_error: 0.0993 - val_loss: 0.1150 - val_mean_absolute_error: 0.1150\n",
      "Epoch 21/100\n",
      "96/96 [==============================] - 0s 532us/step - loss: 0.1000 - mean_absolute_error: 0.1000 - val_loss: 0.1125 - val_mean_absolute_error: 0.1125\n",
      "Epoch 22/100\n",
      "96/96 [==============================] - 0s 521us/step - loss: 0.0994 - mean_absolute_error: 0.0994 - val_loss: 0.1109 - val_mean_absolute_error: 0.1109\n",
      "Epoch 23/100\n",
      "96/96 [==============================] - 0s 517us/step - loss: 0.0992 - mean_absolute_error: 0.0992 - val_loss: 0.1139 - val_mean_absolute_error: 0.1139\n",
      "Epoch 24/100\n",
      "96/96 [==============================] - 0s 491us/step - loss: 0.0990 - mean_absolute_error: 0.0990 - val_loss: 0.1125 - val_mean_absolute_error: 0.1125\n",
      "Epoch 25/100\n",
      "96/96 [==============================] - 0s 524us/step - loss: 0.0991 - mean_absolute_error: 0.0991 - val_loss: 0.1141 - val_mean_absolute_error: 0.1141\n",
      "Epoch 26/100\n",
      "96/96 [==============================] - 0s 530us/step - loss: 0.0993 - mean_absolute_error: 0.0993 - val_loss: 0.1104 - val_mean_absolute_error: 0.1104\n",
      "Epoch 27/100\n",
      "96/96 [==============================] - 0s 637us/step - loss: 0.0988 - mean_absolute_error: 0.0988 - val_loss: 0.1115 - val_mean_absolute_error: 0.1115\n",
      "Epoch 28/100\n",
      "96/96 [==============================] - 0s 578us/step - loss: 0.0983 - mean_absolute_error: 0.0983 - val_loss: 0.1116 - val_mean_absolute_error: 0.1116\n",
      "Epoch 29/100\n",
      "96/96 [==============================] - 0s 487us/step - loss: 0.0992 - mean_absolute_error: 0.0992 - val_loss: 0.1091 - val_mean_absolute_error: 0.1091\n",
      "Epoch 30/100\n",
      "96/96 [==============================] - 0s 505us/step - loss: 0.0988 - mean_absolute_error: 0.0988 - val_loss: 0.1113 - val_mean_absolute_error: 0.1113\n",
      "Epoch 31/100\n",
      "96/96 [==============================] - 0s 585us/step - loss: 0.1004 - mean_absolute_error: 0.1004 - val_loss: 0.1120 - val_mean_absolute_error: 0.1120\n",
      "Epoch 32/100\n",
      "96/96 [==============================] - 0s 658us/step - loss: 0.0988 - mean_absolute_error: 0.0988 - val_loss: 0.1101 - val_mean_absolute_error: 0.1101\n",
      "Epoch 33/100\n",
      "96/96 [==============================] - 0s 590us/step - loss: 0.0989 - mean_absolute_error: 0.0989 - val_loss: 0.1158 - val_mean_absolute_error: 0.1158\n",
      "Epoch 34/100\n",
      "96/96 [==============================] - 0s 648us/step - loss: 0.0986 - mean_absolute_error: 0.0986 - val_loss: 0.1102 - val_mean_absolute_error: 0.1102\n",
      "Epoch 35/100\n",
      "96/96 [==============================] - 0s 499us/step - loss: 0.0990 - mean_absolute_error: 0.0990 - val_loss: 0.1074 - val_mean_absolute_error: 0.1074\n",
      "Epoch 36/100\n",
      "96/96 [==============================] - 0s 535us/step - loss: 0.0983 - mean_absolute_error: 0.0983 - val_loss: 0.1081 - val_mean_absolute_error: 0.1081\n",
      "Epoch 37/100\n",
      "96/96 [==============================] - 0s 467us/step - loss: 0.0982 - mean_absolute_error: 0.0982 - val_loss: 0.1108 - val_mean_absolute_error: 0.1108\n",
      "Epoch 38/100\n",
      "96/96 [==============================] - 0s 525us/step - loss: 0.0989 - mean_absolute_error: 0.0989 - val_loss: 0.1095 - val_mean_absolute_error: 0.1095\n",
      "Epoch 39/100\n",
      "96/96 [==============================] - 0s 486us/step - loss: 0.0984 - mean_absolute_error: 0.0984 - val_loss: 0.1083 - val_mean_absolute_error: 0.1083\n",
      "Epoch 40/100\n",
      "96/96 [==============================] - 0s 543us/step - loss: 0.0979 - mean_absolute_error: 0.0979 - val_loss: 0.1057 - val_mean_absolute_error: 0.1057\n",
      "Epoch 41/100\n",
      "96/96 [==============================] - 0s 511us/step - loss: 0.0988 - mean_absolute_error: 0.0988 - val_loss: 0.1064 - val_mean_absolute_error: 0.1064\n",
      "Epoch 42/100\n",
      "96/96 [==============================] - 0s 575us/step - loss: 0.0990 - mean_absolute_error: 0.0990 - val_loss: 0.1077 - val_mean_absolute_error: 0.1077\n",
      "Epoch 43/100\n",
      "96/96 [==============================] - 0s 506us/step - loss: 0.0980 - mean_absolute_error: 0.0980 - val_loss: 0.1071 - val_mean_absolute_error: 0.1071\n",
      "Epoch 44/100\n",
      "96/96 [==============================] - 0s 607us/step - loss: 0.0982 - mean_absolute_error: 0.0982 - val_loss: 0.1061 - val_mean_absolute_error: 0.1061\n",
      "Epoch 45/100\n",
      "96/96 [==============================] - 0s 543us/step - loss: 0.0976 - mean_absolute_error: 0.0976 - val_loss: 0.1047 - val_mean_absolute_error: 0.1047\n",
      "Epoch 46/100\n",
      "96/96 [==============================] - 0s 530us/step - loss: 0.0985 - mean_absolute_error: 0.0985 - val_loss: 0.1056 - val_mean_absolute_error: 0.1056\n",
      "Epoch 47/100\n",
      "96/96 [==============================] - 0s 526us/step - loss: 0.0974 - mean_absolute_error: 0.0974 - val_loss: 0.1088 - val_mean_absolute_error: 0.1088\n",
      "Epoch 48/100\n",
      "96/96 [==============================] - 0s 582us/step - loss: 0.0973 - mean_absolute_error: 0.0973 - val_loss: 0.1097 - val_mean_absolute_error: 0.1097\n",
      "Epoch 49/100\n",
      "96/96 [==============================] - 0s 573us/step - loss: 0.0982 - mean_absolute_error: 0.0982 - val_loss: 0.1074 - val_mean_absolute_error: 0.1074\n",
      "Epoch 50/100\n",
      "96/96 [==============================] - 0s 636us/step - loss: 0.0967 - mean_absolute_error: 0.0967 - val_loss: 0.1056 - val_mean_absolute_error: 0.1056\n",
      "Epoch 51/100\n",
      "96/96 [==============================] - 0s 598us/step - loss: 0.0980 - mean_absolute_error: 0.0980 - val_loss: 0.1061 - val_mean_absolute_error: 0.1061\n",
      "Epoch 52/100\n",
      "96/96 [==============================] - 0s 647us/step - loss: 0.0968 - mean_absolute_error: 0.0968 - val_loss: 0.1081 - val_mean_absolute_error: 0.1081\n",
      "Epoch 53/100\n",
      "96/96 [==============================] - 0s 682us/step - loss: 0.0976 - mean_absolute_error: 0.0976 - val_loss: 0.1068 - val_mean_absolute_error: 0.1068\n",
      "Epoch 54/100\n",
      "96/96 [==============================] - 0s 594us/step - loss: 0.0976 - mean_absolute_error: 0.0976 - val_loss: 0.1054 - val_mean_absolute_error: 0.1054\n",
      "Epoch 55/100\n",
      "96/96 [==============================] - 0s 542us/step - loss: 0.0973 - mean_absolute_error: 0.0973 - val_loss: 0.1064 - val_mean_absolute_error: 0.1064\n",
      "Epoch 56/100\n",
      "96/96 [==============================] - 0s 516us/step - loss: 0.0965 - mean_absolute_error: 0.0965 - val_loss: 0.1049 - val_mean_absolute_error: 0.1049\n",
      "Epoch 57/100\n",
      "96/96 [==============================] - 0s 460us/step - loss: 0.0970 - mean_absolute_error: 0.0970 - val_loss: 0.1038 - val_mean_absolute_error: 0.1038\n",
      "Epoch 58/100\n",
      "96/96 [==============================] - 0s 480us/step - loss: 0.0962 - mean_absolute_error: 0.0962 - val_loss: 0.1054 - val_mean_absolute_error: 0.1054\n",
      "Epoch 59/100\n",
      "96/96 [==============================] - 0s 509us/step - loss: 0.0964 - mean_absolute_error: 0.0964 - val_loss: 0.1056 - val_mean_absolute_error: 0.1056\n",
      "Epoch 60/100\n",
      "96/96 [==============================] - 0s 529us/step - loss: 0.0962 - mean_absolute_error: 0.0962 - val_loss: 0.1049 - val_mean_absolute_error: 0.1049\n",
      "Epoch 61/100\n",
      "96/96 [==============================] - 0s 568us/step - loss: 0.0961 - mean_absolute_error: 0.0961 - val_loss: 0.1048 - val_mean_absolute_error: 0.1048\n",
      "Epoch 62/100\n",
      "96/96 [==============================] - 0s 532us/step - loss: 0.0960 - mean_absolute_error: 0.0960 - val_loss: 0.1082 - val_mean_absolute_error: 0.1082\n",
      "Epoch 63/100\n",
      "96/96 [==============================] - 0s 574us/step - loss: 0.0972 - mean_absolute_error: 0.0972 - val_loss: 0.1095 - val_mean_absolute_error: 0.1095\n",
      "Epoch 64/100\n",
      "96/96 [==============================] - 0s 505us/step - loss: 0.0965 - mean_absolute_error: 0.0965 - val_loss: 0.1045 - val_mean_absolute_error: 0.1045\n",
      "Epoch 65/100\n",
      "96/96 [==============================] - 0s 530us/step - loss: 0.0965 - mean_absolute_error: 0.0965 - val_loss: 0.1065 - val_mean_absolute_error: 0.1065\n",
      "Epoch 66/100\n",
      "96/96 [==============================] - 0s 544us/step - loss: 0.0964 - mean_absolute_error: 0.0964 - val_loss: 0.1068 - val_mean_absolute_error: 0.1068\n",
      "Epoch 67/100\n",
      "96/96 [==============================] - 0s 579us/step - loss: 0.0969 - mean_absolute_error: 0.0969 - val_loss: 0.1060 - val_mean_absolute_error: 0.1060\n",
      "Epoch 68/100\n",
      "96/96 [==============================] - 0s 659us/step - loss: 0.0959 - mean_absolute_error: 0.0959 - val_loss: 0.1067 - val_mean_absolute_error: 0.1067\n",
      "Epoch 69/100\n",
      "96/96 [==============================] - 0s 604us/step - loss: 0.0963 - mean_absolute_error: 0.0963 - val_loss: 0.1080 - val_mean_absolute_error: 0.1080\n",
      "Epoch 70/100\n",
      "96/96 [==============================] - 0s 561us/step - loss: 0.0960 - mean_absolute_error: 0.0960 - val_loss: 0.1029 - val_mean_absolute_error: 0.1029\n",
      "Epoch 71/100\n",
      "96/96 [==============================] - 0s 590us/step - loss: 0.0963 - mean_absolute_error: 0.0963 - val_loss: 0.1055 - val_mean_absolute_error: 0.1055\n",
      "Epoch 72/100\n",
      "96/96 [==============================] - 0s 641us/step - loss: 0.0955 - mean_absolute_error: 0.0955 - val_loss: 0.1011 - val_mean_absolute_error: 0.1011\n",
      "Epoch 73/100\n",
      "96/96 [==============================] - 0s 665us/step - loss: 0.0964 - mean_absolute_error: 0.0964 - val_loss: 0.1047 - val_mean_absolute_error: 0.1047\n",
      "Epoch 74/100\n",
      "96/96 [==============================] - 0s 638us/step - loss: 0.0966 - mean_absolute_error: 0.0966 - val_loss: 0.1035 - val_mean_absolute_error: 0.1035\n",
      "Epoch 75/100\n",
      "96/96 [==============================] - 0s 583us/step - loss: 0.0953 - mean_absolute_error: 0.0953 - val_loss: 0.1028 - val_mean_absolute_error: 0.1028\n",
      "Epoch 76/100\n",
      "96/96 [==============================] - 0s 630us/step - loss: 0.0957 - mean_absolute_error: 0.0957 - val_loss: 0.1027 - val_mean_absolute_error: 0.1027\n",
      "Epoch 77/100\n",
      "96/96 [==============================] - 0s 629us/step - loss: 0.0954 - mean_absolute_error: 0.0954 - val_loss: 0.1022 - val_mean_absolute_error: 0.1022\n",
      "Epoch 78/100\n",
      "96/96 [==============================] - 0s 541us/step - loss: 0.0957 - mean_absolute_error: 0.0957 - val_loss: 0.1020 - val_mean_absolute_error: 0.1020\n",
      "Epoch 79/100\n",
      "96/96 [==============================] - 0s 539us/step - loss: 0.0957 - mean_absolute_error: 0.0957 - val_loss: 0.1095 - val_mean_absolute_error: 0.1095\n",
      "Epoch 80/100\n",
      "96/96 [==============================] - 0s 614us/step - loss: 0.0964 - mean_absolute_error: 0.0964 - val_loss: 0.1024 - val_mean_absolute_error: 0.1024\n",
      "Epoch 81/100\n",
      "96/96 [==============================] - 0s 543us/step - loss: 0.0958 - mean_absolute_error: 0.0958 - val_loss: 0.1013 - val_mean_absolute_error: 0.1013\n",
      "Epoch 82/100\n",
      "96/96 [==============================] - 0s 521us/step - loss: 0.0953 - mean_absolute_error: 0.0953 - val_loss: 0.1007 - val_mean_absolute_error: 0.1007\n",
      "Epoch 83/100\n",
      "96/96 [==============================] - 0s 540us/step - loss: 0.0951 - mean_absolute_error: 0.0951 - val_loss: 0.1022 - val_mean_absolute_error: 0.1022\n",
      "Epoch 84/100\n",
      "96/96 [==============================] - 0s 590us/step - loss: 0.0948 - mean_absolute_error: 0.0948 - val_loss: 0.1066 - val_mean_absolute_error: 0.1066\n",
      "Epoch 85/100\n",
      "96/96 [==============================] - 0s 635us/step - loss: 0.0947 - mean_absolute_error: 0.0947 - val_loss: 0.1017 - val_mean_absolute_error: 0.1017\n",
      "Epoch 86/100\n",
      "96/96 [==============================] - 0s 708us/step - loss: 0.0955 - mean_absolute_error: 0.0955 - val_loss: 0.1041 - val_mean_absolute_error: 0.1041\n",
      "Epoch 87/100\n",
      "96/96 [==============================] - 0s 670us/step - loss: 0.0946 - mean_absolute_error: 0.0946 - val_loss: 0.1003 - val_mean_absolute_error: 0.1003\n",
      "Epoch 88/100\n",
      "96/96 [==============================] - 0s 558us/step - loss: 0.0941 - mean_absolute_error: 0.0941 - val_loss: 0.1064 - val_mean_absolute_error: 0.1064\n",
      "Epoch 89/100\n",
      "96/96 [==============================] - 0s 536us/step - loss: 0.0951 - mean_absolute_error: 0.0951 - val_loss: 0.1042 - val_mean_absolute_error: 0.1042\n",
      "Epoch 90/100\n",
      "96/96 [==============================] - 0s 531us/step - loss: 0.0954 - mean_absolute_error: 0.0954 - val_loss: 0.1010 - val_mean_absolute_error: 0.1010\n",
      "Epoch 91/100\n",
      "96/96 [==============================] - 0s 608us/step - loss: 0.0943 - mean_absolute_error: 0.0943 - val_loss: 0.1025 - val_mean_absolute_error: 0.1025\n",
      "Epoch 92/100\n",
      "96/96 [==============================] - 0s 695us/step - loss: 0.0948 - mean_absolute_error: 0.0948 - val_loss: 0.1021 - val_mean_absolute_error: 0.1021\n",
      "Epoch 93/100\n",
      "96/96 [==============================] - 0s 583us/step - loss: 0.0959 - mean_absolute_error: 0.0959 - val_loss: 0.0997 - val_mean_absolute_error: 0.0997\n",
      "Epoch 94/100\n",
      "96/96 [==============================] - 0s 532us/step - loss: 0.0939 - mean_absolute_error: 0.0939 - val_loss: 0.1030 - val_mean_absolute_error: 0.1030\n",
      "Epoch 95/100\n",
      "96/96 [==============================] - 0s 616us/step - loss: 0.0943 - mean_absolute_error: 0.0943 - val_loss: 0.1017 - val_mean_absolute_error: 0.1017\n",
      "Epoch 96/100\n",
      "96/96 [==============================] - 0s 675us/step - loss: 0.0941 - mean_absolute_error: 0.0941 - val_loss: 0.1004 - val_mean_absolute_error: 0.1004\n",
      "Epoch 97/100\n",
      "96/96 [==============================] - 0s 668us/step - loss: 0.0943 - mean_absolute_error: 0.0943 - val_loss: 0.0986 - val_mean_absolute_error: 0.0986\n",
      "Epoch 98/100\n",
      "96/96 [==============================] - 0s 629us/step - loss: 0.0950 - mean_absolute_error: 0.0950 - val_loss: 0.1008 - val_mean_absolute_error: 0.1008\n",
      "Epoch 99/100\n"
     ]
    },
    {
     "name": "stdout",
     "output_type": "stream",
     "text": [
      "96/96 [==============================] - 0s 676us/step - loss: 0.0943 - mean_absolute_error: 0.0943 - val_loss: 0.0979 - val_mean_absolute_error: 0.0979\n",
      "Epoch 100/100\n",
      "96/96 [==============================] - 0s 562us/step - loss: 0.0944 - mean_absolute_error: 0.0944 - val_loss: 0.0984 - val_mean_absolute_error: 0.0984\n"
     ]
    }
   ],
   "source": [
    "# ONLY USE FOR BEST MODEL SELECTION\n",
    "# network_name = \"Regular\"\n",
    "# filepath = network_name + \"_epoch-{epoch:02d}-loss-{loss:.4f}-.hdf5\"\n",
    "# checkpoint = ModelCheckpoint(filepath, monitor=\"val_loss\", verbose=0, save_best_only=True, mode=\"min\")\n",
    "# callbacks_list = [checkpoint]\n",
    "network34 = nnmodel.fit(trainNormX.reshape(trainNormX.shape[0],trainNormX.shape[1]), trainNormY, validation_data=(valNormX.reshape(valNormX.shape[0],valNormX.shape[1]), valNormY), epochs=100, batch_size=2)"
   ]
  },
  {
   "cell_type": "code",
   "execution_count": 113,
   "metadata": {},
   "outputs": [
    {
     "data": {
      "image/png": "[encoded data removed]",
      "text/plain": [
       "<Figure size 432x288 with 1 Axes>"
      ]
     },
     "metadata": {
      "needs_background": "light"
     },
     "output_type": "display_data"
    }
   ],
   "source": [
    "plt.plot(network34.history[\"loss\"], label=\"loss\")\n",
    "plt.plot(network34.history[\"val_loss\"], label=\"val_loss\")\n",
    "plt.legend()\n",
    "plt.title(\"Regular NN\")\n",
    "plt.show()"
   ]
  },
  {
   "cell_type": "code",
   "execution_count": 114,
   "metadata": {},
   "outputs": [],
   "source": [
    "regularbest = load_model(\"Regular_epoch-99-loss-0.0959-.hdf5\")"
   ]
  },
  {
   "cell_type": "code",
   "execution_count": 115,
   "metadata": {},
   "outputs": [
    {
     "data": {
      "image/png": "[encoded data removed]",
      "text/plain": [
       "<Figure size 432x288 with 1 Axes>"
      ]
     },
     "metadata": {
      "needs_background": "light"
     },
     "output_type": "display_data"
    }
   ],
   "source": [
    "preds4 = regularbest.predict(testNormX.reshape(testNormX.shape[0],testNormX.shape[1]))\n",
    "plt.plot(sc.inverse_transform(preds4.reshape(-1,1)), label=\"Predicted\", color=\"red\")\n",
    "plt.plot(sc.inverse_transform(testNormY.reshape(-1,1)), label=\"ACtual\", color=\"black\")\n",
    "plt.legend()\n",
    "plt.title(\"Regular NN\")\n",
    "plt.show()"
   ]
  },
  {
   "cell_type": "code",
   "execution_count": 116,
   "metadata": {},
   "outputs": [
    {
     "name": "stdout",
     "output_type": "stream",
     "text": [
      "15/15 [==============================] - 0s 956us/step\n",
      "Regular NN MAE is: 0.09577197581529617\n"
     ]
    }
   ],
   "source": [
    "print(\"Regular NN MAE is:\",regularbest.evaluate(testNormX.reshape(testNormX.shape[0],testNormX.shape[1]),testNormY)[1])"
   ]
  },
  {
   "cell_type": "code",
   "execution_count": 117,
   "metadata": {},
   "outputs": [
    {
     "name": "stdout",
     "output_type": "stream",
     "text": [
      "15/15 [==============================] - 0s 131us/step\n",
      "The MAE for best Cov 1D + GRU model is: 0.09015214443206787\n"
     ]
    }
   ],
   "source": [
    "print(\"The MAE for best Cov 1D + GRU model is:\",bestcovgru.evaluate(testNormX,testNormY)[1])"
   ]
  },
  {
   "cell_type": "code",
   "execution_count": 118,
   "metadata": {},
   "outputs": [
    {
     "name": "stdout",
     "output_type": "stream",
     "text": [
      "15/15 [==============================] - 0s 92us/step\n",
      "The MAE for best Cov 1D + LSTM model is: 0.09125351160764694\n"
     ]
    }
   ],
   "source": [
    "print(\"The MAE for best Cov 1D + LSTM model is:\",bestcovlstm.evaluate(testNormX,testNormY)[1])"
   ]
  },
  {
   "cell_type": "code",
   "execution_count": 119,
   "metadata": {},
   "outputs": [
    {
     "name": "stdout",
     "output_type": "stream",
     "text": [
      "15/15 [==============================] - 0s 83us/step\n",
      "MAE for GRU is: 0.09637109190225601\n"
     ]
    }
   ],
   "source": [
    "print(\"MAE for GRU is:\",bestGRU.evaluate(testNormX,testNormY)[1])"
   ]
  },
  {
   "cell_type": "code",
   "execution_count": 120,
   "metadata": {},
   "outputs": [
    {
     "name": "stdout",
     "output_type": "stream",
     "text": [
      "15/15 [==============================] - 0s 54us/step\n",
      "MAE for LSTM is: 0.10972357541322708\n"
     ]
    }
   ],
   "source": [
    "print(\"MAE for LSTM is:\",lstmbest.evaluate(testNormX,testNormY)[1])"
   ]
  },
  {
   "cell_type": "markdown",
   "metadata": {},
   "source": [
    "Because I want to compare the preformance on these three different NN, I choose to do regular NN in problem3. Generally speaking, CNN and RNN outperform regular NN on sequence data. The best model we got here is CNN 1D + GRU because GRU is usually better LSTM in small datasets. In this report, we only have a small dataset."
   ]
  }
 ],
 "metadata": {
  "kernelspec": {
   "display_name": "Python 3",
   "language": "python",
   "name": "python3"
  },
  "language_info": {
   "codemirror_mode": {
    "name": "ipython",
    "version": 3
   },
   "file_extension": ".py",
   "mimetype": "text/x-python",
   "name": "python",
   "nbconvert_exporter": "python",
   "pygments_lexer": "ipython3",
   "version": "3.7.7"
  }
 },
 "nbformat": 4,
 "nbformat_minor": 4
}
