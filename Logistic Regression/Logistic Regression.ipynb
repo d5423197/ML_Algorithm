{
 "cells": [
  {
   "cell_type": "markdown",
   "metadata": {},
   "source": [
    "# Problem 1"
   ]
  },
  {
   "cell_type": "code",
   "execution_count": 1,
   "metadata": {},
   "outputs": [],
   "source": [
    "# define derivative function\n",
    "def f(x):\n",
    "    return 2*x+6"
   ]
  },
  {
   "cell_type": "code",
   "execution_count": 2,
   "metadata": {},
   "outputs": [
    {
     "name": "stdout",
     "output_type": "stream",
     "text": [
      "The local minimum is -9.0 when x equals -3.0\n",
      "I got the exact same answer with previous part\n"
     ]
    }
   ],
   "source": [
    "x_start = 2\n",
    "rate = 0.1\n",
    "change = 0.00001\n",
    "step = 1\n",
    "iterationMax = 1000\n",
    "i = 0\n",
    "while step > change and i < iterationMax: # maximum loop is 1000, if the step change less than 0.00001 will stop\n",
    "    i+=1 # count the loop\n",
    "    newX = x_start - rate*f(x_start) # calculate the new x\n",
    "    step = abs(newX - x_start) # step change\n",
    "    x_start = newX \n",
    "print(f\"The local minimum is {round(x_start**2 + 6*x_start,2)} when x equals {round(x_start,2)}\")\n",
    "print('I got the exact same answer with previous part')"
   ]
  },
  {
   "cell_type": "markdown",
   "metadata": {},
   "source": [
    "# Problem 2"
   ]
  },
  {
   "cell_type": "code",
   "execution_count": 3,
   "metadata": {},
   "outputs": [],
   "source": [
    "import pandas as pd\n",
    "import numpy as np\n",
    "from numpy import linalg as LA\n",
    "import statistics\n",
    "import matplotlib.pyplot as plt"
   ]
  },
  {
   "cell_type": "code",
   "execution_count": 4,
   "metadata": {},
   "outputs": [],
   "source": [
    "df = pd.read_csv(\"ORing.csv\") # import data"
   ]
  },
  {
   "cell_type": "markdown",
   "metadata": {},
   "source": [
    "### Question 1"
   ]
  },
  {
   "cell_type": "markdown",
   "metadata": {},
   "source": [
    "Normalize the launch temperature"
   ]
  },
  {
   "cell_type": "code",
   "execution_count": 5,
   "metadata": {},
   "outputs": [
    {
     "name": "stdout",
     "output_type": "stream",
     "text": [
      "Normalized Temp \n",
      "0    -2.293007\n",
      "1    -1.886366\n",
      "2    -1.750818\n",
      "3    -0.937535\n",
      "4    -0.530893\n",
      "5    -0.395346\n",
      "6    -0.395346\n",
      "7    -0.395346\n",
      "8    -0.259799\n",
      "9    -0.124252\n",
      "10    0.011296\n",
      "11    0.011296\n",
      "12    0.011296\n",
      "13    0.011296\n",
      "14    0.282390\n",
      "15    0.417937\n",
      "16    0.689032\n",
      "17    0.689032\n",
      "18    0.824579\n",
      "19    0.824579\n",
      "20    1.095673\n",
      "21    1.231221\n",
      "22    1.366768\n",
      "23    1.502315\n",
      "Name: Temp, dtype: float64\n"
     ]
    }
   ],
   "source": [
    "x = (df['Temp'] - df['Temp'].mean())/df['Temp'].std() # normalization\n",
    "print(f'Normalized Temp \\n{x}')\n",
    "x = np.array(x).reshape(-1,1) # assign IV as x\n",
    "y = np.array(df.iloc[:,1]).reshape(-1,1) # assign DV as y\n",
    "one = np.ones(x.shape) # create one column with one for bias\n",
    "# combine one and IV\n",
    "x = np.hstack([one,x]) # (24,2)\n",
    "# create w for our parameter\n",
    "w = np.array([[1],[1]]) # (2,1)"
   ]
  },
  {
   "cell_type": "markdown",
   "metadata": {},
   "source": [
    "### Question 2"
   ]
  },
  {
   "cell_type": "markdown",
   "metadata": {},
   "source": [
    "Create a logistic regression model using the gradiant decent technique"
   ]
  },
  {
   "cell_type": "code",
   "execution_count": 6,
   "metadata": {},
   "outputs": [],
   "source": [
    "# define a function for Hypothesis\n",
    "def my_function(x):\n",
    "    return 1 / (1 + np.exp(-x))"
   ]
  },
  {
   "cell_type": "code",
   "execution_count": 7,
   "metadata": {
    "scrolled": true
   },
   "outputs": [
    {
     "name": "stdout",
     "output_type": "stream",
     "text": [
      "Final parameter we get is [[-1.10279169]\n",
      " [-1.26389   ]]\n",
      "40\n"
     ]
    }
   ],
   "source": [
    "change = 0.00001 # we want our change less than 0.00001\n",
    "run = 1000 # maximum time of iteration is 1000\n",
    "time = 0 # time is to count how many times we have run\n",
    "dif = 1 # assign difference between two w is one\n",
    "rate = 0.1 # this is our step size\n",
    "while time < run and dif > change:\n",
    "    time+=1 # counter plus one\n",
    "    # prediction value\n",
    "    h = my_function(np.matmul(x, w)) # (24,1)\n",
    "    # gradiant function\n",
    "    gradiant = np.matmul(x.T, h - y) # (2,24) * (24,1) = (2,1)\n",
    "    # get new parameter\n",
    "    wnew = w - rate * gradiant\n",
    "    # find out the difference\n",
    "    dif = LA.norm(abs(wnew - w))\n",
    "    # assign new parameter to w\n",
    "    w = wnew\n",
    "print(f\"Final parameter we get is {w}\")\n",
    "print(time)"
   ]
  },
  {
   "cell_type": "code",
   "execution_count": 9,
   "metadata": {
    "scrolled": false
   },
   "outputs": [
    {
     "data": {
      "text/plain": [
       "(24, 1)"
      ]
     },
     "execution_count": 9,
     "metadata": {},
     "output_type": "execute_result"
    }
   ],
   "source": [
    "h.shape"
   ]
  },
  {
   "cell_type": "code",
   "execution_count": 11,
   "metadata": {},
   "outputs": [
    {
     "data": {
      "text/plain": [
       "(2, 1)"
      ]
     },
     "execution_count": 11,
     "metadata": {},
     "output_type": "execute_result"
    }
   ],
   "source": [
    "gradiant.shape"
   ]
  },
  {
   "cell_type": "code",
   "execution_count": 10,
   "metadata": {},
   "outputs": [
    {
     "data": {
      "text/plain": [
       "array([[-1.10279169],\n",
       "       [-1.26389   ]])"
      ]
     },
     "execution_count": 10,
     "metadata": {},
     "output_type": "execute_result"
    }
   ],
   "source": [
    "w"
   ]
  },
  {
   "cell_type": "code",
   "execution_count": 8,
   "metadata": {},
   "outputs": [],
   "source": [
    "# use our findings to make prediction\n",
    "h = my_function(np.matmul(x, w))"
   ]
  },
  {
   "cell_type": "markdown",
   "metadata": {},
   "source": [
    "Equation: \n",
    "\n",
    "$h = \\frac{1}{1 + e^{-1.10279169 + -1.26389x}}$"
   ]
  },
  {
   "cell_type": "markdown",
   "metadata": {},
   "source": [
    "### Question 3"
   ]
  },
  {
   "cell_type": "markdown",
   "metadata": {},
   "source": [
    "Plot of original data along with logistic model"
   ]
  },
  {
   "cell_type": "code",
   "execution_count": 9,
   "metadata": {},
   "outputs": [
    {
     "data": {
      "image/png": "[encoded data removed]",
      "text/plain": [
       "<Figure size 432x288 with 1 Axes>"
      ]
     },
     "metadata": {
      "needs_background": "light"
     },
     "output_type": "display_data"
    }
   ],
   "source": [
    "plt.scatter(df['Temp'], df['Failure'], label = 'original data')\n",
    "plt.plot(df['Temp'], my_function(np.matmul(x, w)), color = 'red', label = 'logistic model')\n",
    "plt.title('Logistic Model Plot')\n",
    "plt.xlabel('Temp')\n",
    "plt.ylabel('Failure')\n",
    "plt.legend()\n",
    "plt.show()"
   ]
  },
  {
   "cell_type": "markdown",
   "metadata": {},
   "source": [
    "### Question 4"
   ]
  },
  {
   "cell_type": "markdown",
   "metadata": {},
   "source": [
    "Make prediction"
   ]
  },
  {
   "cell_type": "code",
   "execution_count": 12,
   "metadata": {},
   "outputs": [],
   "source": [
    "temperature = (31 - df['Temp'].mean())/df['Temp'].std()"
   ]
  },
  {
   "cell_type": "code",
   "execution_count": 13,
   "metadata": {},
   "outputs": [
    {
     "data": {
      "text/plain": [
       "-5.2750465534221895"
      ]
     },
     "execution_count": 13,
     "metadata": {},
     "output_type": "execute_result"
    }
   ],
   "source": [
    "temperature"
   ]
  },
  {
   "cell_type": "code",
   "execution_count": 15,
   "metadata": {},
   "outputs": [],
   "source": [
    "question = np.array([[1],[temperature]]).reshape(1,2)"
   ]
  },
  {
   "cell_type": "code",
   "execution_count": 16,
   "metadata": {},
   "outputs": [
    {
     "data": {
      "text/plain": [
       "array([[ 1.        , -5.27504655]])"
      ]
     },
     "execution_count": 16,
     "metadata": {},
     "output_type": "execute_result"
    }
   ],
   "source": [
    "question"
   ]
  },
  {
   "cell_type": "code",
   "execution_count": 17,
   "metadata": {},
   "outputs": [],
   "source": [
    "h = my_function(np.matmul(question, w))\n",
    "question4 = [1 if result > 0.5 else 0 for result in h]"
   ]
  },
  {
   "cell_type": "code",
   "execution_count": 18,
   "metadata": {},
   "outputs": [
    {
     "data": {
      "text/plain": [
       "array([[0.99618232]])"
      ]
     },
     "execution_count": 18,
     "metadata": {},
     "output_type": "execute_result"
    }
   ],
   "source": [
    "h"
   ]
  },
  {
   "cell_type": "code",
   "execution_count": 13,
   "metadata": {
    "scrolled": true
   },
   "outputs": [
    {
     "name": "stdout",
     "output_type": "stream",
     "text": [
      "The prediction for question4 is 1\n"
     ]
    }
   ],
   "source": [
    "print(f\"The prediction for question4 is {question4[0]}\")"
   ]
  },
  {
   "cell_type": "markdown",
   "metadata": {},
   "source": [
    "Our prediction for 31 degrees Fahrenheit is 1.\n",
    "\n",
    "Because we only have few data to build our model, this is not a good model for NASA to use. Our desired model should be based on a lot of data, we want a really tall matrix."
   ]
  },
  {
   "cell_type": "code",
   "execution_count": null,
   "metadata": {},
   "outputs": [],
   "source": []
  }
 ],
 "metadata": {
  "kernelspec": {
   "display_name": "Python 3",
   "language": "python",
   "name": "python3"
  },
  "language_info": {
   "codemirror_mode": {
    "name": "ipython",
    "version": 3
   },
   "file_extension": ".py",
   "mimetype": "text/x-python",
   "name": "python",
   "nbconvert_exporter": "python",
   "pygments_lexer": "ipython3",
   "version": "3.7.7"
  }
 },
 "nbformat": 4,
 "nbformat_minor": 2
}
