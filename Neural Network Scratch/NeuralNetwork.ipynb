{
 "cells": [
  {
   "cell_type": "markdown",
   "metadata": {},
   "source": [
    "## Problem 1"
   ]
  },
  {
   "cell_type": "code",
   "execution_count": 1,
   "metadata": {},
   "outputs": [],
   "source": [
    "df = read.csv(\"movieData.csv\")\n",
    "X = as.matrix(df[1:2])\n",
    "Y = as.matrix(df[\"Watched\"])\n",
    "X0 = rep(1, nrow(X))\n",
    "Xnew = cbind(X0,X)\n",
    "set.seed(123)\n",
    "W = runif(3, -1, 1)\n",
    "wold = W"
   ]
  },
  {
   "cell_type": "markdown",
   "metadata": {},
   "source": [
    "### Question 1"
   ]
  },
  {
   "cell_type": "code",
   "execution_count": 2,
   "metadata": {
    "scrolled": true
   },
   "outputs": [
    {
     "name": "stdout",
     "output_type": "stream",
     "text": [
      "[1] TRUE\n",
      "[1] TRUE\n",
      "[1] TRUE\n",
      "[1] TRUE\n",
      "[1] TRUE\n",
      "[1] TRUE\n",
      "[1] TRUE\n",
      "[1] TRUE\n",
      "[1] TRUE\n",
      "[1] TRUE\n",
      "[1] TRUE\n",
      "[1] TRUE\n",
      "[1] TRUE\n",
      "[1] TRUE\n",
      "[1] TRUE\n",
      "[1] TRUE\n",
      "[1] TRUE\n",
      "[1] TRUE\n",
      "[1] TRUE\n",
      "[1] TRUE\n",
      "[1] TRUE\n",
      "[1] TRUE\n",
      "[1] TRUE\n",
      "[1] TRUE\n",
      "[1] TRUE\n",
      "[1] TRUE\n",
      "[1] TRUE\n",
      "[1] TRUE\n",
      "[1] TRUE\n",
      "[1] TRUE\n",
      "[1] TRUE\n",
      "[1] TRUE\n",
      "[1] TRUE\n",
      "[1] TRUE\n",
      "[1] TRUE\n",
      "[1] TRUE\n",
      "[1] TRUE\n",
      "[1] TRUE\n",
      "[1] TRUE\n",
      "[1] TRUE\n",
      "[1] TRUE\n",
      "[1] TRUE\n",
      "[1] TRUE\n",
      "[1] TRUE\n",
      "[1] TRUE\n",
      "[1] TRUE\n",
      "[1] TRUE\n",
      "[1] TRUE\n",
      "[1] TRUE\n",
      "[1] TRUE\n",
      "[1] TRUE\n",
      "[1] TRUE\n",
      "[1] TRUE\n",
      "[1] TRUE\n",
      "[1] TRUE\n",
      "[1] TRUE\n",
      "[1] TRUE\n",
      "[1] TRUE\n",
      "[1] TRUE\n",
      "[1] TRUE\n",
      "[1] TRUE\n",
      "[1] TRUE\n",
      "[1] TRUE\n",
      "[1] TRUE\n",
      "[1] TRUE\n",
      "[1] TRUE\n",
      "[1] TRUE\n",
      "[1] TRUE\n",
      "[1] TRUE\n",
      "[1] TRUE\n",
      "[1] TRUE\n",
      "[1] TRUE\n",
      "[1] TRUE\n",
      "[1] TRUE\n",
      "[1] TRUE\n",
      "[1] TRUE\n",
      "[1] TRUE\n",
      "[1] TRUE\n",
      "[1] TRUE\n",
      "[1] TRUE\n",
      "[1] TRUE\n",
      "[1] TRUE\n",
      "[1] TRUE\n",
      "[1] TRUE\n",
      "[1] TRUE\n",
      "[1] TRUE\n",
      "[1] TRUE\n",
      "[1] TRUE\n",
      "[1] TRUE\n",
      "[1] TRUE\n",
      "[1] TRUE\n",
      "[1] TRUE\n",
      "[1] TRUE\n",
      "[1] TRUE\n",
      "[1] TRUE\n",
      "[1] TRUE\n",
      "[1] TRUE\n",
      "[1] TRUE\n",
      "[1] TRUE\n",
      "[1] TRUE\n",
      "[1] TRUE\n",
      "[1] TRUE\n",
      "[1] TRUE\n",
      "[1] TRUE\n",
      "[1] TRUE\n",
      "[1] TRUE\n",
      "[1] TRUE\n",
      "[1] TRUE\n",
      "[1] TRUE\n",
      "[1] TRUE\n",
      "[1] TRUE\n",
      "[1] TRUE\n",
      "[1] TRUE\n",
      "[1] TRUE\n",
      "[1] TRUE\n",
      "[1] TRUE\n",
      "[1] FALSE\n",
      "After 118 ,the algorithm converge"
     ]
    }
   ],
   "source": [
    "check = T\n",
    "i = 1\n",
    "while (check){\n",
    "    i = i + 1\n",
    "    result = Xnew %*% wold \n",
    "    prediction = ifelse(result > 0, 1, -1)\n",
    "    compare = prediction == Y\n",
    "    check = !all(compare)\n",
    "    print(check)\n",
    "    if (check){\n",
    "        xn = as.matrix(unname(Xnew[compare==FALSE,,drop=F][1,]))\n",
    "        yn = as.matrix(Y[compare==FALSE][1])\n",
    "        xnyn = xn %*% yn\n",
    "        wnew = wold + xnyn\n",
    "        wold = wnew\n",
    "    }else{\n",
    "        cat(\"After\",i,\",the algorithm converge\")\n",
    "    }\n",
    "}\n"
   ]
  },
  {
   "cell_type": "code",
   "execution_count": 63,
   "metadata": {},
   "outputs": [
    {
     "data": {
      "text/html": [
       "<table>\n",
       "<caption>A matrix: 3 × 1 of type dbl</caption>\n",
       "<tbody>\n",
       "\t<tr><td>-26.42484</td></tr>\n",
       "\t<tr><td> -4.42339</td></tr>\n",
       "\t<tr><td> 10.11795</td></tr>\n",
       "</tbody>\n",
       "</table>\n"
      ],
      "text/latex": [
       "A matrix: 3 × 1 of type dbl\n",
       "\\begin{tabular}{l}\n",
       "\t -26.42484\\\\\n",
       "\t  -4.42339\\\\\n",
       "\t  10.11795\\\\\n",
       "\\end{tabular}\n"
      ],
      "text/markdown": [
       "\n",
       "A matrix: 3 × 1 of type dbl\n",
       "\n",
       "| -26.42484 |\n",
       "|  -4.42339 |\n",
       "|  10.11795 |\n",
       "\n"
      ],
      "text/plain": [
       "     [,1]     \n",
       "[1,] -26.42484\n",
       "[2,]  -4.42339\n",
       "[3,]  10.11795"
      ]
     },
     "metadata": {},
     "output_type": "display_data"
    }
   ],
   "source": [
    "wnew"
   ]
  },
  {
   "cell_type": "code",
   "execution_count": 64,
   "metadata": {},
   "outputs": [],
   "source": [
    "df$Watched = as.factor(df$Watched)"
   ]
  },
  {
   "cell_type": "code",
   "execution_count": 65,
   "metadata": {
    "scrolled": true
   },
   "outputs": [
    {
     "name": "stdout",
     "output_type": "stream",
     "text": [
      "'data.frame':\t13 obs. of  3 variables:\n",
      " $ LevelOfViolence: int  1 1 1 2 2 3 5 4 1 3 ...\n",
      " $ CriticsRating  : num  1.2 3.5 4.2 3.9 2.8 3 4.5 1.8 2.1 4.8 ...\n",
      " $ Watched        : Factor w/ 2 levels \"-1\",\"1\": 1 2 2 2 1 1 1 1 1 2 ...\n"
     ]
    }
   ],
   "source": [
    "str(df)"
   ]
  },
  {
   "cell_type": "markdown",
   "metadata": {},
   "source": [
    "### Question 2"
   ]
  },
  {
   "cell_type": "code",
   "execution_count": 4,
   "metadata": {},
   "outputs": [],
   "source": [
    "library(ggplot2)"
   ]
  },
  {
   "cell_type": "code",
   "execution_count": 6,
   "metadata": {},
   "outputs": [
    {
     "data": {
      "image/png": "[encoded data removed]",
      "text/plain": [
       "plot without title"
      ]
     },
     "metadata": {},
     "output_type": "display_data"
    }
   ],
   "source": [
    "ggplot(df, aes(x = LevelOfViolence, y = CriticsRating, colour = Watched)) +\n",
    "    geom_point(size = 2) + \n",
    "    geom_abline(intercept = -wold[1]/wold[3], slope = -wold[2]/wold[3])"
   ]
  },
  {
   "cell_type": "markdown",
   "metadata": {},
   "source": []
  },
  {
   "cell_type": "markdown",
   "metadata": {},
   "source": [
    "## Problem 2"
   ]
  },
  {
   "cell_type": "markdown",
   "metadata": {},
   "source": [
    "### Question 1"
   ]
  },
  {
   "cell_type": "code",
   "execution_count": 20,
   "metadata": {},
   "outputs": [],
   "source": [
    "tanh = function(x){\n",
    "    ans = (exp(x) - exp(-x)) / (exp(x) + exp(-x))\n",
    "    return (ans)\n",
    "}"
   ]
  },
  {
   "cell_type": "code",
   "execution_count": 21,
   "metadata": {},
   "outputs": [],
   "source": [
    "df2 = read.csv(\"siCoData.csv\")"
   ]
  },
  {
   "cell_type": "code",
   "execution_count": 29,
   "metadata": {},
   "outputs": [
    {
     "data": {
      "text/html": [
       "<table>\n",
       "<caption>A matrix: 2 × 1 of type dbl</caption>\n",
       "<tbody>\n",
       "\t<tr><td>1.0000000</td></tr>\n",
       "\t<tr><td>0.6248613</td></tr>\n",
       "</tbody>\n",
       "</table>\n"
      ],
      "text/latex": [
       "A matrix: 2 × 1 of type dbl\n",
       "\\begin{tabular}{l}\n",
       "\t 1.0000000\\\\\n",
       "\t 0.6248613\\\\\n",
       "\\end{tabular}\n"
      ],
      "text/markdown": [
       "\n",
       "A matrix: 2 × 1 of type dbl\n",
       "\n",
       "| 1.0000000 |\n",
       "| 0.6248613 |\n",
       "\n"
      ],
      "text/plain": [
       "     [,1]     \n",
       "[1,] 1.0000000\n",
       "[2,] 0.6248613"
      ]
     },
     "metadata": {},
     "output_type": "display_data"
    }
   ],
   "source": [
    "X"
   ]
  },
  {
   "cell_type": "code",
   "execution_count": 22,
   "metadata": {
    "scrolled": true
   },
   "outputs": [
    {
     "data": {
      "text/html": [
       "<ol class=list-inline>\n",
       "\t<li>'After'</li>\n",
       "\t<li>'5789'</li>\n",
       "\t<li>'the algorithm converges'</li>\n",
       "</ol>\n"
      ],
      "text/latex": [
       "\\begin{enumerate*}\n",
       "\\item 'After'\n",
       "\\item '5789'\n",
       "\\item 'the algorithm converges'\n",
       "\\end{enumerate*}\n"
      ],
      "text/markdown": [
       "1. 'After'\n",
       "2. '5789'\n",
       "3. 'the algorithm converges'\n",
       "\n",
       "\n"
      ],
      "text/plain": [
       "[1] \"After\"                   \"5789\"                   \n",
       "[3] \"the algorithm converges\""
      ]
     },
     "metadata": {},
     "output_type": "display_data"
    },
    {
     "data": {
      "text/html": [
       "<ol class=list-inline>\n",
       "\t<li>'Minimum Ein is:'</li>\n",
       "\t<li>'0.0099665695733008'</li>\n",
       "</ol>\n"
      ],
      "text/latex": [
       "\\begin{enumerate*}\n",
       "\\item 'Minimum Ein is:'\n",
       "\\item '0.0099665695733008'\n",
       "\\end{enumerate*}\n"
      ],
      "text/markdown": [
       "1. 'Minimum Ein is:'\n",
       "2. '0.0099665695733008'\n",
       "\n",
       "\n"
      ],
      "text/plain": [
       "[1] \"Minimum Ein is:\"    \"0.0099665695733008\""
      ]
     },
     "metadata": {},
     "output_type": "display_data"
    },
    {
     "data": {
      "text/html": [
       "'Second layer W is:'"
      ],
      "text/latex": [
       "'Second layer W is:'"
      ],
      "text/markdown": [
       "'Second layer W is:'"
      ],
      "text/plain": [
       "[1] \"Second layer W is:\""
      ]
     },
     "metadata": {},
     "output_type": "display_data"
    },
    {
     "name": "stdout",
     "output_type": "stream",
     "text": [
      "            [,1]     [,2]      [,3]     [,4]\n",
      "[1,] -0.07346935 2.369186 -2.016501 2.248084\n"
     ]
    },
    {
     "data": {
      "text/html": [
       "'First layer W is:'"
      ],
      "text/latex": [
       "'First layer W is:'"
      ],
      "text/markdown": [
       "'First layer W is:'"
      ],
      "text/plain": [
       "[1] \"First layer W is:\""
      ]
     },
     "metadata": {},
     "output_type": "display_data"
    },
    {
     "name": "stdout",
     "output_type": "stream",
     "text": [
      "             [,1]     [,2]      [,3]\n",
      "[1,] -0.009059673 1.816439  1.504779\n",
      "[2,]  1.749038340 1.850710 -1.537593\n"
     ]
    }
   ],
   "source": [
    "# Initial W\n",
    "set.seed(123)\n",
    "\n",
    "initialfirstW = matrix(runif(6, min = 0, max = 1), nrow = 2) # 2 by 3\n",
    "\n",
    "set.seed(123)\n",
    "initialsecondW = matrix(runif(4, min = 0, max = 1), nrow = 1) # 1 by 4\n",
    "\n",
    "# Split X and y\n",
    "xdata = rbind(rep(1,nrow(df2)), df2[,1])\n",
    "ydata = matrix(df2[,2], nrow = 1)\n",
    "\n",
    "iteration = 0\n",
    "N = nrow(df2)\n",
    "\n",
    "for(j in 1:20000){\n",
    "    sum = 0\n",
    "    set.seed(123)\n",
    "    shuffle = sample(N)\n",
    "    xdata = xdata[,shuffle]\n",
    "    ydata = matrix(ydata[,shuffle], nrow = 1)\n",
    "    for (i in 1:nrow(df2)){\n",
    "        \n",
    "        # Forward Calculation\n",
    "        X = matrix(xdata[,i]) # 2 by 1\n",
    "        y = ydata[,i]\n",
    "        s1 = t(initialfirstW) %*% X # (3 by 2) %*% (2 by 1)\n",
    "        thetas1 = tanh(s1)\n",
    "        s2 = initialsecondW %*% rbind(1, thetas1) # (1 by 4) %*% (4 by 1)\n",
    "        error = (s2 - y)^2\n",
    "        sum = sum + error\n",
    "\n",
    "        # Backward\n",
    "        secondlayerdelta = (2*(s2 - y)[1,1])* rbind(1, thetas1) # scalar x (4 by 1) = 4 by 1\n",
    "        firstlayerdelta = ((2*(s2 - y))[1,1] * matrix(initialsecondW[1,2:4]) * (1 - thetas1^2))%*% t(X) # scalar x (3 by 1) * (1 by 2) = 3 by 2\n",
    "        newsecondW = initialsecondW - 0.001 * t(secondlayerdelta)\n",
    "        newfirstW = initialfirstW - 0.001 * t(firstlayerdelta)\n",
    "        \n",
    "\n",
    "        # Update W\n",
    "        initialsecondW = newsecondW\n",
    "        initialfirstW = newfirstW\n",
    "\n",
    "    }\n",
    "    iteration = iteration + 1\n",
    "    if(sum/N < 0.01){\n",
    "        break\n",
    "    }\n",
    "}\n",
    "c(\"After\",iteration,\"the algorithm converges\")\n",
    "c(\"Minimum Ein is:\", sum/N)\n",
    "c(\"Second layer W is:\")\n",
    "print(newsecondW)\n",
    "c(\"First layer W is:\")\n",
    "print(newfirstW)"
   ]
  },
  {
   "cell_type": "code",
   "execution_count": 23,
   "metadata": {},
   "outputs": [],
   "source": [
    "library(ggplot2)"
   ]
  },
  {
   "cell_type": "code",
   "execution_count": 24,
   "metadata": {},
   "outputs": [
    {
     "data": {
      "image/png": "[encoded data removed]",
      "text/plain": [
       "plot without title"
      ]
     },
     "metadata": {},
     "output_type": "display_data"
    }
   ],
   "source": [
    "ggplot(df2, aes(x = x, y = y)) + \n",
    "    geom_point() + \n",
    "    ggtitle(\"y vs. X\")"
   ]
  },
  {
   "cell_type": "code",
   "execution_count": 25,
   "metadata": {},
   "outputs": [],
   "source": [
    "predict = tanh(initialsecondW %*% rbind(rep(1, nrow(df2)) ,tanh(t(initialfirstW) %*% t(cbind(rep(1, nrow(df2)), df2[,1])))))\n",
    "df2[\"prediction\"] = t(predict)"
   ]
  },
  {
   "cell_type": "code",
   "execution_count": 26,
   "metadata": {},
   "outputs": [
    {
     "data": {
      "image/png": "[encoded data removed]",
      "text/plain": [
       "plot without title"
      ]
     },
     "metadata": {},
     "output_type": "display_data"
    }
   ],
   "source": [
    "ggplot(df2, aes(x = x, y = prediction)) + \n",
    "    geom_point() + \n",
    "    ggtitle(\"Prediction vs. X\")"
   ]
  }
 ],
 "metadata": {
  "kernelspec": {
   "display_name": "R",
   "language": "R",
   "name": "ir"
  },
  "language_info": {
   "codemirror_mode": "r",
   "file_extension": ".r",
   "mimetype": "text/x-r-source",
   "name": "R",
   "pygments_lexer": "r",
   "version": "3.6.1"
  }
 },
 "nbformat": 4,
 "nbformat_minor": 2
}
