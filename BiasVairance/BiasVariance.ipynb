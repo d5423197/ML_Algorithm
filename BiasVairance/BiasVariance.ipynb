{
 "cells": [
  {
   "cell_type": "code",
   "execution_count": 1,
   "metadata": {},
   "outputs": [],
   "source": [
    "library(pracma)\n",
    "library(ggplot2)\n",
    "set.seed(123)"
   ]
  },
  {
   "cell_type": "code",
   "execution_count": 2,
   "metadata": {},
   "outputs": [],
   "source": [
    "df = data.frame() # prepare our random dataset\n",
    "for (i in (1:10000)){\n",
    "    random = runif(2,-1,1)\n",
    "    df[i,'x1'] = random[1]\n",
    "    df[i,'x2'] = random[2]\n",
    "    df[i,'y1'] = sin(pi*df[i,'x1'])\n",
    "    df[i,'y2'] = sin(pi*df[i,'x2'])   \n",
    "}"
   ]
  },
  {
   "cell_type": "markdown",
   "metadata": {},
   "source": [
    "# Constant Hypothesis"
   ]
  },
  {
   "cell_type": "code",
   "execution_count": 3,
   "metadata": {},
   "outputs": [],
   "source": [
    "# generate 10,000 hypotheses\n",
    "for (i in (1:10000)){\n",
    "    df[i,'g(x)'] = (df[i, 'y1'] + df[i, 'y2']) / 2\n",
    "}"
   ]
  },
  {
   "cell_type": "code",
   "execution_count": 4,
   "metadata": {},
   "outputs": [
    {
     "data": {
      "text/html": [
       "-0.00496094999723173"
      ],
      "text/latex": [
       "-0.00496094999723173"
      ],
      "text/markdown": [
       "-0.00496094999723173"
      ],
      "text/plain": [
       "[1] -0.00496095"
      ]
     },
     "metadata": {},
     "output_type": "display_data"
    }
   ],
   "source": [
    "# get g(x) bar\n",
    "gbar = mean(df[['g(x)']])\n",
    "gbar"
   ]
  },
  {
   "cell_type": "markdown",
   "metadata": {},
   "source": [
    "Calculate variance"
   ]
  },
  {
   "cell_type": "code",
   "execution_count": 5,
   "metadata": {},
   "outputs": [],
   "source": [
    "varianceM = apply(df['g(x)'], 2, function(x) {(x-gbar)^2}) # use each hypothesis minus gbar and take square of it"
   ]
  },
  {
   "cell_type": "code",
   "execution_count": 6,
   "metadata": {
    "scrolled": true
   },
   "outputs": [],
   "source": [
    "var = colMeans(varianceM) # get the mean which is the variance"
   ]
  },
  {
   "cell_type": "code",
   "execution_count": 7,
   "metadata": {},
   "outputs": [],
   "source": [
    "df['gbar'] = rep(gbar, nrow(df)) # create a column 'gbar' for calculating bias"
   ]
  },
  {
   "cell_type": "markdown",
   "metadata": {},
   "source": [
    "For constant hypothesis, variance and bias are below"
   ]
  },
  {
   "cell_type": "markdown",
   "metadata": {},
   "source": [
    "one way to calculate the bias. calculate bias1 based on X1 and bias2 on X2, then take the mean of them."
   ]
  },
  {
   "cell_type": "code",
   "execution_count": 8,
   "metadata": {},
   "outputs": [
    {
     "data": {
      "text/html": [
       "0.497400295601991"
      ],
      "text/latex": [
       "0.497400295601991"
      ],
      "text/markdown": [
       "0.497400295601991"
      ],
      "text/plain": [
       "[1] 0.4974003"
      ]
     },
     "metadata": {},
     "output_type": "display_data"
    }
   ],
   "source": [
    "df['bias'] = (df['y1'] - df['gbar'])^2 # calculate the bias (gbar - f(x)) {f(x) is the target function}\n",
    "mean(df[['bias']])"
   ]
  },
  {
   "cell_type": "code",
   "execution_count": 9,
   "metadata": {},
   "outputs": [
    {
     "data": {
      "text/html": [
       "0.501962024967952"
      ],
      "text/latex": [
       "0.501962024967952"
      ],
      "text/markdown": [
       "0.501962024967952"
      ],
      "text/plain": [
       "[1] 0.501962"
      ]
     },
     "metadata": {},
     "output_type": "display_data"
    }
   ],
   "source": [
    "df['bias2'] = (df['y2'] - df['gbar'])^2\n",
    "mean(df[['bias2']])"
   ]
  },
  {
   "cell_type": "code",
   "execution_count": 10,
   "metadata": {
    "scrolled": true
   },
   "outputs": [
    {
     "data": {
      "text/html": [
       "0.499681160284971"
      ],
      "text/latex": [
       "0.499681160284971"
      ],
      "text/markdown": [
       "0.499681160284971"
      ],
      "text/plain": [
       "[1] 0.4996812"
      ]
     },
     "metadata": {},
     "output_type": "display_data"
    }
   ],
   "source": [
    "(mean(df[['bias']]) + mean(df[['bias2']]))/2"
   ]
  },
  {
   "cell_type": "markdown",
   "metadata": {},
   "source": [
    "another way is calculate based all X1 and X2"
   ]
  },
  {
   "cell_type": "code",
   "execution_count": 11,
   "metadata": {
    "scrolled": true
   },
   "outputs": [],
   "source": [
    "df1 = data.frame(matrix(0, nrow=20000) )\n",
    "colnames(df1) = 'gbar'\n",
    "df1['gbar'] =  rep(gbar, 20000)\n",
    "df1[1:10000,'y'] = df[[\"y1\"]] \n",
    "df1[10001:20000,'y']= df[[\"y2\"]] \n",
    "df1['bias'] = (df1['y'] - df1['gbar'])^2"
   ]
  },
  {
   "cell_type": "code",
   "execution_count": 12,
   "metadata": {},
   "outputs": [
    {
     "data": {
      "text/html": [
       "0.499681160284971"
      ],
      "text/latex": [
       "0.499681160284971"
      ],
      "text/markdown": [
       "0.499681160284971"
      ],
      "text/plain": [
       "[1] 0.4996812"
      ]
     },
     "metadata": {},
     "output_type": "display_data"
    }
   ],
   "source": [
    "bias = mean(df1[['bias']])\n",
    "bias"
   ]
  },
  {
   "cell_type": "markdown",
   "metadata": {},
   "source": [
    "## Result"
   ]
  },
  {
   "cell_type": "code",
   "execution_count": 13,
   "metadata": {},
   "outputs": [
    {
     "data": {
      "text/html": [
       "<strong>g(x):</strong> 0.247"
      ],
      "text/latex": [
       "\\textbf{g(x):} 0.247"
      ],
      "text/markdown": [
       "**g(x):** 0.247"
      ],
      "text/plain": [
       " g(x) \n",
       "0.247 "
      ]
     },
     "metadata": {},
     "output_type": "display_data"
    }
   ],
   "source": [
    "round(var,3)"
   ]
  },
  {
   "cell_type": "code",
   "execution_count": 14,
   "metadata": {
    "scrolled": true
   },
   "outputs": [
    {
     "data": {
      "text/html": [
       "0.5"
      ],
      "text/latex": [
       "0.5"
      ],
      "text/markdown": [
       "0.5"
      ],
      "text/plain": [
       "[1] 0.5"
      ]
     },
     "metadata": {},
     "output_type": "display_data"
    }
   ],
   "source": [
    "round(bias,3)"
   ]
  },
  {
   "cell_type": "code",
   "execution_count": 15,
   "metadata": {},
   "outputs": [],
   "source": [
    "graph = data.frame(matrix(0, nrow=10000))\n",
    "colnames(graph) = 'x'\n",
    "graph['x'] = df['x1']\n",
    "graph['gbar'] = rep(gbar, nrow(graph))\n",
    "graph['gbar+var'] = graph['gbar'] + sqrt(var)\n",
    "graph['y'] = df['y1']"
   ]
  },
  {
   "cell_type": "code",
   "execution_count": 57,
   "metadata": {
    "scrolled": false
   },
   "outputs": [
    {
     "data": {
      "image/png": "[encoded data removed]",
      "text/plain": [
       "plot without title"
      ]
     },
     "metadata": {},
     "output_type": "display_data"
    }
   ],
   "source": [
    "ggplot(graph) + \n",
    "geom_line(aes(x=x,y=gbar,colour = 'gbar') ) + \n",
    "geom_line(aes(x=x,y=gbar+sqrt(var),colour = 'gbar+var'), ) + \n",
    "geom_line(aes(x=x,y=y,colour = 'f(x)')) + \n",
    "ylab(\"Y\")"
   ]
  },
  {
   "cell_type": "markdown",
   "metadata": {},
   "source": [
    "# Linear Hypothesis"
   ]
  },
  {
   "cell_type": "code",
   "execution_count": 17,
   "metadata": {},
   "outputs": [],
   "source": [
    "df2 = df[c('x1','x2','y1','y2')] # get data"
   ]
  },
  {
   "cell_type": "code",
   "execution_count": 18,
   "metadata": {
    "scrolled": true
   },
   "outputs": [],
   "source": [
    "df2['m'] = (df['y2'] - df['y1']) / (df['x2'] - df['x1']) # calculate slope\n",
    "df2['b'] = df2['y1'] - df2['m']*df2['x1'] # calculate the intercept"
   ]
  },
  {
   "cell_type": "code",
   "execution_count": 19,
   "metadata": {},
   "outputs": [],
   "source": [
    "b = mean(df2[['b']]) \n",
    "m = mean(df2[['m']]) # get the average linear function parameter"
   ]
  },
  {
   "cell_type": "code",
   "execution_count": 20,
   "metadata": {
    "scrolled": true
   },
   "outputs": [
    {
     "data": {
      "text/html": [
       "0.797789220888086"
      ],
      "text/latex": [
       "0.797789220888086"
      ],
      "text/markdown": [
       "0.797789220888086"
      ],
      "text/plain": [
       "[1] 0.7977892"
      ]
     },
     "metadata": {},
     "output_type": "display_data"
    },
    {
     "data": {
      "text/html": [
       "-0.0155635151751418"
      ],
      "text/latex": [
       "-0.0155635151751418"
      ],
      "text/markdown": [
       "-0.0155635151751418"
      ],
      "text/plain": [
       "[1] -0.01556352"
      ]
     },
     "metadata": {},
     "output_type": "display_data"
    }
   ],
   "source": [
    "m\n",
    "b"
   ]
  },
  {
   "cell_type": "code",
   "execution_count": 21,
   "metadata": {},
   "outputs": [],
   "source": [
    "df2['g(x)'] = m*df2['x1'] + b # this is to calculate the g(x)bar for each x1\n",
    "df2['g(x)2'] = m*df2['x2'] + b # this is to calculate the g(x)bar for each x2"
   ]
  },
  {
   "cell_type": "code",
   "execution_count": 44,
   "metadata": {
    "scrolled": true
   },
   "outputs": [],
   "source": [
    "testdf = data.frame(matrix(0, nrow=10000))\n",
    "colnames(testdf) = 'x'\n",
    "testdf[1:10000,'x'] = df2['x1']\n",
    "testdf[1:10000, 'g(x)'] = df2['g(x)']"
   ]
  },
  {
   "cell_type": "code",
   "execution_count": 51,
   "metadata": {},
   "outputs": [
    {
     "data": {
      "text/html": [
       "-0.424844959750772"
      ],
      "text/latex": [
       "-0.424844959750772"
      ],
      "text/markdown": [
       "-0.424844959750772"
      ],
      "text/plain": [
       "[1] -0.424845"
      ]
     },
     "metadata": {},
     "output_type": "display_data"
    }
   ],
   "source": [
    "testdf[1,1]"
   ]
  },
  {
   "cell_type": "code",
   "execution_count": 45,
   "metadata": {},
   "outputs": [],
   "source": [
    "# mMatrix is 10000 by 1\n",
    "# bMatrix is 10000 by 1\n",
    "# calculate gdx based on x and two matrices \n",
    "# calculate the variance for one point and return it \n",
    "# the return would be 10000 by 1\n",
    "# so after mapply, the result matrix would be 10000 by 10000\n",
    "# in result matrix, each row represents variant for each x point\n",
    "# then I took colmeans and take mean from that\n",
    "test = function(x, gbar){\n",
    "    mMatrix = matrix(df2$m)\n",
    "    bMatrix = matrix(df2$b)\n",
    "    gdx = x*mMatrix + bMatrix\n",
    "    return ((gdx - gbar)^2)\n",
    "} \n",
    "result = mapply(test,testdf$x,testdf[['g(x)']])\n",
    "varl = mean(colMeans(result))"
   ]
  },
  {
   "cell_type": "code",
   "execution_count": 47,
   "metadata": {},
   "outputs": [
    {
     "data": {
      "text/html": [
       "1.64708145120683"
      ],
      "text/latex": [
       "1.64708145120683"
      ],
      "text/markdown": [
       "1.64708145120683"
      ],
      "text/plain": [
       "[1] 1.647081"
      ]
     },
     "metadata": {},
     "output_type": "display_data"
    }
   ],
   "source": [
    "varl"
   ]
  },
  {
   "cell_type": "code",
   "execution_count": 48,
   "metadata": {},
   "outputs": [
    {
     "data": {
      "text/html": [
       "0.203022801254295"
      ],
      "text/latex": [
       "0.203022801254295"
      ],
      "text/markdown": [
       "0.203022801254295"
      ],
      "text/plain": [
       "[1] 0.2030228"
      ]
     },
     "metadata": {},
     "output_type": "display_data"
    }
   ],
   "source": [
    "df2['bias'] = (df2['g(x)'] - df2['y1'])^2\n",
    "mean(df2[['bias']]) # calculate bias based on all x1"
   ]
  },
  {
   "cell_type": "code",
   "execution_count": 26,
   "metadata": {},
   "outputs": [
    {
     "data": {
      "text/html": [
       "0.202005838442735"
      ],
      "text/latex": [
       "0.202005838442735"
      ],
      "text/markdown": [
       "0.202005838442735"
      ],
      "text/plain": [
       "[1] 0.2020058"
      ]
     },
     "metadata": {},
     "output_type": "display_data"
    }
   ],
   "source": [
    "df2['bias2'] = (df2['g(x)2'] - df2['y2'])^2\n",
    "mean(df2[['bias2']]) # calculate the bias based on all x2"
   ]
  },
  {
   "cell_type": "code",
   "execution_count": 27,
   "metadata": {},
   "outputs": [],
   "source": [
    "biasl = (mean(df2[['bias2']]) + mean(df2[['bias']]))/2 # calculate the average"
   ]
  },
  {
   "cell_type": "markdown",
   "metadata": {},
   "source": [
    "## Result"
   ]
  },
  {
   "cell_type": "code",
   "execution_count": 28,
   "metadata": {},
   "outputs": [
    {
     "data": {
      "text/html": [
       "0.203"
      ],
      "text/latex": [
       "0.203"
      ],
      "text/markdown": [
       "0.203"
      ],
      "text/plain": [
       "[1] 0.203"
      ]
     },
     "metadata": {},
     "output_type": "display_data"
    }
   ],
   "source": [
    "round(biasl,3)"
   ]
  },
  {
   "cell_type": "code",
   "execution_count": 29,
   "metadata": {
    "scrolled": true
   },
   "outputs": [
    {
     "data": {
      "text/html": [
       "1.643"
      ],
      "text/latex": [
       "1.643"
      ],
      "text/markdown": [
       "1.643"
      ],
      "text/plain": [
       "[1] 1.643"
      ]
     },
     "metadata": {},
     "output_type": "display_data"
    }
   ],
   "source": [
    "round(varl,3)"
   ]
  },
  {
   "cell_type": "code",
   "execution_count": 30,
   "metadata": {
    "scrolled": true
   },
   "outputs": [],
   "source": [
    "g2 = data.frame(matrix(0, nrow=10000))\n",
    "colnames(g2) = 'x'\n",
    "g2['x'] = df['x1']\n",
    "g2['y'] = df['y1']\n",
    "g2['xlinear'] = seq(-1,1, length.out = 10000)\n",
    "g2['ylinear'] = m*g2['xlinear'] + b\n",
    "g2['ylinear+var'] = g2['ylinear']+ sqrt(varl)"
   ]
  },
  {
   "cell_type": "code",
   "execution_count": 31,
   "metadata": {
    "scrolled": true
   },
   "outputs": [
    {
     "data": {
      "image/png": "[encoded data removed]",
      "text/plain": [
       "plot without title"
      ]
     },
     "metadata": {},
     "output_type": "display_data"
    }
   ],
   "source": [
    "ggplot(g2) + \n",
    "geom_line(aes(x=xlinear,y=ylinear,colour = 'gbar') ) + \n",
    "geom_line(aes(x=x,y=y,colour = 'f(x)')) + \n",
    "geom_line(aes(x=xlinear,y=ylinear+varl,colour = 'gbar+var') )"
   ]
  }
 ],
 "metadata": {
  "kernelspec": {
   "display_name": "R",
   "language": "R",
   "name": "ir"
  },
  "language_info": {
   "codemirror_mode": "r",
   "file_extension": ".r",
   "mimetype": "text/x-r-source",
   "name": "R",
   "pygments_lexer": "r",
   "version": "3.6.1"
  }
 },
 "nbformat": 4,
 "nbformat_minor": 2
}
