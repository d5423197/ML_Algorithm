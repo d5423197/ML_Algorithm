{
 "cells": [
  {
   "cell_type": "code",
   "execution_count": 1,
   "metadata": {
    "scrolled": true
   },
   "outputs": [
    {
     "name": "stderr",
     "output_type": "stream",
     "text": [
      "Using TensorFlow backend.\n"
     ]
    }
   ],
   "source": [
    "import pandas as pd\n",
    "import matplotlib.pyplot as plt\n",
    "from imblearn.over_sampling import RandomOverSampler\n",
    "from collections import Counter\n",
    "from scipy import stats\n",
    "from sklearn.feature_selection import chi2,SelectKBest\n",
    "import numpy as np\n",
    "from sklearn.preprocessing import MinMaxScaler\n",
    "from sklearn.feature_selection import RFE\n",
    "from sklearn.linear_model import LogisticRegression\n",
    "import warnings\n",
    "from sklearn.feature_selection import SelectFromModel\n",
    "from sklearn.ensemble import RandomForestClassifier\n",
    "from lightgbm import LGBMClassifier\n",
    "from sklearn.model_selection import train_test_split\n",
    "import numpy as np\n",
    "import keras\n",
    "from keras.models import Sequential\n",
    "from keras.layers import Dense, Dropout\n",
    "from keras.optimizers import RMSprop\n",
    "from keras.wrappers.scikit_learn import KerasClassifier\n",
    "from sklearn.model_selection import StratifiedKFold\n",
    "from sklearn.model_selection import cross_val_score\n",
    "from sklearn.preprocessing import StandardScaler\n",
    "from keras.models import load_model\n",
    "from sklearn.preprocessing import LabelEncoder\n",
    "from sklearn.feature_selection import f_classif\n",
    "from sklearn import preprocessing\n",
    "from sklearn.metrics import confusion_matrix, accuracy_score, classification_report, roc_curve, roc_auc_score,plot_roc_curve\n",
    "from imblearn.under_sampling import RandomUnderSampler\n",
    "import seaborn as sns\n",
    "from pickle import dump\n",
    "warnings.filterwarnings(\"ignore\")"
   ]
  },
  {
   "cell_type": "code",
   "execution_count": 3,
   "metadata": {},
   "outputs": [],
   "source": [
    "data = pd.read_csv(\"Data.csv\")\n",
    "X = data.iloc[:,0:-1]\n",
    "y = data.iloc[:,-1]"
   ]
  },
  {
   "cell_type": "markdown",
   "metadata": {},
   "source": [
    "## Remove NaN"
   ]
  },
  {
   "cell_type": "code",
   "execution_count": 4,
   "metadata": {},
   "outputs": [],
   "source": [
    "def NA(col):\n",
    "    count = X[col].isna().sum()\n",
    "    return count"
   ]
  },
  {
   "cell_type": "code",
   "execution_count": 5,
   "metadata": {
    "scrolled": true
   },
   "outputs": [
    {
     "name": "stdout",
     "output_type": "stream",
     "text": [
      "(39508, 342)\n"
     ]
    }
   ],
   "source": [
    "dropCol = []\n",
    "for col in X.columns:\n",
    "    if NA(col)/len(X) > 0.5:\n",
    "        dropCol.append(col)\n",
    "X = X.drop(columns = dropCol)\n",
    "print(X.shape)"
   ]
  },
  {
   "cell_type": "code",
   "execution_count": 6,
   "metadata": {},
   "outputs": [],
   "source": [
    "categoricalColumn = []\n",
    "nonCategoricalColumn = []\n",
    "for col in X:\n",
    "    if X[col].dtype == \"object\":\n",
    "        categoricalColumn.append(col)\n",
    "    else:\n",
    "        nonCategoricalColumn.append(col)"
   ]
  },
  {
   "cell_type": "code",
   "execution_count": 7,
   "metadata": {},
   "outputs": [],
   "source": [
    "for col in nonCategoricalColumn:\n",
    "    X[col].fillna((data[col].mean()), inplace = True)"
   ]
  },
  {
   "cell_type": "code",
   "execution_count": 8,
   "metadata": {},
   "outputs": [],
   "source": [
    "for col in categoricalColumn:\n",
    "    X[col].fillna(\"U\", inplace = True)"
   ]
  },
  {
   "cell_type": "code",
   "execution_count": 9,
   "metadata": {
    "scrolled": true
   },
   "outputs": [
    {
     "data": {
      "text/plain": [
       "0"
      ]
     },
     "execution_count": 9,
     "metadata": {},
     "output_type": "execute_result"
    }
   ],
   "source": [
    "X.isna().sum().sum()"
   ]
  },
  {
   "cell_type": "markdown",
   "metadata": {},
   "source": [
    "## Categorical Variable Selection"
   ]
  },
  {
   "cell_type": "markdown",
   "metadata": {},
   "source": [
    "def chisquare(column):\n",
    "    ct = pd.crosstab(X[column],y)\n",
    "    p = stats.chi2_contingency(ct)[1]\n",
    "    return p"
   ]
  },
  {
   "cell_type": "markdown",
   "metadata": {},
   "source": [
    "SignificantCategorical = []\n",
    "for col in categoricalColumn:\n",
    "    if len(Counter(X[col])) < 15:\n",
    "        if chisquare(col) < 0.05:\n",
    "            SignificantCategorical.append(col)"
   ]
  },
  {
   "cell_type": "markdown",
   "metadata": {},
   "source": [
    "len(SignificantCategorical)"
   ]
  },
  {
   "cell_type": "markdown",
   "metadata": {},
   "source": [
    "## Select BestK chisquare"
   ]
  },
  {
   "cell_type": "code",
   "execution_count": 10,
   "metadata": {},
   "outputs": [],
   "source": [
    "def chi(X, y):\n",
    "    X = X.astype(str).apply(LabelEncoder().fit_transform)\n",
    "    bestfeatures = SelectKBest(score_func=chi2, k=10)\n",
    "    fit = bestfeatures.fit(X,y)\n",
    "    dfscores = pd.DataFrame(fit.scores_)\n",
    "    dfcolumns = pd.DataFrame(X.columns)\n",
    "    featureScores = pd.concat([dfcolumns,dfscores],axis=1)\n",
    "    featureScores.columns = ['Specs','Score']\n",
    "    #print(featureScores.nlargest(26,'Score'))\n",
    "    return featureScores.sort_values(by = [\"Score\"], ascending = False)"
   ]
  },
  {
   "cell_type": "code",
   "execution_count": 11,
   "metadata": {},
   "outputs": [],
   "source": [
    "SignificantCategorical = chi(X[categoricalColumn],y).iloc[2:10,0].tolist()"
   ]
  },
  {
   "cell_type": "markdown",
   "metadata": {},
   "source": [
    "## Numerical Variable Selection"
   ]
  },
  {
   "cell_type": "code",
   "execution_count": 12,
   "metadata": {},
   "outputs": [],
   "source": [
    "def numerical(X,y):\n",
    "    fs = SelectKBest(score_func=f_classif, k = 50)\n",
    "    fs.fit(X,y)\n",
    "    sup = fs.get_support()\n",
    "    fn = X.loc[:, sup].columns.tolist()\n",
    "    return fn"
   ]
  },
  {
   "cell_type": "code",
   "execution_count": 13,
   "metadata": {
    "scrolled": true
   },
   "outputs": [],
   "source": [
    "significantNon = numerical(X[nonCategoricalColumn],y)"
   ]
  },
  {
   "cell_type": "code",
   "execution_count": 14,
   "metadata": {},
   "outputs": [],
   "source": [
    "total = SignificantCategorical + significantNon"
   ]
  },
  {
   "cell_type": "code",
   "execution_count": 15,
   "metadata": {},
   "outputs": [],
   "source": [
    "dump(significantNon, open('significantNon.pkl','wb'))"
   ]
  },
  {
   "cell_type": "markdown",
   "metadata": {},
   "source": [
    "## OneHotEncode"
   ]
  },
  {
   "cell_type": "code",
   "execution_count": 16,
   "metadata": {
    "scrolled": true
   },
   "outputs": [],
   "source": [
    "X = pd.get_dummies(X[total], drop_first = True)"
   ]
  },
  {
   "cell_type": "code",
   "execution_count": 17,
   "metadata": {},
   "outputs": [
    {
     "data": {
      "text/html": [
       "<div>\n",
       "<style scoped>\n",
       "    .dataframe tbody tr th:only-of-type {\n",
       "        vertical-align: middle;\n",
       "    }\n",
       "\n",
       "    .dataframe tbody tr th {\n",
       "        vertical-align: top;\n",
       "    }\n",
       "\n",
       "    .dataframe thead th {\n",
       "        text-align: right;\n",
       "    }\n",
       "</style>\n",
       "<table border=\"1\" class=\"dataframe\">\n",
       "  <thead>\n",
       "    <tr style=\"text-align: right;\">\n",
       "      <th></th>\n",
       "      <th>LifestyleMedicalPolicy</th>\n",
       "      <th>ActIntAttendsEducationProg</th>\n",
       "      <th>BuyerLuxuryHomeGoodShopper</th>\n",
       "      <th>ActIntEBookReader</th>\n",
       "      <th>ActIntPlaysTennis</th>\n",
       "      <th>StyleHighFreqCruiseEnthus</th>\n",
       "      <th>StyleHighFreqDomesticVac</th>\n",
       "      <th>StyleHighFreqForeignVac</th>\n",
       "      <th>StyleFrequentFlyerPrgMbr</th>\n",
       "      <th>StyleHotelGuestLoyaltyPrg</th>\n",
       "      <th>...</th>\n",
       "      <th>HomeBusinessIndicator_7</th>\n",
       "      <th>HomeBusinessIndicator_8</th>\n",
       "      <th>HomeBusinessIndicator_9</th>\n",
       "      <th>HomeBusinessIndicator_U</th>\n",
       "      <th>HomeBusinessIndicator_Y</th>\n",
       "      <th>I4PersonType_1</th>\n",
       "      <th>I4PersonType_E</th>\n",
       "      <th>I4PersonType_O</th>\n",
       "      <th>I4PersonType_U</th>\n",
       "      <th>I4PersonType_Y</th>\n",
       "    </tr>\n",
       "  </thead>\n",
       "  <tbody>\n",
       "    <tr>\n",
       "      <th>0</th>\n",
       "      <td>69.000000</td>\n",
       "      <td>67.000000</td>\n",
       "      <td>56.000000</td>\n",
       "      <td>78.000000</td>\n",
       "      <td>48.000000</td>\n",
       "      <td>48.000000</td>\n",
       "      <td>41.000000</td>\n",
       "      <td>26.000000</td>\n",
       "      <td>52.000000</td>\n",
       "      <td>60.000000</td>\n",
       "      <td>...</td>\n",
       "      <td>0</td>\n",
       "      <td>0</td>\n",
       "      <td>0</td>\n",
       "      <td>1</td>\n",
       "      <td>0</td>\n",
       "      <td>0</td>\n",
       "      <td>0</td>\n",
       "      <td>0</td>\n",
       "      <td>1</td>\n",
       "      <td>0</td>\n",
       "    </tr>\n",
       "    <tr>\n",
       "      <th>1</th>\n",
       "      <td>14.000000</td>\n",
       "      <td>10.000000</td>\n",
       "      <td>5.000000</td>\n",
       "      <td>11.000000</td>\n",
       "      <td>11.000000</td>\n",
       "      <td>18.000000</td>\n",
       "      <td>6.000000</td>\n",
       "      <td>2.000000</td>\n",
       "      <td>2.000000</td>\n",
       "      <td>9.000000</td>\n",
       "      <td>...</td>\n",
       "      <td>0</td>\n",
       "      <td>0</td>\n",
       "      <td>0</td>\n",
       "      <td>1</td>\n",
       "      <td>0</td>\n",
       "      <td>0</td>\n",
       "      <td>0</td>\n",
       "      <td>0</td>\n",
       "      <td>1</td>\n",
       "      <td>0</td>\n",
       "    </tr>\n",
       "    <tr>\n",
       "      <th>2</th>\n",
       "      <td>65.613084</td>\n",
       "      <td>38.547193</td>\n",
       "      <td>51.699769</td>\n",
       "      <td>42.926365</td>\n",
       "      <td>39.833262</td>\n",
       "      <td>54.125535</td>\n",
       "      <td>50.818501</td>\n",
       "      <td>51.311997</td>\n",
       "      <td>50.748417</td>\n",
       "      <td>53.332663</td>\n",
       "      <td>...</td>\n",
       "      <td>0</td>\n",
       "      <td>0</td>\n",
       "      <td>0</td>\n",
       "      <td>0</td>\n",
       "      <td>0</td>\n",
       "      <td>0</td>\n",
       "      <td>0</td>\n",
       "      <td>0</td>\n",
       "      <td>0</td>\n",
       "      <td>0</td>\n",
       "    </tr>\n",
       "    <tr>\n",
       "      <th>3</th>\n",
       "      <td>65.613084</td>\n",
       "      <td>38.547193</td>\n",
       "      <td>51.699769</td>\n",
       "      <td>42.926365</td>\n",
       "      <td>39.833262</td>\n",
       "      <td>54.125535</td>\n",
       "      <td>50.818501</td>\n",
       "      <td>51.311997</td>\n",
       "      <td>50.748417</td>\n",
       "      <td>53.332663</td>\n",
       "      <td>...</td>\n",
       "      <td>0</td>\n",
       "      <td>0</td>\n",
       "      <td>0</td>\n",
       "      <td>0</td>\n",
       "      <td>0</td>\n",
       "      <td>0</td>\n",
       "      <td>0</td>\n",
       "      <td>0</td>\n",
       "      <td>0</td>\n",
       "      <td>0</td>\n",
       "    </tr>\n",
       "    <tr>\n",
       "      <th>4</th>\n",
       "      <td>65.613084</td>\n",
       "      <td>38.547193</td>\n",
       "      <td>51.699769</td>\n",
       "      <td>42.926365</td>\n",
       "      <td>39.833262</td>\n",
       "      <td>54.125535</td>\n",
       "      <td>50.818501</td>\n",
       "      <td>51.311997</td>\n",
       "      <td>50.748417</td>\n",
       "      <td>53.332663</td>\n",
       "      <td>...</td>\n",
       "      <td>0</td>\n",
       "      <td>0</td>\n",
       "      <td>0</td>\n",
       "      <td>0</td>\n",
       "      <td>0</td>\n",
       "      <td>0</td>\n",
       "      <td>0</td>\n",
       "      <td>0</td>\n",
       "      <td>0</td>\n",
       "      <td>0</td>\n",
       "    </tr>\n",
       "  </tbody>\n",
       "</table>\n",
       "<p>5 rows × 136 columns</p>\n",
       "</div>"
      ],
      "text/plain": [
       "   LifestyleMedicalPolicy  ActIntAttendsEducationProg  \\\n",
       "0               69.000000                   67.000000   \n",
       "1               14.000000                   10.000000   \n",
       "2               65.613084                   38.547193   \n",
       "3               65.613084                   38.547193   \n",
       "4               65.613084                   38.547193   \n",
       "\n",
       "   BuyerLuxuryHomeGoodShopper  ActIntEBookReader  ActIntPlaysTennis  \\\n",
       "0                   56.000000          78.000000          48.000000   \n",
       "1                    5.000000          11.000000          11.000000   \n",
       "2                   51.699769          42.926365          39.833262   \n",
       "3                   51.699769          42.926365          39.833262   \n",
       "4                   51.699769          42.926365          39.833262   \n",
       "\n",
       "   StyleHighFreqCruiseEnthus  StyleHighFreqDomesticVac  \\\n",
       "0                  48.000000                 41.000000   \n",
       "1                  18.000000                  6.000000   \n",
       "2                  54.125535                 50.818501   \n",
       "3                  54.125535                 50.818501   \n",
       "4                  54.125535                 50.818501   \n",
       "\n",
       "   StyleHighFreqForeignVac  StyleFrequentFlyerPrgMbr  \\\n",
       "0                26.000000                 52.000000   \n",
       "1                 2.000000                  2.000000   \n",
       "2                51.311997                 50.748417   \n",
       "3                51.311997                 50.748417   \n",
       "4                51.311997                 50.748417   \n",
       "\n",
       "   StyleHotelGuestLoyaltyPrg  ...  HomeBusinessIndicator_7  \\\n",
       "0                  60.000000  ...                        0   \n",
       "1                   9.000000  ...                        0   \n",
       "2                  53.332663  ...                        0   \n",
       "3                  53.332663  ...                        0   \n",
       "4                  53.332663  ...                        0   \n",
       "\n",
       "   HomeBusinessIndicator_8  HomeBusinessIndicator_9  HomeBusinessIndicator_U  \\\n",
       "0                        0                        0                        1   \n",
       "1                        0                        0                        1   \n",
       "2                        0                        0                        0   \n",
       "3                        0                        0                        0   \n",
       "4                        0                        0                        0   \n",
       "\n",
       "   HomeBusinessIndicator_Y  I4PersonType_1  I4PersonType_E  I4PersonType_O  \\\n",
       "0                        0               0               0               0   \n",
       "1                        0               0               0               0   \n",
       "2                        0               0               0               0   \n",
       "3                        0               0               0               0   \n",
       "4                        0               0               0               0   \n",
       "\n",
       "   I4PersonType_U  I4PersonType_Y  \n",
       "0               1               0  \n",
       "1               1               0  \n",
       "2               0               0  \n",
       "3               0               0  \n",
       "4               0               0  \n",
       "\n",
       "[5 rows x 136 columns]"
      ]
     },
     "execution_count": 17,
     "metadata": {},
     "output_type": "execute_result"
    }
   ],
   "source": [
    "X.head()"
   ]
  },
  {
   "cell_type": "code",
   "execution_count": 18,
   "metadata": {},
   "outputs": [],
   "source": [
    "dump(total, open('total.pkl','wb'))"
   ]
  },
  {
   "cell_type": "markdown",
   "metadata": {},
   "source": [
    "## Spilit Dataset"
   ]
  },
  {
   "cell_type": "code",
   "execution_count": 19,
   "metadata": {},
   "outputs": [],
   "source": [
    "X_train, X_test, y_train, y_test = train_test_split(X, y, test_size = 0.2, stratify = y.values)\n",
    "X_train, X_val, y_train, y_val = train_test_split(X_train, y_train, test_size=0.25,stratify = y_train.values)"
   ]
  },
  {
   "cell_type": "markdown",
   "metadata": {},
   "source": [
    "## Handling Imbalanced Data"
   ]
  },
  {
   "cell_type": "markdown",
   "metadata": {},
   "source": [
    "OverSampling = RandomOverSampler(0.9)\n",
    "X_train_res, y_train_res = OverSampling.fit_sample(X_train,y_train)\n",
    "print(X_train_res.shape, y_train_res.shape)\n",
    "print('Original dataset shape {}'.format(Counter(y_train)))\n",
    "print('Resampled dataset shape {}'.format(Counter(y_train_res)))"
   ]
  },
  {
   "cell_type": "code",
   "execution_count": 20,
   "metadata": {
    "scrolled": true
   },
   "outputs": [
    {
     "name": "stdout",
     "output_type": "stream",
     "text": [
      "(5535, 136) (5535,)\n",
      "Original dataset shape Counter({0: 21244, 1: 2460})\n",
      "Resampled dataset shape Counter({0: 3075, 1: 2460})\n"
     ]
    }
   ],
   "source": [
    "UndeSampling = RandomUnderSampler(0.8)\n",
    "X_train_res, y_train_res = UndeSampling.fit_sample(X_train, y_train)\n",
    "print(X_train_res.shape, y_train_res.shape)\n",
    "print('Original dataset shape {}'.format(Counter(y_train)))\n",
    "print('Resampled dataset shape {}'.format(Counter(y_train_res)))"
   ]
  },
  {
   "cell_type": "markdown",
   "metadata": {},
   "source": [
    "## Normalize Data"
   ]
  },
  {
   "cell_type": "code",
   "execution_count": 21,
   "metadata": {},
   "outputs": [],
   "source": [
    "scale = preprocessing.StandardScaler().fit(X_train_res[significantNon])\n",
    "X_train_res[significantNon] = scale.transform(X_train_res[significantNon])\n",
    "X_train_norm_model = X_train_res\n",
    "X_test[significantNon] = scale.transform(X_test[significantNon])\n",
    "X_test_norm = X_test\n",
    "X_val[significantNon] = scale.transform(X_val[significantNon])\n",
    "X_val_norm = X_val"
   ]
  },
  {
   "cell_type": "code",
   "execution_count": 22,
   "metadata": {},
   "outputs": [],
   "source": [
    "dump(scale, open('scaler.pkl','wb'))"
   ]
  },
  {
   "cell_type": "markdown",
   "metadata": {},
   "source": [
    "## Create Model"
   ]
  },
  {
   "cell_type": "code",
   "execution_count": 23,
   "metadata": {},
   "outputs": [],
   "source": [
    "def create_model():\n",
    "    # Create Model\n",
    "    model = Sequential()\n",
    "    model.add(Dense(100, activation = \"relu\", input_dim = len(X_train_res.columns)))\n",
    "    model.add(Dropout(0.2))\n",
    "    model.add(Dense(100, activation = \"relu\"))\n",
    "    model.add(Dropout(0.2))\n",
    "    model.add(Dense(1, activation = \"sigmoid\"))\n",
    "    # Complie model\n",
    "    model.compile(loss = \"binary_crossentropy\", optimizer = \"adam\", metrics = [\"accuracy\"])\n",
    "    return model"
   ]
  },
  {
   "cell_type": "code",
   "execution_count": 24,
   "metadata": {},
   "outputs": [],
   "source": [
    "model = create_model()"
   ]
  },
  {
   "cell_type": "markdown",
   "metadata": {},
   "source": [
    "## Model Fit"
   ]
  },
  {
   "cell_type": "code",
   "execution_count": 25,
   "metadata": {},
   "outputs": [],
   "source": [
    "from sklearn.utils import class_weight"
   ]
  },
  {
   "cell_type": "code",
   "execution_count": 26,
   "metadata": {},
   "outputs": [],
   "source": [
    "class_weights = class_weight.compute_class_weight('balanced',np.unique(y_train_res), y_train_res)"
   ]
  },
  {
   "cell_type": "code",
   "execution_count": 27,
   "metadata": {},
   "outputs": [
    {
     "data": {
      "text/plain": [
       "array([0.9  , 1.125])"
      ]
     },
     "execution_count": 27,
     "metadata": {},
     "output_type": "execute_result"
    }
   ],
   "source": [
    "class_weights"
   ]
  },
  {
   "cell_type": "code",
   "execution_count": 28,
   "metadata": {
    "scrolled": true
   },
   "outputs": [
    {
     "name": "stdout",
     "output_type": "stream",
     "text": [
      "Train on 5535 samples, validate on 7902 samples\n",
      "Epoch 1/50\n",
      "5535/5535 [==============================] - 1s 167us/step - loss: 0.6694 - accuracy: 0.5998 - val_loss: 0.6088 - val_accuracy: 0.6891\n",
      "Epoch 2/50\n",
      "5535/5535 [==============================] - 1s 123us/step - loss: 0.6475 - accuracy: 0.6179 - val_loss: 0.5635 - val_accuracy: 0.7231\n",
      "Epoch 3/50\n",
      "5535/5535 [==============================] - 1s 112us/step - loss: 0.6338 - accuracy: 0.6394 - val_loss: 0.5826 - val_accuracy: 0.6654\n",
      "Epoch 4/50\n",
      "5535/5535 [==============================] - 1s 112us/step - loss: 0.6202 - accuracy: 0.6594 - val_loss: 0.5576 - val_accuracy: 0.6962\n",
      "Epoch 5/50\n",
      "5535/5535 [==============================] - 1s 110us/step - loss: 0.6109 - accuracy: 0.6578 - val_loss: 0.5525 - val_accuracy: 0.7069\n",
      "Epoch 6/50\n",
      "5535/5535 [==============================] - 1s 118us/step - loss: 0.6049 - accuracy: 0.6603 - val_loss: 0.5874 - val_accuracy: 0.6596\n",
      "Epoch 7/50\n",
      "5535/5535 [==============================] - 1s 118us/step - loss: 0.5972 - accuracy: 0.6620 - val_loss: 0.5506 - val_accuracy: 0.7069\n",
      "Epoch 8/50\n",
      "5535/5535 [==============================] - 1s 128us/step - loss: 0.5902 - accuracy: 0.6824 - val_loss: 0.5463 - val_accuracy: 0.7025\n",
      "Epoch 9/50\n",
      "5535/5535 [==============================] - 1s 104us/step - loss: 0.5824 - accuracy: 0.6822 - val_loss: 0.5387 - val_accuracy: 0.7227\n",
      "Epoch 10/50\n",
      "5535/5535 [==============================] - 1s 112us/step - loss: 0.5717 - accuracy: 0.6968 - val_loss: 0.5898 - val_accuracy: 0.6698\n",
      "Epoch 11/50\n",
      "5535/5535 [==============================] - 1s 117us/step - loss: 0.5650 - accuracy: 0.6945 - val_loss: 0.5878 - val_accuracy: 0.6676\n",
      "Epoch 12/50\n",
      "5535/5535 [==============================] - 1s 102us/step - loss: 0.5517 - accuracy: 0.7144 - val_loss: 0.5481 - val_accuracy: 0.7055\n",
      "Epoch 13/50\n",
      "5535/5535 [==============================] - 1s 110us/step - loss: 0.5418 - accuracy: 0.7245 - val_loss: 0.5486 - val_accuracy: 0.6903\n",
      "Epoch 14/50\n",
      "5535/5535 [==============================] - 1s 111us/step - loss: 0.5361 - accuracy: 0.7176 - val_loss: 0.5846 - val_accuracy: 0.6612\n",
      "Epoch 15/50\n",
      "5535/5535 [==============================] - 1s 102us/step - loss: 0.5272 - accuracy: 0.7277 - val_loss: 0.5926 - val_accuracy: 0.6619\n",
      "Epoch 16/50\n",
      "5535/5535 [==============================] - 1s 109us/step - loss: 0.5212 - accuracy: 0.7344 - val_loss: 0.6755 - val_accuracy: 0.5763\n",
      "Epoch 17/50\n",
      "5535/5535 [==============================] - 1s 110us/step - loss: 0.5166 - accuracy: 0.7350 - val_loss: 0.6144 - val_accuracy: 0.6564\n",
      "Epoch 18/50\n",
      "5535/5535 [==============================] - 1s 117us/step - loss: 0.5079 - accuracy: 0.7355 - val_loss: 0.5893 - val_accuracy: 0.6678\n",
      "Epoch 19/50\n",
      "5535/5535 [==============================] - 1s 99us/step - loss: 0.4927 - accuracy: 0.7431 - val_loss: 0.5981 - val_accuracy: 0.6624\n",
      "Epoch 20/50\n",
      "5535/5535 [==============================] - 1s 119us/step - loss: 0.4810 - accuracy: 0.7592 - val_loss: 0.5910 - val_accuracy: 0.6810\n",
      "Epoch 21/50\n",
      "5535/5535 [==============================] - 1s 111us/step - loss: 0.4875 - accuracy: 0.7552 - val_loss: 0.5893 - val_accuracy: 0.6663\n",
      "Epoch 22/50\n",
      "5535/5535 [==============================] - 1s 114us/step - loss: 0.4672 - accuracy: 0.7715 - val_loss: 0.6084 - val_accuracy: 0.6651\n",
      "Epoch 23/50\n",
      "5535/5535 [==============================] - 1s 109us/step - loss: 0.4641 - accuracy: 0.7689 - val_loss: 0.5550 - val_accuracy: 0.7155\n",
      "Epoch 24/50\n",
      "5535/5535 [==============================] - 1s 131us/step - loss: 0.4594 - accuracy: 0.7698 - val_loss: 0.6301 - val_accuracy: 0.6555\n",
      "Epoch 25/50\n",
      "5535/5535 [==============================] - 1s 99us/step - loss: 0.4501 - accuracy: 0.7818 - val_loss: 0.6082 - val_accuracy: 0.6679\n",
      "Epoch 26/50\n",
      "5535/5535 [==============================] - 1s 111us/step - loss: 0.4389 - accuracy: 0.7884 - val_loss: 0.6067 - val_accuracy: 0.6686\n",
      "Epoch 27/50\n",
      "5535/5535 [==============================] - 1s 114us/step - loss: 0.4337 - accuracy: 0.7883 - val_loss: 0.6801 - val_accuracy: 0.6316\n",
      "Epoch 28/50\n",
      "5535/5535 [==============================] - 1s 103us/step - loss: 0.4387 - accuracy: 0.7834 - val_loss: 0.6253 - val_accuracy: 0.6786\n",
      "Epoch 29/50\n",
      "5535/5535 [==============================] - 1s 108us/step - loss: 0.4183 - accuracy: 0.7958 - val_loss: 0.6451 - val_accuracy: 0.6662\n",
      "Epoch 30/50\n",
      "5535/5535 [==============================] - 1s 105us/step - loss: 0.4189 - accuracy: 0.7977 - val_loss: 0.6029 - val_accuracy: 0.6850\n",
      "Epoch 31/50\n",
      "5535/5535 [==============================] - 1s 114us/step - loss: 0.4056 - accuracy: 0.8090 - val_loss: 0.6967 - val_accuracy: 0.6306\n",
      "Epoch 32/50\n",
      "5535/5535 [==============================] - 1s 101us/step - loss: 0.4052 - accuracy: 0.8070 - val_loss: 0.6263 - val_accuracy: 0.6816\n",
      "Epoch 33/50\n",
      "5535/5535 [==============================] - 1s 120us/step - loss: 0.4005 - accuracy: 0.8067 - val_loss: 0.7114 - val_accuracy: 0.6247\n",
      "Epoch 34/50\n",
      "5535/5535 [==============================] - 1s 105us/step - loss: 0.3844 - accuracy: 0.8170 - val_loss: 0.6855 - val_accuracy: 0.6543\n",
      "Epoch 35/50\n",
      "5535/5535 [==============================] - 1s 103us/step - loss: 0.3877 - accuracy: 0.8157 - val_loss: 0.6392 - val_accuracy: 0.6708\n",
      "Epoch 36/50\n",
      "5535/5535 [==============================] - 1s 102us/step - loss: 0.3895 - accuracy: 0.8181 - val_loss: 0.7003 - val_accuracy: 0.6554\n",
      "Epoch 37/50\n",
      "5535/5535 [==============================] - 1s 109us/step - loss: 0.3715 - accuracy: 0.8233 - val_loss: 0.7350 - val_accuracy: 0.6360\n",
      "Epoch 38/50\n",
      "5535/5535 [==============================] - 1s 99us/step - loss: 0.3768 - accuracy: 0.8170 - val_loss: 0.7266 - val_accuracy: 0.6479\n",
      "Epoch 39/50\n",
      "5535/5535 [==============================] - 1s 111us/step - loss: 0.3663 - accuracy: 0.8257 - val_loss: 0.7047 - val_accuracy: 0.6629\n",
      "Epoch 40/50\n",
      "5535/5535 [==============================] - 1s 103us/step - loss: 0.3650 - accuracy: 0.8255 - val_loss: 0.7347 - val_accuracy: 0.6416\n",
      "Epoch 41/50\n",
      "5535/5535 [==============================] - 1s 115us/step - loss: 0.3607 - accuracy: 0.8309 - val_loss: 0.7626 - val_accuracy: 0.6346\n",
      "Epoch 42/50\n",
      "5535/5535 [==============================] - 1s 102us/step - loss: 0.3512 - accuracy: 0.8334 - val_loss: 0.7076 - val_accuracy: 0.6493\n",
      "Epoch 43/50\n",
      "5535/5535 [==============================] - 1s 103us/step - loss: 0.3513 - accuracy: 0.8313 - val_loss: 0.7300 - val_accuracy: 0.6430\n",
      "Epoch 44/50\n",
      "5535/5535 [==============================] - 1s 117us/step - loss: 0.3497 - accuracy: 0.8313 - val_loss: 0.7097 - val_accuracy: 0.6531\n",
      "Epoch 45/50\n",
      "5535/5535 [==============================] - 1s 114us/step - loss: 0.3521 - accuracy: 0.8320 - val_loss: 0.7280 - val_accuracy: 0.6444\n",
      "Epoch 46/50\n",
      "5535/5535 [==============================] - 1s 109us/step - loss: 0.3483 - accuracy: 0.8396 - val_loss: 0.6993 - val_accuracy: 0.6724\n",
      "Epoch 47/50\n",
      "5535/5535 [==============================] - 1s 122us/step - loss: 0.3450 - accuracy: 0.8363 - val_loss: 0.7281 - val_accuracy: 0.6471\n",
      "Epoch 48/50\n",
      "5535/5535 [==============================] - 1s 98us/step - loss: 0.3319 - accuracy: 0.8477 - val_loss: 0.7657 - val_accuracy: 0.6440\n",
      "Epoch 49/50\n",
      "5535/5535 [==============================] - 1s 108us/step - loss: 0.3423 - accuracy: 0.8320 - val_loss: 0.8037 - val_accuracy: 0.6295\n",
      "Epoch 50/50\n",
      "5535/5535 [==============================] - 1s 104us/step - loss: 0.3333 - accuracy: 0.8390 - val_loss: 0.7745 - val_accuracy: 0.6403\n"
     ]
    },
    {
     "data": {
      "text/plain": [
       "<keras.callbacks.callbacks.History at 0x22da88bed48>"
      ]
     },
     "execution_count": 28,
     "metadata": {},
     "output_type": "execute_result"
    }
   ],
   "source": [
    "model.fit(X_train_norm_model, y_train_res, batch_size = 25, epochs = 50, validation_data = (X_val_norm, y_val), class_weight = class_weights, verbose = 1)"
   ]
  },
  {
   "cell_type": "markdown",
   "metadata": {},
   "source": [
    "## Model Evaluation"
   ]
  },
  {
   "cell_type": "code",
   "execution_count": 29,
   "metadata": {
    "scrolled": true
   },
   "outputs": [
    {
     "name": "stdout",
     "output_type": "stream",
     "text": [
      "7902/7902 [==============================] - 0s 20us/step\n"
     ]
    },
    {
     "data": {
      "text/plain": [
       "[0.7961789876471529, 0.6349025368690491]"
      ]
     },
     "execution_count": 29,
     "metadata": {},
     "output_type": "execute_result"
    }
   ],
   "source": [
    "model.evaluate(X_test_norm, y_test)"
   ]
  },
  {
   "cell_type": "markdown",
   "metadata": {},
   "source": [
    "## Confusion Matrix"
   ]
  },
  {
   "cell_type": "code",
   "execution_count": 30,
   "metadata": {},
   "outputs": [],
   "source": [
    "prediction = model.predict(X_test_norm)\n",
    "classfication = model.predict_classes(X_test_norm)\n",
    "pc = []\n",
    "for i in range(len(classfication)):\n",
    "    pc.append(classfication[i][0])\n",
    "realy = []\n",
    "for i in y_test:\n",
    "    realy.append(i)"
   ]
  },
  {
   "cell_type": "code",
   "execution_count": 31,
   "metadata": {},
   "outputs": [],
   "source": [
    "def cm(target,prediction):\n",
    "    result = pd.DataFrame({\"Target\": target, \"Prediction\": prediction})\n",
    "    table = pd.crosstab(result[\"Prediction\"],result[\"Target\"])\n",
    "    print(\"sensitivity:\",table.iloc[0,0]/table.iloc[:,0].sum())\n",
    "    print(\"specificity:\",table.iloc[1,1]/table.iloc[:,1].sum())\n",
    "    print(\"accuracy:\", (table.iloc[1,1] + table.iloc[0,0])/table.sum().sum())\n",
    "    return table"
   ]
  },
  {
   "cell_type": "code",
   "execution_count": 32,
   "metadata": {
    "scrolled": false
   },
   "outputs": [
    {
     "name": "stdout",
     "output_type": "stream",
     "text": [
      "sensitivity: 0.6392262072860774\n",
      "specificity: 0.5975609756097561\n",
      "accuracy: 0.634902556314857\n"
     ]
    },
    {
     "data": {
      "text/html": [
       "<div>\n",
       "<style scoped>\n",
       "    .dataframe tbody tr th:only-of-type {\n",
       "        vertical-align: middle;\n",
       "    }\n",
       "\n",
       "    .dataframe tbody tr th {\n",
       "        vertical-align: top;\n",
       "    }\n",
       "\n",
       "    .dataframe thead th {\n",
       "        text-align: right;\n",
       "    }\n",
       "</style>\n",
       "<table border=\"1\" class=\"dataframe\">\n",
       "  <thead>\n",
       "    <tr style=\"text-align: right;\">\n",
       "      <th>Target</th>\n",
       "      <th>0</th>\n",
       "      <th>1</th>\n",
       "    </tr>\n",
       "    <tr>\n",
       "      <th>Prediction</th>\n",
       "      <th></th>\n",
       "      <th></th>\n",
       "    </tr>\n",
       "  </thead>\n",
       "  <tbody>\n",
       "    <tr>\n",
       "      <th>0</th>\n",
       "      <td>4527</td>\n",
       "      <td>330</td>\n",
       "    </tr>\n",
       "    <tr>\n",
       "      <th>1</th>\n",
       "      <td>2555</td>\n",
       "      <td>490</td>\n",
       "    </tr>\n",
       "  </tbody>\n",
       "</table>\n",
       "</div>"
      ],
      "text/plain": [
       "Target         0    1\n",
       "Prediction           \n",
       "0           4527  330\n",
       "1           2555  490"
      ]
     },
     "execution_count": 32,
     "metadata": {},
     "output_type": "execute_result"
    }
   ],
   "source": [
    "cm(realy,pc)"
   ]
  },
  {
   "cell_type": "markdown",
   "metadata": {},
   "source": [
    "## ROC Curve"
   ]
  },
  {
   "cell_type": "code",
   "execution_count": 33,
   "metadata": {},
   "outputs": [],
   "source": [
    "probability = []\n",
    "for i in prediction.tolist():\n",
    "    probability.append(i[0])"
   ]
  },
  {
   "cell_type": "code",
   "execution_count": 34,
   "metadata": {},
   "outputs": [],
   "source": [
    "def roc(target, predicted):\n",
    "    fpr, tpr, threshold = roc_curve(target, predicted)\n",
    "    i = np.arange(len(tpr)) \n",
    "    roc = pd.DataFrame({'tf' : pd.Series(tpr-(1-fpr), index=i), 'threshold' : pd.Series(threshold, index=i)})\n",
    "    roc_t = roc.iloc[(roc.tf-0).abs().argsort()[:1]]\n",
    "    return list(roc_t['threshold']) "
   ]
  },
  {
   "cell_type": "code",
   "execution_count": 35,
   "metadata": {
    "scrolled": false
   },
   "outputs": [
    {
     "data": {
      "text/plain": [
       "[0.4737793207168579]"
      ]
     },
     "execution_count": 35,
     "metadata": {},
     "output_type": "execute_result"
    }
   ],
   "source": [
    "bestthreshold = roc(y_test.tolist(), probability)\n",
    "bestthreshold"
   ]
  },
  {
   "cell_type": "code",
   "execution_count": 36,
   "metadata": {},
   "outputs": [],
   "source": [
    "def plot_roc(target, predicted):\n",
    "    fp, tp, _ = roc_curve(target, predicted)\n",
    "    plt.plot(fp, tp, label='ROC', linewidth=4)\n",
    "    plt.xlabel('False Positive Rate')\n",
    "    plt.ylabel('True Positive Rate')\n",
    "    plt.plot(\n",
    "      [0, 1], [0, 1], \n",
    "      linestyle='--',  \n",
    "      color='r',\n",
    "      label='Chance'\n",
    "    )\n",
    "\n",
    "    plt.legend(loc=\"lower right\")"
   ]
  },
  {
   "cell_type": "code",
   "execution_count": 37,
   "metadata": {},
   "outputs": [
    {
     "data": {
      "image/png": "[encoded data removed]",
      "text/plain": [
       "<Figure size 432x288 with 1 Axes>"
      ]
     },
     "metadata": {
      "needs_background": "light"
     },
     "output_type": "display_data"
    }
   ],
   "source": [
    "plot_roc(y_test.tolist(), probability)"
   ]
  },
  {
   "cell_type": "code",
   "execution_count": 38,
   "metadata": {},
   "outputs": [],
   "source": [
    "def threshold_prediction(prediction, threshold):\n",
    "    Newprediction = np.where(prediction > threshold, 1, 0)\n",
    "    returnlist = []\n",
    "    for i in Newprediction:\n",
    "        returnlist.append(i[0])\n",
    "    return returnlist"
   ]
  },
  {
   "cell_type": "code",
   "execution_count": 39,
   "metadata": {
    "scrolled": true
   },
   "outputs": [
    {
     "name": "stdout",
     "output_type": "stream",
     "text": [
      "sensitivity: 0.6177633436882237\n",
      "specificity: 0.6170731707317073\n",
      "accuracy: 0.6176917236142748\n"
     ]
    },
    {
     "data": {
      "text/html": [
       "<div>\n",
       "<style scoped>\n",
       "    .dataframe tbody tr th:only-of-type {\n",
       "        vertical-align: middle;\n",
       "    }\n",
       "\n",
       "    .dataframe tbody tr th {\n",
       "        vertical-align: top;\n",
       "    }\n",
       "\n",
       "    .dataframe thead th {\n",
       "        text-align: right;\n",
       "    }\n",
       "</style>\n",
       "<table border=\"1\" class=\"dataframe\">\n",
       "  <thead>\n",
       "    <tr style=\"text-align: right;\">\n",
       "      <th>Target</th>\n",
       "      <th>0</th>\n",
       "      <th>1</th>\n",
       "    </tr>\n",
       "    <tr>\n",
       "      <th>Prediction</th>\n",
       "      <th></th>\n",
       "      <th></th>\n",
       "    </tr>\n",
       "  </thead>\n",
       "  <tbody>\n",
       "    <tr>\n",
       "      <th>0</th>\n",
       "      <td>4375</td>\n",
       "      <td>314</td>\n",
       "    </tr>\n",
       "    <tr>\n",
       "      <th>1</th>\n",
       "      <td>2707</td>\n",
       "      <td>506</td>\n",
       "    </tr>\n",
       "  </tbody>\n",
       "</table>\n",
       "</div>"
      ],
      "text/plain": [
       "Target         0    1\n",
       "Prediction           \n",
       "0           4375  314\n",
       "1           2707  506"
      ]
     },
     "execution_count": 39,
     "metadata": {},
     "output_type": "execute_result"
    }
   ],
   "source": [
    "cm(realy,threshold_prediction(prediction, bestthreshold))"
   ]
  },
  {
   "cell_type": "markdown",
   "metadata": {},
   "source": [
    "## Save Model"
   ]
  },
  {
   "cell_type": "code",
   "execution_count": 40,
   "metadata": {},
   "outputs": [],
   "source": [
    "model.save(\"HW2_Model.h5\")"
   ]
  },
  {
   "cell_type": "code",
   "execution_count": 41,
   "metadata": {},
   "outputs": [],
   "source": [
    "SaveModel = load_model(\"HW2_Model.h5\")"
   ]
  },
  {
   "cell_type": "code",
   "execution_count": 42,
   "metadata": {},
   "outputs": [
    {
     "name": "stdout",
     "output_type": "stream",
     "text": [
      "Model: \"sequential_1\"\n",
      "_________________________________________________________________\n",
      "Layer (type)                 Output Shape              Param #   \n",
      "=================================================================\n",
      "dense_1 (Dense)              (None, 100)               13700     \n",
      "_________________________________________________________________\n",
      "dropout_1 (Dropout)          (None, 100)               0         \n",
      "_________________________________________________________________\n",
      "dense_2 (Dense)              (None, 100)               10100     \n",
      "_________________________________________________________________\n",
      "dropout_2 (Dropout)          (None, 100)               0         \n",
      "_________________________________________________________________\n",
      "dense_3 (Dense)              (None, 1)                 101       \n",
      "=================================================================\n",
      "Total params: 23,901\n",
      "Trainable params: 23,901\n",
      "Non-trainable params: 0\n",
      "_________________________________________________________________\n"
     ]
    }
   ],
   "source": [
    "SaveModel.summary()"
   ]
  },
  {
   "cell_type": "code",
   "execution_count": 43,
   "metadata": {},
   "outputs": [
    {
     "name": "stdout",
     "output_type": "stream",
     "text": [
      "Model: \"sequential_1\"\n",
      "_________________________________________________________________\n",
      "Layer (type)                 Output Shape              Param #   \n",
      "=================================================================\n",
      "dense_1 (Dense)              (None, 100)               13700     \n",
      "_________________________________________________________________\n",
      "dropout_1 (Dropout)          (None, 100)               0         \n",
      "_________________________________________________________________\n",
      "dense_2 (Dense)              (None, 100)               10100     \n",
      "_________________________________________________________________\n",
      "dropout_2 (Dropout)          (None, 100)               0         \n",
      "_________________________________________________________________\n",
      "dense_3 (Dense)              (None, 1)                 101       \n",
      "=================================================================\n",
      "Total params: 23,901\n",
      "Trainable params: 23,901\n",
      "Non-trainable params: 0\n",
      "_________________________________________________________________\n"
     ]
    }
   ],
   "source": [
    "model.summary()"
   ]
  },
  {
   "cell_type": "markdown",
   "metadata": {},
   "source": [
    "## Summary"
   ]
  },
  {
   "cell_type": "markdown",
   "metadata": {},
   "source": [
    "(a) Overall discovery process <br>\n",
    "(b) List of variables used in the model <br>\n",
    "(c) Detailed analysis on model performance (e.g. ROC curves, confusion matrix, etc.) <br>\n",
    "(d) Limiting factors/issues encountered and assumptions made <br>\n"
   ]
  },
  {
   "cell_type": "markdown",
   "metadata": {},
   "source": [
    "### Overall process"
   ]
  },
  {
   "cell_type": "markdown",
   "metadata": {},
   "source": [
    "From the beginning of this discovery process, the first step is to remove NAs. For numerical variables, NAs were replaced by the mean of the column. For categorical variables, NAs were replaced by \"U\" which means unknown referring to the data dictionary. When counting NAs for each column, some columns have more than 50% NAs. These columns were removed. Next step is feature selection. Our target variable is categorical variable. When handling numerical input and categorical output, ANNOVA f-test was applied to find out the best 25. When handling categorical input and categorical output, chi-square was applied to find out the best 8 variables. <br>\n",
    "\n",
    "Then I used get dummy for categorical variable. And original data was splitted into train, validation and test set. Because this dataset is imbalanced, I tried oversampling and undersampling method. Finally I decided to use undersampling which will perform a better performance on accuracy for class 1. <br>\n",
    "\n",
    "Before creating model, I did normalize the train, validation and test dataset. By the way, validation and test set were normalized based on the scaling parameters of train. <br>\n",
    "\n",
    "I created deep learner model with 3 layers. The output is binary so I used sigmoid. "
   ]
  },
  {
   "cell_type": "markdown",
   "metadata": {},
   "source": [
    "### variables used in the model"
   ]
  },
  {
   "cell_type": "code",
   "execution_count": 44,
   "metadata": {},
   "outputs": [
    {
     "name": "stdout",
     "output_type": "stream",
     "text": [
      "['MosaicGlobalZip4', 'I4GenderCode', 'I2GenderCode', 'I2PersonType', 'I1PresenceofSSN', 'PhoneMatchType', 'HomeBusinessIndicator', 'I4PersonType', 'LifestyleMedicalPolicy', 'ActIntAttendsEducationProg', 'BuyerLuxuryHomeGoodShopper', 'ActIntEBookReader', 'ActIntPlaysTennis', 'StyleHighFreqCruiseEnthus', 'StyleHighFreqDomesticVac', 'StyleHighFreqForeignVac', 'StyleFrequentFlyerPrgMbr', 'StyleHotelGuestLoyaltyPrg', 'FinMajorCreditCardUser', 'AVGTRD', 'AVGTRDNVRDELDRG', 'AVGBCCTRD', 'AVGINQ', 'AVGREVTRD', 'CreditSeekers', 'AgePop3544', 'AgePop6599', 'AgePop7599', 'BuiltHUMedHUAge', 'EducPop25HSDiploma', 'EducPop25BachDegree', 'EmployPopFem16InLbFrc', 'EthnicPopAsian', 'IncHHHHInc010K', 'IncHHHHInc1014K', 'IncHHHHInc1519K', 'IncHHHHInc2024K', 'IncHHHHInc100124K', 'IncHHHHInc125149K', 'IncHHHHInc150199K', 'IncHHMedHHInc', 'IndusEmpldFinanceInsur', 'MortgOOHUOneMrtgOnly', 'MoveOCCHUMedLenofRes', 'EducISPSA', 'EducISPSADecile', 'IncFamilyIncStateIndex', 'IncFamilyIncStateDecile', 'HighvsLowAffluenceSco', 'EmplWageEarnvsOthersSco', 'OldervsNewerBuiltHomesSco', 'CAPERetailDemand_20580', 'TTSavvyresearchersHH', 'TTDigitalNewspaperHH', 'AmericanOrigin', 'AsianOrigin', 'ForeignvsDomestic', 'MorevsLessExpensive']\n"
     ]
    }
   ],
   "source": [
    "print(total)"
   ]
  },
  {
   "cell_type": "markdown",
   "metadata": {},
   "source": [
    "### ROC curves, confusion matrix"
   ]
  },
  {
   "cell_type": "markdown",
   "metadata": {},
   "source": [
    "Based on the model results, our accuracy is about 63%, specificity is about 56% and sensitivity is about 65%. This is not a good model based. But I have made a lot of attempts to get a better accuracy. For some attempts, accuracy was increased but the specificity was decreased which means the model is not predicting class 1 very well. If we want to get a higher accuracy on predicting class 1, the overall accuracy will be decreased."
   ]
  },
  {
   "cell_type": "markdown",
   "metadata": {},
   "source": [
    "### Assumptions/Limitation"
   ]
  },
  {
   "cell_type": "markdown",
   "metadata": {},
   "source": [
    "Because the data is imbalanced, we can only make up a balanced data. But the data in the real world is not balaced, I may think this is an limitation for training our model. <br>\n",
    "Too many NAs would cause some columns or rows useless."
   ]
  },
  {
   "cell_type": "markdown",
   "metadata": {},
   "source": [
    "Assumption for chi-square:<br>\n",
    "Each observation is independent of all the others <br>\n",
    "No more than 20% of the expected counts are less than 5 and individual expected counts are 1 or greater <br>"
   ]
  },
  {
   "cell_type": "markdown",
   "metadata": {},
   "source": [
    "Assumption for ANOVA F-test: <br>\n",
    "Each population from which a sample is taken is assumed to be normal. Each sample is randomly selected and independent. The populations are assumed to have equal standard deviations (or variances)."
   ]
  }
 ],
 "metadata": {
  "kernelspec": {
   "display_name": "Python 3",
   "language": "python",
   "name": "python3"
  },
  "language_info": {
   "codemirror_mode": {
    "name": "ipython",
    "version": 3
   },
   "file_extension": ".py",
   "mimetype": "text/x-python",
   "name": "python",
   "nbconvert_exporter": "python",
   "pygments_lexer": "ipython3",
   "version": "3.7.7"
  }
 },
 "nbformat": 4,
 "nbformat_minor": 4
}
