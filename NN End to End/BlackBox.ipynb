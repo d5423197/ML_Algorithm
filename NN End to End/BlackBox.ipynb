{
 "cells": [
  {
   "cell_type": "code",
   "execution_count": 1,
   "metadata": {},
   "outputs": [
    {
     "name": "stderr",
     "output_type": "stream",
     "text": [
      "Using TensorFlow backend.\n"
     ]
    }
   ],
   "source": [
    "import pandas as pd\n",
    "from keras.models import load_model\n",
    "from sklearn.preprocessing import StandardScaler\n",
    "from sklearn.metrics import confusion_matrix, accuracy_score, classification_report, roc_curve, roc_auc_score,plot_roc_curve\n",
    "import numpy as np\n",
    "import matplotlib.pyplot as plt\n",
    "from pickle import load"
   ]
  },
  {
   "cell_type": "code",
   "execution_count": 2,
   "metadata": {},
   "outputs": [],
   "source": [
    "def cm(target,prediction):\n",
    "    result = pd.DataFrame({\"Target\": target, \"Prediction\": prediction})\n",
    "    table = pd.crosstab(result[\"Prediction\"],result[\"Target\"])\n",
    "    print(\"\\n\")\n",
    "    print(\"sensitivity:\",table.iloc[0,0]/table.iloc[:,0].sum())\n",
    "    print(\"specificity:\",table.iloc[1,1]/table.iloc[:,1].sum())\n",
    "    print(\"accuracy:\", (table.iloc[1,1] + table.iloc[0,0])/table.sum().sum())\n",
    "    print(\"\\n\")\n",
    "    return table\n",
    "    \n",
    "def roc(target, predicted):\n",
    "    fpr, tpr, threshold = roc_curve(target, predicted)\n",
    "    i = np.arange(len(tpr)) \n",
    "    roc = pd.DataFrame({'tf' : pd.Series(tpr-(1-fpr), index=i), 'threshold' : pd.Series(threshold, index=i)})\n",
    "    roc_t = roc.iloc[(roc.tf-0).abs().argsort()[:1]]\n",
    "    return list(roc_t['threshold']) \n",
    "\n",
    "    \n",
    "def plot_roc(target, predicted):\n",
    "    fp, tp, _ = roc_curve(target, predicted)\n",
    "    plt.plot(fp, tp, label='ROC', linewidth=4)\n",
    "    plt.xlabel('False Positive Rate')\n",
    "    plt.ylabel('True Positive Rate')\n",
    "    plt.plot([0, 1], [0, 1], linestyle='--',  color='r',label='Chance')\n",
    "    plt.legend(loc=\"lower right\")"
   ]
  },
  {
   "cell_type": "code",
   "execution_count": 13,
   "metadata": {},
   "outputs": [],
   "source": [
    "def blackbox(testfile = None):\n",
    "    # assign X and y\n",
    "    data = pd.read_csv(testfile)\n",
    "    X = data.iloc[:,0:-1]\n",
    "    y = data.iloc[:,-1]\n",
    "    \n",
    "    # NA clean\n",
    "    categoricalColumn = []\n",
    "    nonCategoricalColumn = []\n",
    "    for col in X:\n",
    "        if X[col].dtype == \"object\":\n",
    "            categoricalColumn.append(col)\n",
    "        else:\n",
    "            nonCategoricalColumn.append(col)\n",
    "    for col in nonCategoricalColumn:\n",
    "        X[col].fillna((data[col].mean()), inplace = True)\n",
    "        \n",
    "    for col in categoricalColumn:\n",
    "        X[col].fillna(\"U\", inplace = True)\n",
    "    \n",
    "    # column selection\n",
    "    selectedColumn = load(open('total.pkl','rb'))    \n",
    "    \n",
    "    # onehotencode\n",
    "    X = pd.get_dummies(X[selectedColumn], drop_first = True)\n",
    "    \n",
    "    # import model\n",
    "    model = load_model(\"HW2_Model.h5\")\n",
    "    \n",
    "    # normalize\n",
    "    scale = load(open('scaler.pkl','rb'))\n",
    "    significantNon = load(open('significantNon.pkl','rb'))\n",
    "    X[significantNon] = scale.transform(X[significantNon])\n",
    "    X_train_norm_model = X\n",
    "  \n",
    "    \n",
    "    # evaluate model\n",
    "    evaluation = model.evaluate(X_train_norm_model, y)\n",
    "    \n",
    "    # get prediction and classfication\n",
    "    prediction = model.predict(X_train_norm_model)\n",
    "    classfication = model.predict_classes(X_train_norm_model)\n",
    "    pc = []\n",
    "    for i in range(len(classfication)):\n",
    "        pc.append(classfication[i][0])\n",
    "    realy = []\n",
    "    for i in y:\n",
    "        realy.append(i)\n",
    "        \n",
    "    # confusion matrix\n",
    "    print(\"-------------------------------------------------------------\")\n",
    "    print(\"Confusion Matrix is:\")\n",
    "    print(cm(realy,pc))\n",
    "    \n",
    "    # get probability\n",
    "    probability = []\n",
    "    for i in prediction.tolist():\n",
    "        probability.append(i[0])\n",
    "        \n",
    "    # ROC plot\n",
    "    plot_roc(y.tolist(), probability)\n",
    "    "
   ]
  },
  {
   "cell_type": "code",
   "execution_count": 14,
   "metadata": {
    "scrolled": false
   },
   "outputs": [
    {
     "name": "stderr",
     "output_type": "stream",
     "text": [
      "C:\\Users\\zhong\\anaconda3\\envs\\tensorflow\\lib\\site-packages\\IPython\\core\\interactiveshell.py:3254: DtypeWarning: Columns (328,336) have mixed types.Specify dtype option on import or set low_memory=False.\n",
      "  if (await self.run_code(code, result,  async_=asy)):\n"
     ]
    },
    {
     "name": "stdout",
     "output_type": "stream",
     "text": [
      "39508/39508 [==============================] - 1s 17us/step\n",
      "-------------------------------------------------------------\n",
      "Confusion Matrix is:\n",
      "\n",
      "\n",
      "sensitivity: 0.6601615454134658\n",
      "specificity: 0.795609756097561\n",
      "accuracy: 0.6742178799230536\n",
      "\n",
      "\n",
      "Target          0     1\n",
      "Prediction             \n",
      "0           23375   838\n",
      "1           12033  3262\n"
     ]
    },
    {
     "data": {
      "image/png": "[encoded data removed]",
      "text/plain": [
       "<Figure size 432x288 with 1 Axes>"
      ]
     },
     "metadata": {
      "needs_background": "light"
     },
     "output_type": "display_data"
    }
   ],
   "source": [
    "blackbox(testfile = \"Data.csv\")"
   ]
  },
  {
   "cell_type": "code",
   "execution_count": null,
   "metadata": {},
   "outputs": [],
   "source": []
  }
 ],
 "metadata": {
  "kernelspec": {
   "display_name": "Python 3",
   "language": "python",
   "name": "python3"
  },
  "language_info": {
   "codemirror_mode": {
    "name": "ipython",
    "version": 3
   },
   "file_extension": ".py",
   "mimetype": "text/x-python",
   "name": "python",
   "nbconvert_exporter": "python",
   "pygments_lexer": "ipython3",
   "version": "3.7.7"
  }
 },
 "nbformat": 4,
 "nbformat_minor": 4
}
