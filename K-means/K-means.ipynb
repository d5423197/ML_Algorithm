{
 "cells": [
  {
   "cell_type": "markdown",
   "metadata": {},
   "source": [
    "# HW3b"
   ]
  },
  {
   "cell_type": "markdown",
   "metadata": {},
   "source": [
    "## Problem 1"
   ]
  },
  {
   "cell_type": "code",
   "execution_count": 1,
   "metadata": {},
   "outputs": [],
   "source": [
    "import pandas as pd\n",
    "import numpy as np\n",
    "from matplotlib import pyplot as plt\n",
    "from numpy import linalg as LA\n",
    "import random\n",
    "import copy\n",
    "from sklearn.metrics import confusion_matrix\n",
    "from scipy.spatial import distance_matrix\n",
    "from scipy.spatial.distance import pdist,squareform"
   ]
  },
  {
   "cell_type": "code",
   "execution_count": 2,
   "metadata": {},
   "outputs": [],
   "source": [
    "df = pd.read_csv(\"kMeansData.csv\")"
   ]
  },
  {
   "cell_type": "code",
   "execution_count": 3,
   "metadata": {},
   "outputs": [],
   "source": [
    "x1 = np.array(df['x1'].values).reshape(-1,1)\n",
    "x2 = np.array(df['x2'].values).reshape(-1,1)\n",
    "X = np.hstack([x1,x2])"
   ]
  },
  {
   "cell_type": "code",
   "execution_count": 4,
   "metadata": {
    "scrolled": true
   },
   "outputs": [
    {
     "data": {
      "image/png": "[encoded data removed]",
      "text/plain": [
       "<Figure size 432x288 with 1 Axes>"
      ]
     },
     "metadata": {
      "needs_background": "light"
     },
     "output_type": "display_data"
    }
   ],
   "source": [
    "plt.scatter(x1, x2, c = 'red', s = 10)\n",
    "plt.title('Original Data Visulization')\n",
    "plt.xlabel('x1')\n",
    "plt.ylabel('x2')\n",
    "plt.show()"
   ]
  },
  {
   "cell_type": "code",
   "execution_count": 5,
   "metadata": {
    "scrolled": true
   },
   "outputs": [],
   "source": [
    "# randomly generate K numbers in range of length of X (K is the numer of cluster we need)\n",
    "# come out the corresponding row in X\n",
    "centroids = X[random.sample(range(1, len(X)), 3)] "
   ]
  },
  {
   "cell_type": "code",
   "execution_count": 6,
   "metadata": {},
   "outputs": [
    {
     "data": {
      "text/plain": [
       "array([[5.6, 2.1],\n",
       "       [5. , 1.5],\n",
       "       [5.3, 2.3]])"
      ]
     },
     "execution_count": 6,
     "metadata": {},
     "output_type": "execute_result"
    }
   ],
   "source": [
    "# initial centroids\n",
    "centroids"
   ]
  },
  {
   "cell_type": "code",
   "execution_count": 7,
   "metadata": {},
   "outputs": [
    {
     "data": {
      "image/png": "[encoded data removed]",
      "text/plain": [
       "<Figure size 432x288 with 1 Axes>"
      ]
     },
     "metadata": {
      "needs_background": "light"
     },
     "output_type": "display_data"
    }
   ],
   "source": [
    "# plot the data with initial centroids\n",
    "plt.scatter(x1, x2, c = 'black', s = 10)\n",
    "plt.scatter(centroids[:,0], centroids[:,1], c = 'red', s = 40)\n",
    "plt.title('Original Data Visulization with Initial Centroids')\n",
    "plt.xlabel('x1')\n",
    "plt.ylabel('x2')\n",
    "plt.show()"
   ]
  },
  {
   "cell_type": "code",
   "execution_count": 8,
   "metadata": {
    "scrolled": true
   },
   "outputs": [],
   "source": [
    "# set some constraints\n",
    "max_iteration = 1000 # set the max iteration as 1000\n",
    "difference = 1 \n",
    "iteration = 0 # set the iteration initially as 0\n",
    "cluster = [0]*len(X) # create a length of X list to store the label result of each row\n",
    "newC = np.zeros((3,2)) # create a 3 by 2 zero array to save new centroids\n",
    "# max iteration is 1000 or difference less than 0.001\n",
    "while iteration < max_iteration and difference != 0:    \n",
    "    for i in range(len(X)): # we want to run a for loop in X (all the data we have)\n",
    "        # use one row of data minus each centroid(3 by 2 matrix)\n",
    "        # apply L2 norm to each row of the 'minus' result that's why we use axis = 1 in argument\n",
    "        distance = LA.norm(X[i] - centroids, axis = 1)\n",
    "        # argmin function will return the position of minimum distance in distance array\n",
    "        label = np.argmin(distance)\n",
    "        # we save the label of that centroid into cluster\n",
    "        cluster[i] = label\n",
    "        # now we get a list of labeled cluster\n",
    "    for k in range(0,3): # we want to loop in k centroid, in this case, we have 3 centroids\n",
    "        datalist = [] # create a list to save the data corresponding to that centroid\n",
    "        for row in range(len(X)): # loop in X which is our data array\n",
    "            if cluster[row] == k: # when label in cluster list is equal to that label of centroid\n",
    "                datalist.append(X[row]) # datalist will append that row of X\n",
    "        # after this for loop, we would have a list of data that is corresponding to that centroid        \n",
    "        newC[k] = np.mean(datalist, axis = 0)\n",
    "        # then we calculate mean of array in a list\n",
    "        # because we append data horizontally, we set axis as 0 to calculate the mean horizontally\n",
    "    # after this for loop, we could have 3 new centroids saved in newC\n",
    "    difference = LA.norm(newC - centroids) # calculate the difference between new and old centroids using L2 norm\n",
    "    iteration+=1 # count for iteration\n",
    "    # copy value of newC to centroids\n",
    "    centroids = copy.deepcopy(newC) # we need deepcopy to conpy the value from newC, we dont want to make any change of newC"
   ]
  },
  {
   "cell_type": "code",
   "execution_count": 9,
   "metadata": {},
   "outputs": [
    {
     "data": {
      "text/plain": [
       "array([[5.62608696, 2.04782609],\n",
       "       [1.462     , 0.246     ],\n",
       "       [4.29259259, 1.35925926]])"
      ]
     },
     "execution_count": 9,
     "metadata": {},
     "output_type": "execute_result"
    }
   ],
   "source": [
    "centroids"
   ]
  },
  {
   "cell_type": "code",
   "execution_count": 10,
   "metadata": {
    "scrolled": true
   },
   "outputs": [
    {
     "data": {
      "image/png": "[encoded data removed]",
      "text/plain": [
       "<Figure size 432x288 with 1 Axes>"
      ]
     },
     "metadata": {
      "needs_background": "light"
     },
     "output_type": "display_data"
    }
   ],
   "source": [
    "color = np.array(['purple', 'blue', 'green'])\n",
    "plt.scatter(x1, x2, c = color[cluster], s = 20)\n",
    "plt.scatter(centroids[:,0], centroids[:,1], c = 'red', s = 40)\n",
    "plt.title('Original Data Visulization with Updated Centroids')\n",
    "plt.xlabel('x1')\n",
    "plt.ylabel('x2')\n",
    "plt.show()"
   ]
  },
  {
   "cell_type": "markdown",
   "metadata": {},
   "source": [
    "## Problem 2"
   ]
  },
  {
   "cell_type": "markdown",
   "metadata": {},
   "source": [
    "### Question 1"
   ]
  },
  {
   "cell_type": "code",
   "execution_count": 11,
   "metadata": {},
   "outputs": [],
   "source": [
    "dfp2 = pd.read_csv(\"rbfClassification.csv\")"
   ]
  },
  {
   "cell_type": "code",
   "execution_count": 12,
   "metadata": {},
   "outputs": [],
   "source": [
    "x1 = np.array(dfp2['x1'].values).reshape(-1,1)\n",
    "x2 = np.array(dfp2['x2'].values).reshape(-1,1)\n",
    "X = np.hstack([x1,x2])"
   ]
  },
  {
   "cell_type": "code",
   "execution_count": 13,
   "metadata": {},
   "outputs": [],
   "source": [
    "centroids = X[random.sample(range(1, len(X)), 2)] "
   ]
  },
  {
   "cell_type": "code",
   "execution_count": 14,
   "metadata": {},
   "outputs": [
    {
     "data": {
      "text/plain": [
       "array([[ 1.51379205, -2.31264989],\n",
       "       [ 1.95773338,  2.45968038]])"
      ]
     },
     "execution_count": 14,
     "metadata": {},
     "output_type": "execute_result"
    }
   ],
   "source": [
    "centroids"
   ]
  },
  {
   "cell_type": "code",
   "execution_count": 15,
   "metadata": {},
   "outputs": [],
   "source": [
    "# set some constraints\n",
    "max_iteration = 1000 # set the max iteration as 1000\n",
    "difference = 1 \n",
    "iteration = 0 # set the iteration initially as 0\n",
    "cluster = [0]*len(X) # create a length of X list to store the label result of each row\n",
    "newC = np.zeros((2,2)) # create a 3 by 2 zero array to save new centroids\n",
    "# max iteration is 1000 or difference less than 0.001\n",
    "while iteration < max_iteration and difference != 0:    \n",
    "    for i in range(len(X)): # we want to run a for loop in X (all the data we have)\n",
    "        # use one row of data minus each centroid(3 by 2 matrix)\n",
    "        # apply L2 norm to each row of the 'minus' result that's why we use axis = 1 in argument\n",
    "        distance = LA.norm(X[i] - centroids, axis = 1)\n",
    "        # argmin function will return the position of minimum distance in distance array\n",
    "        label = np.argmin(distance)\n",
    "        # we save the label of that centroid into cluster\n",
    "        cluster[i] = label\n",
    "        # now we get a list of labeled cluster\n",
    "    for k in range(0,2): # we want to loop in k centroid, in this case, we have 3 centroids\n",
    "        datalist = [] # create a list to save the data corresponding to that centroid\n",
    "        for row in range(len(X)): # loop in X which is our data array\n",
    "            if cluster[row] == k: # when label in cluster list is equal to that label of centroid\n",
    "                datalist.append(X[row]) # datalist will append that row of X\n",
    "        # after this for loop, we would have a list of data that is corresponding to that centroid        \n",
    "        newC[k] = np.mean(datalist, axis = 0)\n",
    "        # then we calculate mean of array in a list\n",
    "        # because we append data horizontally, we set axis as 0 to calculate the mean horizontally\n",
    "    # after this for loop, we could have 3 new centroids saved in newC\n",
    "    difference = LA.norm(newC - centroids) # calculate the difference between new and old centroids using L2 norm\n",
    "    iteration+=1 # count for iteration\n",
    "    # copy value of newC to centroids\n",
    "    centroids = copy.deepcopy(newC) # we need deepcopy to conpy the value from newC, we dont want to make any change of newC"
   ]
  },
  {
   "cell_type": "code",
   "execution_count": 16,
   "metadata": {},
   "outputs": [
    {
     "data": {
      "image/png": "[encoded data removed]",
      "text/plain": [
       "<Figure size 432x288 with 1 Axes>"
      ]
     },
     "metadata": {
      "needs_background": "light"
     },
     "output_type": "display_data"
    }
   ],
   "source": [
    "color = np.array(['purple', 'blue', 'green'])\n",
    "plt.scatter(x1, x2, c = color[cluster], s = 20)\n",
    "plt.scatter(centroids[:,0], centroids[:,1], c = 'red', s = 40)\n",
    "plt.title('Original Data Visulization with Updated Centroids')\n",
    "plt.xlabel('x1')\n",
    "plt.ylabel('x2')\n",
    "plt.show()"
   ]
  },
  {
   "cell_type": "code",
   "execution_count": 17,
   "metadata": {},
   "outputs": [
    {
     "data": {
      "text/plain": [
       "array([[ 0.7932724 , -1.99193126],\n",
       "       [-0.33773906,  1.84417764]])"
      ]
     },
     "execution_count": 17,
     "metadata": {},
     "output_type": "execute_result"
    }
   ],
   "source": [
    "centroids"
   ]
  }
 ],
 "metadata": {
  "kernelspec": {
   "display_name": "Python 3",
   "language": "python",
   "name": "python3"
  },
  "language_info": {
   "codemirror_mode": {
    "name": "ipython",
    "version": 3
   },
   "file_extension": ".py",
   "mimetype": "text/x-python",
   "name": "python",
   "nbconvert_exporter": "python",
   "pygments_lexer": "ipython3",
   "version": "3.7.7"
  }
 },
 "nbformat": 4,
 "nbformat_minor": 2
}
